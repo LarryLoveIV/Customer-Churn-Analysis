{
 "cells": [
  {
   "cell_type": "markdown",
   "metadata": {},
   "source": [
    "# Customer Churn Analysis - Jupyter Notebook"
   ]
  },
  {
   "cell_type": "markdown",
   "metadata": {},
   "source": [
    "## I. Introduction"
   ]
  },
  {
   "cell_type": "markdown",
   "metadata": {},
   "source": [
    "The dataset we are experimenting with was found [here](https://www.kaggle.com/blastchar/telco-customer-churn). To gain insight on what we are working with, I've copied and pasted the bulk of the description from the link:\n",
    "\n",
    "> **Context**\n",
    ">\n",
    "> \"Predict behavior to retain customers. You can analyze all relevant customer data and develop focused customer retention programs.\" \\[IBM Sample Data > Sets\\]\n",
    ">\n",
    "> **Content**\n",
    ">\n",
    "> Each row represents a customer, each column contains customer’s attributes described on the column Metadata.\n",
    ">\n",
    "> The data set includes information about:\n",
    ">\n",
    "> * Customers who left within the last month – the column is called Churn\n",
    "> * Services that each customer has signed up for – phone, multiple lines, internet, online security, online backup, device protection, tech support, and streaming TV and movies\n",
    "> * Customer account information – how long they’ve been a customer, contract, payment method, paperless billing, monthly charges, and total charges\n",
    "> * Demographic info about customers – gender, age range, and if they have partners and dependents\n"
   ]
  },
  {
   "cell_type": "markdown",
   "metadata": {},
   "source": [
    "The link above doesn't tell us much about the where the data is gathered from, but based on the description of the variables/columns, we can assume that this data is from a telecommuncations company similar to that of Verizon or Comcast.\n",
    "\n",
    "*Description of columns will be shown in the next section*\n",
    "\n",
    "As stated in the **Content** section, \"Churn\" refers to whether or not the customer left the company within the last month or stayed with the company. This will be our response variable.\n",
    "\n",
    "We're going to investigate this problem using **Random Forest**, **Decision Tree Classifiers**, and **Support Vector Machine** to see what information we can find. We can also use these methods to raise new questions and strategies for customer retention."
   ]
  },
  {
   "cell_type": "markdown",
   "metadata": {},
   "source": [
    "#### Libraries we'll use:"
   ]
  },
  {
   "cell_type": "markdown",
   "metadata": {},
   "source": [
    "* More libraries will be imported later in the project. Here below is what we need to get started."
   ]
  },
  {
   "cell_type": "code",
   "execution_count": 263,
   "metadata": {},
   "outputs": [],
   "source": [
    "import pandas as pd\n",
    "import numpy as np\n",
    "import matplotlib.pyplot as plt\n",
    "import seaborn as sns"
   ]
  },
  {
   "cell_type": "markdown",
   "metadata": {},
   "source": [
    "## II. Load the Dataset"
   ]
  },
  {
   "cell_type": "markdown",
   "metadata": {},
   "source": [
    "Let's get started by getting this dataset loaded into our notebook for a short glimpse of the data."
   ]
  },
  {
   "cell_type": "code",
   "execution_count": 216,
   "metadata": {},
   "outputs": [
    {
     "data": {
      "text/html": [
       "<div>\n",
       "<style scoped>\n",
       "    .dataframe tbody tr th:only-of-type {\n",
       "        vertical-align: middle;\n",
       "    }\n",
       "\n",
       "    .dataframe tbody tr th {\n",
       "        vertical-align: top;\n",
       "    }\n",
       "\n",
       "    .dataframe thead th {\n",
       "        text-align: right;\n",
       "    }\n",
       "</style>\n",
       "<table border=\"1\" class=\"dataframe\">\n",
       "  <thead>\n",
       "    <tr style=\"text-align: right;\">\n",
       "      <th></th>\n",
       "      <th>customerID</th>\n",
       "      <th>gender</th>\n",
       "      <th>SeniorCitizen</th>\n",
       "      <th>Partner</th>\n",
       "      <th>Dependents</th>\n",
       "      <th>tenure</th>\n",
       "      <th>PhoneService</th>\n",
       "      <th>MultipleLines</th>\n",
       "      <th>InternetService</th>\n",
       "      <th>OnlineSecurity</th>\n",
       "      <th>...</th>\n",
       "      <th>DeviceProtection</th>\n",
       "      <th>TechSupport</th>\n",
       "      <th>StreamingTV</th>\n",
       "      <th>StreamingMovies</th>\n",
       "      <th>Contract</th>\n",
       "      <th>PaperlessBilling</th>\n",
       "      <th>PaymentMethod</th>\n",
       "      <th>MonthlyCharges</th>\n",
       "      <th>TotalCharges</th>\n",
       "      <th>Churn</th>\n",
       "    </tr>\n",
       "  </thead>\n",
       "  <tbody>\n",
       "    <tr>\n",
       "      <th>0</th>\n",
       "      <td>7590-VHVEG</td>\n",
       "      <td>Female</td>\n",
       "      <td>0</td>\n",
       "      <td>Yes</td>\n",
       "      <td>No</td>\n",
       "      <td>1</td>\n",
       "      <td>No</td>\n",
       "      <td>No phone service</td>\n",
       "      <td>DSL</td>\n",
       "      <td>No</td>\n",
       "      <td>...</td>\n",
       "      <td>No</td>\n",
       "      <td>No</td>\n",
       "      <td>No</td>\n",
       "      <td>No</td>\n",
       "      <td>Month-to-month</td>\n",
       "      <td>Yes</td>\n",
       "      <td>Electronic check</td>\n",
       "      <td>29.85</td>\n",
       "      <td>29.85</td>\n",
       "      <td>No</td>\n",
       "    </tr>\n",
       "    <tr>\n",
       "      <th>1</th>\n",
       "      <td>5575-GNVDE</td>\n",
       "      <td>Male</td>\n",
       "      <td>0</td>\n",
       "      <td>No</td>\n",
       "      <td>No</td>\n",
       "      <td>34</td>\n",
       "      <td>Yes</td>\n",
       "      <td>No</td>\n",
       "      <td>DSL</td>\n",
       "      <td>Yes</td>\n",
       "      <td>...</td>\n",
       "      <td>Yes</td>\n",
       "      <td>No</td>\n",
       "      <td>No</td>\n",
       "      <td>No</td>\n",
       "      <td>One year</td>\n",
       "      <td>No</td>\n",
       "      <td>Mailed check</td>\n",
       "      <td>56.95</td>\n",
       "      <td>1889.5</td>\n",
       "      <td>No</td>\n",
       "    </tr>\n",
       "    <tr>\n",
       "      <th>2</th>\n",
       "      <td>3668-QPYBK</td>\n",
       "      <td>Male</td>\n",
       "      <td>0</td>\n",
       "      <td>No</td>\n",
       "      <td>No</td>\n",
       "      <td>2</td>\n",
       "      <td>Yes</td>\n",
       "      <td>No</td>\n",
       "      <td>DSL</td>\n",
       "      <td>Yes</td>\n",
       "      <td>...</td>\n",
       "      <td>No</td>\n",
       "      <td>No</td>\n",
       "      <td>No</td>\n",
       "      <td>No</td>\n",
       "      <td>Month-to-month</td>\n",
       "      <td>Yes</td>\n",
       "      <td>Mailed check</td>\n",
       "      <td>53.85</td>\n",
       "      <td>108.15</td>\n",
       "      <td>Yes</td>\n",
       "    </tr>\n",
       "    <tr>\n",
       "      <th>3</th>\n",
       "      <td>7795-CFOCW</td>\n",
       "      <td>Male</td>\n",
       "      <td>0</td>\n",
       "      <td>No</td>\n",
       "      <td>No</td>\n",
       "      <td>45</td>\n",
       "      <td>No</td>\n",
       "      <td>No phone service</td>\n",
       "      <td>DSL</td>\n",
       "      <td>Yes</td>\n",
       "      <td>...</td>\n",
       "      <td>Yes</td>\n",
       "      <td>Yes</td>\n",
       "      <td>No</td>\n",
       "      <td>No</td>\n",
       "      <td>One year</td>\n",
       "      <td>No</td>\n",
       "      <td>Bank transfer (automatic)</td>\n",
       "      <td>42.30</td>\n",
       "      <td>1840.75</td>\n",
       "      <td>No</td>\n",
       "    </tr>\n",
       "    <tr>\n",
       "      <th>4</th>\n",
       "      <td>9237-HQITU</td>\n",
       "      <td>Female</td>\n",
       "      <td>0</td>\n",
       "      <td>No</td>\n",
       "      <td>No</td>\n",
       "      <td>2</td>\n",
       "      <td>Yes</td>\n",
       "      <td>No</td>\n",
       "      <td>Fiber optic</td>\n",
       "      <td>No</td>\n",
       "      <td>...</td>\n",
       "      <td>No</td>\n",
       "      <td>No</td>\n",
       "      <td>No</td>\n",
       "      <td>No</td>\n",
       "      <td>Month-to-month</td>\n",
       "      <td>Yes</td>\n",
       "      <td>Electronic check</td>\n",
       "      <td>70.70</td>\n",
       "      <td>151.65</td>\n",
       "      <td>Yes</td>\n",
       "    </tr>\n",
       "  </tbody>\n",
       "</table>\n",
       "<p>5 rows × 21 columns</p>\n",
       "</div>"
      ],
      "text/plain": [
       "   customerID  gender  SeniorCitizen Partner Dependents  tenure PhoneService  \\\n",
       "0  7590-VHVEG  Female              0     Yes         No       1           No   \n",
       "1  5575-GNVDE    Male              0      No         No      34          Yes   \n",
       "2  3668-QPYBK    Male              0      No         No       2          Yes   \n",
       "3  7795-CFOCW    Male              0      No         No      45           No   \n",
       "4  9237-HQITU  Female              0      No         No       2          Yes   \n",
       "\n",
       "      MultipleLines InternetService OnlineSecurity  ... DeviceProtection  \\\n",
       "0  No phone service             DSL             No  ...               No   \n",
       "1                No             DSL            Yes  ...              Yes   \n",
       "2                No             DSL            Yes  ...               No   \n",
       "3  No phone service             DSL            Yes  ...              Yes   \n",
       "4                No     Fiber optic             No  ...               No   \n",
       "\n",
       "  TechSupport StreamingTV StreamingMovies        Contract PaperlessBilling  \\\n",
       "0          No          No              No  Month-to-month              Yes   \n",
       "1          No          No              No        One year               No   \n",
       "2          No          No              No  Month-to-month              Yes   \n",
       "3         Yes          No              No        One year               No   \n",
       "4          No          No              No  Month-to-month              Yes   \n",
       "\n",
       "               PaymentMethod MonthlyCharges  TotalCharges Churn  \n",
       "0           Electronic check          29.85         29.85    No  \n",
       "1               Mailed check          56.95        1889.5    No  \n",
       "2               Mailed check          53.85        108.15   Yes  \n",
       "3  Bank transfer (automatic)          42.30       1840.75    No  \n",
       "4           Electronic check          70.70        151.65   Yes  \n",
       "\n",
       "[5 rows x 21 columns]"
      ]
     },
     "execution_count": 216,
     "metadata": {},
     "output_type": "execute_result"
    }
   ],
   "source": [
    "data = pd.read_csv('./data/TelcoCustomerChurn.csv')\n",
    "data.head()"
   ]
  },
  {
   "cell_type": "markdown",
   "metadata": {},
   "source": [
    "Before we go any further, I will share a description of each column as described on the dataset's [Kaggle](https://www.kaggle.com/blastchar/telco-customer-churn) page. "
   ]
  },
  {
   "cell_type": "markdown",
   "metadata": {},
   "source": [
    "**customerID** Customer ID\n",
    "\n",
    "**gender** Whether the customer is a male or a female\n",
    "\n",
    "**SeniorCitizen** Whether the customer is a senior citizen or not (1, 0)\n",
    "\n",
    "**Partner** Whether the customer has a partner or not (Yes, No)\n",
    "\n",
    "**Dependents** Whether the customer has dependents or not (Yes, No)\n",
    "\n",
    "**tenure** Number of months the customer has stayed with the company\n",
    "\n",
    "**PhoneService** Whether the customer has a phone service or not (Yes, No)\n",
    "\n",
    "**MultipleLines** Whether the customer has multiple lines or not (Yes, No, No phone service)\n",
    "\n",
    "**InternetService** Customer’s internet service provider (DSL, Fiber optic, No)\n",
    "\n",
    "**OnlineSecurity** Whether the customer has online security or not (Yes, No, No internet service)\n",
    "\n",
    "**OnlineBackup** Whether the customer has online backup or not (Yes, No, No internet service)\n",
    "\n",
    "**DeviceProtection** Whether the customer has device protection or not (Yes, No, No internet service)\n",
    "\n",
    "**TechSupport** Whether the customer has tech support or not (Yes, No, No internet service)\n",
    "\n",
    "**StreamingTV** Whether the customer has streaming TV or not (Yes, No, No internet service)\n",
    "\n",
    "**StreamingMovies** Whether the customer has streaming movies or not (Yes, No, No internet service)\n",
    "\n",
    "**Contract** The contract term of the customer (Month-to-month, One year, Two year)\n",
    "\n",
    "**PaperlessBilling** Whether the customer has paperless billing or not (Yes, No)\n",
    "\n",
    "**PaymentMethod** The customer’s payment method (Electronic check, Mailed check, Bank transfer (automatic), Credit card (automatic))\n",
    "\n",
    "**MonthlyCharges** The amount charged to the customer monthly\n",
    "\n",
    "**TotalCharges** The total amount charged to the customer\n",
    "\n",
    "**Churn** Whether the customer churned or not (Yes or No)"
   ]
  },
  {
   "cell_type": "markdown",
   "metadata": {},
   "source": [
    "## III. Exploratory Data Analysis (EDA) & Data Manipulation"
   ]
  },
  {
   "cell_type": "markdown",
   "metadata": {},
   "source": [
    "First, lets view the size of this dataset, find out of anything is missing from it, and if we have any duplicate entries."
   ]
  },
  {
   "cell_type": "code",
   "execution_count": 5,
   "metadata": {},
   "outputs": [
    {
     "name": "stdout",
     "output_type": "stream",
     "text": [
      "We have 7043 rows of data with 21 columns.\n",
      "\n",
      "Number of duplicate rows: 0\n",
      "\n"
     ]
    }
   ],
   "source": [
    "print('We have %d rows of data with %d columns.\\n' % (data.shape[0], data.shape[1]))\n",
    "dups = data[data.duplicated()]\n",
    "print(\"Number of duplicate rows: %d\\n\" % len(dups))"
   ]
  },
  {
   "cell_type": "code",
   "execution_count": 6,
   "metadata": {},
   "outputs": [
    {
     "name": "stdout",
     "output_type": "stream",
     "text": [
      "<class 'pandas.core.frame.DataFrame'>\n",
      "RangeIndex: 7043 entries, 0 to 7042\n",
      "Data columns (total 21 columns):\n",
      " #   Column            Non-Null Count  Dtype  \n",
      "---  ------            --------------  -----  \n",
      " 0   customerID        7043 non-null   object \n",
      " 1   gender            7043 non-null   object \n",
      " 2   SeniorCitizen     7043 non-null   int64  \n",
      " 3   Partner           7043 non-null   object \n",
      " 4   Dependents        7043 non-null   object \n",
      " 5   tenure            7043 non-null   int64  \n",
      " 6   PhoneService      7043 non-null   object \n",
      " 7   MultipleLines     7043 non-null   object \n",
      " 8   InternetService   7043 non-null   object \n",
      " 9   OnlineSecurity    7043 non-null   object \n",
      " 10  OnlineBackup      7043 non-null   object \n",
      " 11  DeviceProtection  7043 non-null   object \n",
      " 12  TechSupport       7043 non-null   object \n",
      " 13  StreamingTV       7043 non-null   object \n",
      " 14  StreamingMovies   7043 non-null   object \n",
      " 15  Contract          7043 non-null   object \n",
      " 16  PaperlessBilling  7043 non-null   object \n",
      " 17  PaymentMethod     7043 non-null   object \n",
      " 18  MonthlyCharges    7043 non-null   float64\n",
      " 19  TotalCharges      7043 non-null   object \n",
      " 20  Churn             7043 non-null   object \n",
      "dtypes: float64(1), int64(2), object(18)\n",
      "memory usage: 1.1+ MB\n"
     ]
    }
   ],
   "source": [
    "data.info()"
   ]
  },
  {
   "cell_type": "code",
   "execution_count": 7,
   "metadata": {},
   "outputs": [
    {
     "data": {
      "text/html": [
       "<div>\n",
       "<style scoped>\n",
       "    .dataframe tbody tr th:only-of-type {\n",
       "        vertical-align: middle;\n",
       "    }\n",
       "\n",
       "    .dataframe tbody tr th {\n",
       "        vertical-align: top;\n",
       "    }\n",
       "\n",
       "    .dataframe thead th {\n",
       "        text-align: right;\n",
       "    }\n",
       "</style>\n",
       "<table border=\"1\" class=\"dataframe\">\n",
       "  <thead>\n",
       "    <tr style=\"text-align: right;\">\n",
       "      <th></th>\n",
       "      <th>SeniorCitizen</th>\n",
       "      <th>tenure</th>\n",
       "      <th>MonthlyCharges</th>\n",
       "    </tr>\n",
       "  </thead>\n",
       "  <tbody>\n",
       "    <tr>\n",
       "      <th>count</th>\n",
       "      <td>7043.000000</td>\n",
       "      <td>7043.000000</td>\n",
       "      <td>7043.000000</td>\n",
       "    </tr>\n",
       "    <tr>\n",
       "      <th>mean</th>\n",
       "      <td>0.162147</td>\n",
       "      <td>32.371149</td>\n",
       "      <td>64.761692</td>\n",
       "    </tr>\n",
       "    <tr>\n",
       "      <th>std</th>\n",
       "      <td>0.368612</td>\n",
       "      <td>24.559481</td>\n",
       "      <td>30.090047</td>\n",
       "    </tr>\n",
       "    <tr>\n",
       "      <th>min</th>\n",
       "      <td>0.000000</td>\n",
       "      <td>0.000000</td>\n",
       "      <td>18.250000</td>\n",
       "    </tr>\n",
       "    <tr>\n",
       "      <th>25%</th>\n",
       "      <td>0.000000</td>\n",
       "      <td>9.000000</td>\n",
       "      <td>35.500000</td>\n",
       "    </tr>\n",
       "    <tr>\n",
       "      <th>50%</th>\n",
       "      <td>0.000000</td>\n",
       "      <td>29.000000</td>\n",
       "      <td>70.350000</td>\n",
       "    </tr>\n",
       "    <tr>\n",
       "      <th>75%</th>\n",
       "      <td>0.000000</td>\n",
       "      <td>55.000000</td>\n",
       "      <td>89.850000</td>\n",
       "    </tr>\n",
       "    <tr>\n",
       "      <th>max</th>\n",
       "      <td>1.000000</td>\n",
       "      <td>72.000000</td>\n",
       "      <td>118.750000</td>\n",
       "    </tr>\n",
       "  </tbody>\n",
       "</table>\n",
       "</div>"
      ],
      "text/plain": [
       "       SeniorCitizen       tenure  MonthlyCharges\n",
       "count    7043.000000  7043.000000     7043.000000\n",
       "mean        0.162147    32.371149       64.761692\n",
       "std         0.368612    24.559481       30.090047\n",
       "min         0.000000     0.000000       18.250000\n",
       "25%         0.000000     9.000000       35.500000\n",
       "50%         0.000000    29.000000       70.350000\n",
       "75%         0.000000    55.000000       89.850000\n",
       "max         1.000000    72.000000      118.750000"
      ]
     },
     "execution_count": 7,
     "metadata": {},
     "output_type": "execute_result"
    }
   ],
   "source": [
    "data.describe()"
   ]
  },
  {
   "cell_type": "markdown",
   "metadata": {},
   "source": [
    "Next, we'll display some plots for the various columns to get a good understanding of how the data is distributed."
   ]
  },
  {
   "cell_type": "code",
   "execution_count": 8,
   "metadata": {},
   "outputs": [
    {
     "data": {
      "image/png": "[encoded data removed]",
      "text/plain": [
       "<Figure size 648x432 with 1 Axes>"
      ]
     },
     "metadata": {
      "needs_background": "light"
     },
     "output_type": "display_data"
    }
   ],
   "source": [
    "plt.figure(figsize = (9,6))\n",
    "ten_mean = np.mean(data['tenure'])\n",
    "ten_med = np.median(data['tenure'])\n",
    "_ = plt.hist(data[\"tenure\"], bins = 25, alpha = 0.65, color = 'green')\n",
    "_ = plt.title(\"tenure\", fontsize = 15)\n",
    "_ = plt.ylabel(\"Number of customers\", fontsize = 15)\n",
    "_ = plt.xlabel(\"Months\", fontsize = 15)\n",
    "_ = plt.xticks(np.arange(0, 75, step=6))\n",
    "_ = plt.axvline(ten_mean, color='red', linestyle='solid', linewidth=2, label = \"Mean %.2f\" % ten_mean)\n",
    "_ = plt.axvline(ten_med, color='blue', linestyle='solid', linewidth=2, label = \"Median %.2f\" % ten_med)\n",
    "_ = plt.legend(fontsize = 12)"
   ]
  },
  {
   "cell_type": "code",
   "execution_count": 5,
   "metadata": {},
   "outputs": [
    {
     "name": "stdout",
     "output_type": "stream",
     "text": [
      "Percentage of customers who left before 6 months? : 19.47%\n"
     ]
    }
   ],
   "source": [
    "print(\"Percentage of customers who left before 6 months? : %.2f%%\" % ((len(data[data['tenure'] < 6])) / len(data['tenure']) * 100))"
   ]
  },
  {
   "cell_type": "markdown",
   "metadata": {},
   "source": [
    "Wow, that is A LOT of people leaving in their first 5 months with the company, and then something happens around the 6 year mark that is also causing people to leave. Let's focus on those people leaving in the first 5 months and see if they are breaking contract or leaving their Month-to-month plans."
   ]
  },
  {
   "cell_type": "code",
   "execution_count": 24,
   "metadata": {},
   "outputs": [],
   "source": [
    "under_6 = data[data['tenure'] < 6]"
   ]
  },
  {
   "cell_type": "code",
   "execution_count": 25,
   "metadata": {},
   "outputs": [
    {
     "data": {
      "image/png": "[encoded data removed]",
      "text/plain": [
       "<Figure size 648x432 with 1 Axes>"
      ]
     },
     "metadata": {
      "needs_background": "light"
     },
     "output_type": "display_data"
    }
   ],
   "source": [
    "col_scheme = [\"#4374B3\", \"#FF0B04\" ]\n",
    "sns.set_palette(sns.color_palette(col_scheme))\n",
    "plt.figure(figsize=(9,6))\n",
    "sns.countplot('Contract', hue='Churn', data=under_6).set_title('Churn vs. PaymentMethod')\n",
    "\n",
    "plt.show()"
   ]
  },
  {
   "cell_type": "markdown",
   "metadata": {},
   "source": [
    "The good news here is that there aren't that many customers who become so disgruntled that they decide to break contract. The amount of Month-to-month customers leaving before 6 months is still alarming though."
   ]
  },
  {
   "cell_type": "code",
   "execution_count": 9,
   "metadata": {},
   "outputs": [
    {
     "data": {
      "image/png": "[encoded data removed]",
      "text/plain": [
       "<Figure size 720x432 with 1 Axes>"
      ]
     },
     "metadata": {
      "needs_background": "light"
     },
     "output_type": "display_data"
    }
   ],
   "source": [
    "plt.figure(figsize = (10,6))\n",
    "mc_mean = np.mean(data['MonthlyCharges'])\n",
    "mc_med = np.median(data['MonthlyCharges'])\n",
    "_ = plt.hist(data[\"MonthlyCharges\"], bins = 25, alpha = 0.65, color = 'green')\n",
    "_ = plt.xticks(np.arange(20, 125, step=5))\n",
    "_ = plt.title(\"MonthlyCharges\", fontsize = 15)\n",
    "_ = plt.ylabel(\"Number of customers\", fontsize = 15)\n",
    "_ = plt.xlabel(\"Monthly Bill Amount\", fontsize = 15)\n",
    "_ = plt.axvline(mc_mean, color='red', linestyle='solid', linewidth=2, label = \"Mean %.2f\" % mc_mean)\n",
    "_ = plt.axvline(mc_med, color='blue', linestyle='solid', linewidth=2, label = \"Median %.2f\" % mc_med)\n",
    "_ = plt.legend(fontsize = 12)"
   ]
  },
  {
   "cell_type": "code",
   "execution_count": 10,
   "metadata": {},
   "outputs": [
    {
     "name": "stdout",
     "output_type": "stream",
     "text": [
      "Percentage of customers with a Monthly Bill of $25 or less? : 19.96%\n"
     ]
    }
   ],
   "source": [
    "print(\"Percentage of customers with a Monthly Bill of $25 or less? : %.2f%%\" % ((len(data[data['MonthlyCharges'] < 25.01])) / len(data['MonthlyCharges']) * 100))"
   ]
  },
  {
   "cell_type": "markdown",
   "metadata": {},
   "source": [
    "For some odd reason, we run into an small issue here where **TotalCharges** is being read as a string variable. We'll coerce it to a float so we can proceed with our histogram."
   ]
  },
  {
   "cell_type": "code",
   "execution_count": 217,
   "metadata": {},
   "outputs": [],
   "source": [
    "# Convert data in 'TotalCharges' from string to float.\n",
    "data['TotalCharges'] = pd.to_numeric(data['TotalCharges'],errors='coerce')"
   ]
  },
  {
   "cell_type": "code",
   "execution_count": 218,
   "metadata": {},
   "outputs": [
    {
     "name": "stdout",
     "output_type": "stream",
     "text": [
      "How many missing values in 'TotalCharges' after coercion? : 11\n",
      "What percentage of the data are these missing values? : 0.16%\n"
     ]
    }
   ],
   "source": [
    "print(\"How many missing values in 'TotalCharges' after coercion? : %d\" % data['TotalCharges'].isnull().sum())\n",
    "print(\"What percentage of the data are these missing values? : %0.2f%%\" % ((data['TotalCharges'].isnull().sum()) / (len(data['TotalCharges'])) * 100))"
   ]
  },
  {
   "cell_type": "markdown",
   "metadata": {},
   "source": [
    "After coercion of **TotalCharges** from string to float, we see that we actaully do have some missing values. It is safe to assume that these values are simply missing at random, so we’ll just remove these observations considering they only account for **0.16%** of the data."
   ]
  },
  {
   "cell_type": "code",
   "execution_count": 219,
   "metadata": {},
   "outputs": [],
   "source": [
    "data2 = data[data[\"TotalCharges\"].notnull()] # Keep rows for which 'TotalCharges' has recorded data\n",
    "data2 = data2.reset_index()[data2.columns] # Reset the index of the dataframe"
   ]
  },
  {
   "cell_type": "code",
   "execution_count": 16,
   "metadata": {},
   "outputs": [
    {
     "data": {
      "image/png": "[encoded data removed]",
      "text/plain": [
       "<Figure size 1296x432 with 1 Axes>"
      ]
     },
     "metadata": {
      "needs_background": "light"
     },
     "output_type": "display_data"
    }
   ],
   "source": [
    "plt.figure(figsize = (18,6))\n",
    "tc_mean = np.mean(data2['TotalCharges'])\n",
    "tc_med = np.median(data2['TotalCharges'])\n",
    "_ = plt.hist(data2['TotalCharges'], bins = 25, alpha = 0.65, color = 'green')\n",
    "_ = plt.title('TotalCharges', fontsize = 15)\n",
    "_ = plt.ylabel(\"Number of customers\", fontsize = 15)\n",
    "_ = plt.xlabel(\"Total Amount Charged\", fontsize = 15)\n",
    "_ = plt.xticks(np.arange(0, 8800, 300))\n",
    "_ = plt.axvline(tc_mean, color='red', linestyle='solid', linewidth=2, label = \"Mean %.2f\" % tc_mean)\n",
    "_ = plt.axvline(tc_med, color='blue', linestyle='solid', linewidth=2, label = \"Median %.2f\" % tc_med)\n",
    "_ = plt.legend(fontsize = 12)"
   ]
  },
  {
   "cell_type": "code",
   "execution_count": 14,
   "metadata": {},
   "outputs": [
    {
     "name": "stdout",
     "output_type": "stream",
     "text": [
      "Percentage of customers with TotalCharges less than $300? : 21.33%\n"
     ]
    }
   ],
   "source": [
    "print(\"Percentage of customers with TotalCharges less than $300? : %.2f%%\" % ((len(data2[data2['TotalCharges'] < 300])) / len(data2['TotalCharges']) * 100))"
   ]
  },
  {
   "cell_type": "markdown",
   "metadata": {},
   "source": [
    "We had to stretch out this histogram in order to get a better look, but we see that **21.33%** of the customers had **TotalCharges** less than **\\$300**."
   ]
  },
  {
   "cell_type": "markdown",
   "metadata": {},
   "source": [
    "With the visuals above we can gather that:\n",
    "* Getting these customers to stay for even just 6 months is a major problem. This accounts for **19.34%** of customers in the dataset.\n",
    "* The minimum amount a customer can pay per month is **\\\\$18.25** and **19.94%** of customers are paying no more than **\\\\$6.75** of that minimum amount. \n",
    "* About 1/5th of the customers in this data set have only been charged less than **\\\\$300** total, which makes sense when we consider the previous two points."
   ]
  },
  {
   "cell_type": "markdown",
   "metadata": {},
   "source": [
    "Something else we should look into are the columns that have a relationship with **InternetService**. For columns **OnlineSecurity**, **OnlineBackup**, **DeviceProtection**, **TechSupport**, **StreamingTV**, **StreamingMovies** the responses are: 'Yes', 'No', and 'No internet service'. We should make sure that if a customer has no internet service they also have a response for the above columns of 'No internet service'. If this is the case across the board, we can change these columns to binary variables with responses of simply 'Yes' or 'No'.\n",
    "\n",
    "*This is technically a data preprocessing step, but thats okay, we can do it here. More on data preprocessing later.*"
   ]
  },
  {
   "cell_type": "code",
   "execution_count": 17,
   "metadata": {},
   "outputs": [],
   "source": [
    "no_www = data2[data2.InternetService == 'No'] # Subset customers that have no internet service"
   ]
  },
  {
   "cell_type": "code",
   "execution_count": 18,
   "metadata": {},
   "outputs": [
    {
     "name": "stdout",
     "output_type": "stream",
     "text": [
      "['No internet service']\n",
      "['No internet service']\n",
      "['No internet service']\n",
      "['No internet service']\n",
      "['No internet service']\n",
      "['No internet service']\n"
     ]
    }
   ],
   "source": [
    "# Check for unique values in the given columns. Should only print 'No internet service' to confirm our assumption.\n",
    "print(no_www['OnlineSecurity'].unique())\n",
    "print(no_www['OnlineBackup'].unique())\n",
    "print(no_www['DeviceProtection'].unique())\n",
    "print(no_www['TechSupport'].unique())\n",
    "print(no_www['StreamingTV'].unique())\n",
    "print(no_www['StreamingMovies'].unique())"
   ]
  },
  {
   "cell_type": "markdown",
   "metadata": {},
   "source": [
    "Confirmed! So, for the above columns/variables, we'll convert to binary. Which, in this case, simply means that we are removing a 3rd response option, leaving us with only 'Yes' or 'No'."
   ]
  },
  {
   "cell_type": "code",
   "execution_count": 19,
   "metadata": {},
   "outputs": [],
   "source": [
    "# Create a list for looping through the dataframe and converting to binary \n",
    "binaries = ['OnlineSecurity', 'OnlineBackup', 'DeviceProtection', 'TechSupport', 'StreamingTV', 'StreamingMovies']"
   ]
  },
  {
   "cell_type": "code",
   "execution_count": 20,
   "metadata": {},
   "outputs": [],
   "source": [
    "# Loop and replace\n",
    "for i in binaries:\n",
    "    data2[i] = data2[i].replace({'No internet service' : 'No'})"
   ]
  },
  {
   "cell_type": "markdown",
   "metadata": {},
   "source": [
    "Next, we'll just do a bit more data manipulation by keeping consistency with the rest of our variables."
   ]
  },
  {
   "cell_type": "code",
   "execution_count": 21,
   "metadata": {},
   "outputs": [],
   "source": [
    "data2[\"SeniorCitizen\"] = data2[\"SeniorCitizen\"].replace({1:\"Yes\",0:\"No\"})"
   ]
  },
  {
   "cell_type": "markdown",
   "metadata": {},
   "source": [
    "Let's take a look at the breakdown of customer churning."
   ]
  },
  {
   "cell_type": "code",
   "execution_count": 26,
   "metadata": {},
   "outputs": [
    {
     "data": {
      "image/png": "[encoded data removed]",
      "text/plain": [
       "<Figure size 864x432 with 2 Axes>"
      ]
     },
     "metadata": {},
     "output_type": "display_data"
    }
   ],
   "source": [
    "fig, (ax1, ax2) = plt.subplots(1,2)\n",
    "fig.set_figheight(6)\n",
    "fig.set_figwidth(12)\n",
    "\n",
    "ax1.pie(data2['Churn'].value_counts(), explode=(0,0.1), autopct='%1.1f%%',\n",
    "        shadow=True, startangle=90, labels=data2['Churn'].unique(), colors=col_scheme)\n",
    "fig.set_facecolor('white')\n",
    "\n",
    "ax2.bar(data2['Churn'].unique(), data2['Churn'].value_counts(), color=col_scheme)\n",
    "ax1.text(0.5, 0.0, \"Number of customers who stayed = %d\" % len(data2[data2['Churn'] == 'No']), size=12, ha=\"center\", \n",
    "         transform=ax1.transAxes)\n",
    "ax1.text(0.5,-0.1, \"Number of customers who left = %d\" % len(data2[data2['Churn'] == 'Yes']), size=12, ha=\"center\", \n",
    "         transform=ax1.transAxes)\n",
    "\n",
    "plt.suptitle('Churn')\n",
    "plt.show()"
   ]
  },
  {
   "cell_type": "markdown",
   "metadata": {},
   "source": [
    "Now let's look at customer churning against the different variables."
   ]
  },
  {
   "cell_type": "code",
   "execution_count": 27,
   "metadata": {},
   "outputs": [
    {
     "data": {
      "image/png": "[encoded data removed]",
      "text/plain": [
       "<Figure size 1800x1296 with 12 Axes>"
      ]
     },
     "metadata": {
      "needs_background": "light"
     },
     "output_type": "display_data"
    }
   ],
   "source": [
    "sns.set_palette(sns.color_palette(col_scheme))\n",
    "fig, ax =plt.subplots(3,4,figsize=(25,18))\n",
    "\n",
    "sns.countplot('gender', hue='Churn', data=data2, ax=ax[0,0])\n",
    "ax[0,0].set_title('Churn vs. gender')\n",
    "sns.countplot('SeniorCitizen', hue='Churn', data=data2, ax=ax[0,1])\n",
    "ax[0,1].set_title('Churn vs. SeniorCitizen')\n",
    "sns.countplot('Partner', hue='Churn', data=data2, ax=ax[0,2])\n",
    "ax[0,2].set_title('Churn vs. Partner')\n",
    "sns.countplot('Dependents', hue='Churn', data=data2, ax=ax[0,3])\n",
    "ax[0,3].set_title('Churn vs. Dependents')\n",
    "\n",
    "sns.countplot('PhoneService', hue='Churn', data=data2, ax=ax[1,0])\n",
    "ax[1,0].set_title('Churn vs. PhoneService')\n",
    "sns.countplot('MultipleLines', hue='Churn', data=data2, ax=ax[1,1])\n",
    "ax[1,1].set_title('Churn vs. MultipleLines')\n",
    "sns.countplot('InternetService', hue='Churn', data=data2, ax=ax[1,2])\n",
    "ax[1,2].set_title('Churn vs. InternetService')\n",
    "sns.countplot('OnlineSecurity', hue='Churn', data=data2, ax=ax[1,3])\n",
    "ax[1,3].set_title('Churn vs. OnlineSecurity')\n",
    "\n",
    "sns.countplot('OnlineBackup', hue='Churn', data=data2, ax=ax[2,0])\n",
    "ax[2,0].set_title('Churn vs. OnlineBackup')\n",
    "sns.countplot('DeviceProtection', hue='Churn', data=data2, ax=ax[2,1])\n",
    "ax[2,1].set_title('Churn vs. DeviceProtection')\n",
    "sns.countplot('TechSupport', hue='Churn', data=data2, ax=ax[2,2])\n",
    "ax[2,2].set_title('Churn vs. TechSupport')\n",
    "sns.countplot('StreamingTV', hue='Churn', data=data2, ax=ax[2,3])\n",
    "ax[2,3].set_title('Churn vs. StreamingTV')\n",
    "\n",
    "plt.show()"
   ]
  },
  {
   "cell_type": "markdown",
   "metadata": {},
   "source": [
    "Only a few things of note from these graphs above:\n",
    "* Senior Citizen customers luckily make up a small portion of the business because almost as many left as stayed.\n",
    "* The amount of customers with a partner versus with no partner is fairly even. But if we look at customers who don't have a partner and left the company, the amount is almost double those with a partner who left.\n",
    "* There are less customers using Fiber Optic **InternetService** than there are using DSL service. However, the amount of customers who left the company and had Fiber Optic **InternetService** versus the amount who left and had DSL is nearly double.\n",
    "* There seems to be a significant proportional difference in the Churn vs. StreamingTV graph"
   ]
  },
  {
   "cell_type": "code",
   "execution_count": 22,
   "metadata": {},
   "outputs": [
    {
     "data": {
      "image/png": "[encoded data removed]",
      "text/plain": [
       "<Figure size 1296x432 with 3 Axes>"
      ]
     },
     "metadata": {
      "needs_background": "light"
     },
     "output_type": "display_data"
    }
   ],
   "source": [
    "fig, ax = plt.subplots(1,3,figsize=(18,6))\n",
    "\n",
    "sns.countplot('StreamingMovies', hue='Churn', data=data2, ax=ax[0])\n",
    "ax[0].set_title('Churn vs. StreamingMovies')\n",
    "sns.countplot('Contract', hue='Churn', data=data2, ax=ax[1])\n",
    "ax[1].set_title('Churn vs. Contract')\n",
    "sns.countplot('PaperlessBilling', hue='Churn', data=data2, ax=ax[2])\n",
    "ax[2].set_title('Churn vs. PaperlessBilling')\n",
    "\n",
    "plt.show()"
   ]
  },
  {
   "cell_type": "markdown",
   "metadata": {},
   "source": [
    "Two things stand out from these three graphs above:\n",
    "* Look at all those Month-to-month customers who leave the company in the Churn vs. Contract graph! \n",
    "* Customers with paperless billing left at a much higher frequency than customers who recieve paper copies of their bill."
   ]
  },
  {
   "cell_type": "code",
   "execution_count": 23,
   "metadata": {},
   "outputs": [
    {
     "data": {
      "image/png": "[encoded data removed]",
      "text/plain": [
       "<Figure size 1080x504 with 1 Axes>"
      ]
     },
     "metadata": {
      "needs_background": "light"
     },
     "output_type": "display_data"
    }
   ],
   "source": [
    "plt.figure(figsize=(15,7))\n",
    "sns.countplot('PaymentMethod', hue='Churn', data=data2).set_title('Churn vs. PaymentMethod')\n",
    "\n",
    "plt.show()"
   ]
  },
  {
   "cell_type": "markdown",
   "metadata": {},
   "source": [
    "This is interesting: when it comes to payment methods, the amount of customers who paid by electronic check and churned is almost 4 times any other method of payment. The raw numbers are below."
   ]
  },
  {
   "cell_type": "code",
   "execution_count": 24,
   "metadata": {},
   "outputs": [
    {
     "data": {
      "text/html": [
       "<div>\n",
       "<style scoped>\n",
       "    .dataframe tbody tr th:only-of-type {\n",
       "        vertical-align: middle;\n",
       "    }\n",
       "\n",
       "    .dataframe tbody tr th {\n",
       "        vertical-align: top;\n",
       "    }\n",
       "\n",
       "    .dataframe thead th {\n",
       "        text-align: right;\n",
       "    }\n",
       "</style>\n",
       "<table border=\"1\" class=\"dataframe\">\n",
       "  <thead>\n",
       "    <tr style=\"text-align: right;\">\n",
       "      <th></th>\n",
       "      <th></th>\n",
       "      <th>Churn</th>\n",
       "    </tr>\n",
       "    <tr>\n",
       "      <th>PaymentMethod</th>\n",
       "      <th>Churn</th>\n",
       "      <th></th>\n",
       "    </tr>\n",
       "  </thead>\n",
       "  <tbody>\n",
       "    <tr>\n",
       "      <th rowspan=\"2\" valign=\"top\">Bank transfer (automatic)</th>\n",
       "      <th>No</th>\n",
       "      <td>1284</td>\n",
       "    </tr>\n",
       "    <tr>\n",
       "      <th>Yes</th>\n",
       "      <td>258</td>\n",
       "    </tr>\n",
       "    <tr>\n",
       "      <th rowspan=\"2\" valign=\"top\">Credit card (automatic)</th>\n",
       "      <th>No</th>\n",
       "      <td>1289</td>\n",
       "    </tr>\n",
       "    <tr>\n",
       "      <th>Yes</th>\n",
       "      <td>232</td>\n",
       "    </tr>\n",
       "    <tr>\n",
       "      <th rowspan=\"2\" valign=\"top\">Electronic check</th>\n",
       "      <th>No</th>\n",
       "      <td>1294</td>\n",
       "    </tr>\n",
       "    <tr>\n",
       "      <th>Yes</th>\n",
       "      <td>1071</td>\n",
       "    </tr>\n",
       "    <tr>\n",
       "      <th rowspan=\"2\" valign=\"top\">Mailed check</th>\n",
       "      <th>No</th>\n",
       "      <td>1296</td>\n",
       "    </tr>\n",
       "    <tr>\n",
       "      <th>Yes</th>\n",
       "      <td>308</td>\n",
       "    </tr>\n",
       "  </tbody>\n",
       "</table>\n",
       "</div>"
      ],
      "text/plain": [
       "                                 Churn\n",
       "PaymentMethod             Churn       \n",
       "Bank transfer (automatic) No      1284\n",
       "                          Yes      258\n",
       "Credit card (automatic)   No      1289\n",
       "                          Yes      232\n",
       "Electronic check          No      1294\n",
       "                          Yes     1071\n",
       "Mailed check              No      1296\n",
       "                          Yes      308"
      ]
     },
     "execution_count": 24,
     "metadata": {},
     "output_type": "execute_result"
    }
   ],
   "source": [
    "pay_meth = pd.DataFrame(data2.groupby(['PaymentMethod', 'Churn'])['Churn'].count())\n",
    "pay_meth"
   ]
  },
  {
   "cell_type": "markdown",
   "metadata": {},
   "source": [
    "## IV. Data Preprocessing"
   ]
  },
  {
   "cell_type": "markdown",
   "metadata": {},
   "source": [
    "#### More libraries:"
   ]
  },
  {
   "cell_type": "code",
   "execution_count": 152,
   "metadata": {},
   "outputs": [],
   "source": [
    "from sklearn.preprocessing import LabelEncoder\n",
    "from sklearn.preprocessing import StandardScaler\n",
    "from sklearn.pipeline import Pipeline\n",
    "from sklearn.compose import ColumnTransformer\n",
    "from sklearn.preprocessing import OneHotEncoder\n",
    "from sklearn.preprocessing import OrdinalEncoder\n",
    "from sklearn.model_selection import train_test_split"
   ]
  },
  {
   "cell_type": "markdown",
   "metadata": {},
   "source": [
    "The goal in this section, Data Preprocessing, is to get our data ready for modeling. In this project we will do that in three ways:\n",
    "1. We'll be creating dummy variables using `get_dummies()` from `pandas`. This will create new columns out of our categorical features. To demonstrate, Contract will get binary columns for each response: Contract_Month-to-month : 1 or 0, Contract_One year : 1 or 0, etc. and of course, 1 or 0 will be indicate Yes or No, respectively. Another (faster) way we could've done this is using a pipline with a column transformer. However, retaining the column names to learn about feature importances would be a hefty task. \n",
    "\n",
    "2. We will then take our continuous variables (**tenure**, **MonthlyCharges**, **TotalCharges**) and scale them using `StandardScaler()`. There is plenty to read on the internet about [Feature Scaling](https://en.wikipedia.org/wiki/Feature_scaling). Here is the short version: each value in a column is subtracted by the mean of the column, that number is then divided by the standard deviation of the column, that value now replaces the original value and the end result is that the new mean of the column is 0 and the new standard deviation is 1. The point of this process is to get our variables on the same scale for more effective learning.\n",
    "\n",
    "3. Before we do all that we will split the data in training and testing sets. The testing set will consist of 20% of the full dataset, which means that the training set will have 80% of the full dataset. The last thing to note is that we will stratify the data on the `Churn` feature, meaning that proportion of `Yes` and `No` `Chrun` responses in the full dataset will be the same in the training and testing sets.\n",
    "\n",
    "We'll be creating a pipeline to streamline this process using `ColumnTransformer()`."
   ]
  },
  {
   "cell_type": "code",
   "execution_count": 220,
   "metadata": {},
   "outputs": [],
   "source": [
    "# Drop 'customerID'\n",
    "data2.drop('customerID', axis=1, inplace=True)"
   ]
  },
  {
   "cell_type": "code",
   "execution_count": 225,
   "metadata": {},
   "outputs": [],
   "source": [
    "# List of categorical and continuous features\n",
    "cont_feats = ['tenure', 'MonthlyCharges', 'TotalCharges']\n",
    "cat_feats = [i for i in data2 if i not in cont_feats]\n",
    "cat_feats.remove('Churn')"
   ]
  },
  {
   "cell_type": "code",
   "execution_count": 226,
   "metadata": {},
   "outputs": [],
   "source": [
    "final_dat = pd.get_dummies(data2, columns=cat_feats)"
   ]
  },
  {
   "cell_type": "code",
   "execution_count": 232,
   "metadata": {},
   "outputs": [],
   "source": [
    "# Update of categorical features\n",
    "cat_feats = [i for i in final_dat if i not in cont_feats]\n",
    "cat_feats.remove('Churn')"
   ]
  },
  {
   "cell_type": "code",
   "execution_count": 233,
   "metadata": {},
   "outputs": [],
   "source": [
    "train_set, test_set = train_test_split(final_dat, test_size=0.2, random_state=42, stratify=final_dat['Churn'])"
   ]
  },
  {
   "cell_type": "code",
   "execution_count": 235,
   "metadata": {},
   "outputs": [],
   "source": [
    "data_tr = train_set[cont_feats+cat_feats].copy()\n",
    "train_labels = train_set['Churn'].copy()\n",
    "data_te = test_set[cont_feats+cat_feats].copy()\n",
    "test_labels = test_set['Churn'].copy()"
   ]
  },
  {
   "cell_type": "code",
   "execution_count": 236,
   "metadata": {},
   "outputs": [],
   "source": [
    "std_scal = StandardScaler()\n",
    "data_tr[cont_feats] = std_scal.fit_transform(data_tr[cont_feats])"
   ]
  },
  {
   "cell_type": "code",
   "execution_count": 238,
   "metadata": {},
   "outputs": [],
   "source": [
    "data_te[cont_feats] = std_scal.transform(data_te[cont_feats])"
   ]
  },
  {
   "cell_type": "markdown",
   "metadata": {},
   "source": [
    "## V. Modeling"
   ]
  },
  {
   "cell_type": "markdown",
   "metadata": {},
   "source": [
    "#### And even more libraries:"
   ]
  },
  {
   "cell_type": "code",
   "execution_count": 307,
   "metadata": {},
   "outputs": [],
   "source": [
    "from sklearn.model_selection import GridSearchCV\n",
    "from sklearn.ensemble import RandomForestClassifier\n",
    "from sklearn.tree import DecisionTreeClassifier\n",
    "from sklearn.svm import LinearSVC\n",
    "from sklearn.metrics import confusion_matrix\n",
    "from sklearn.metrics import accuracy_score\n",
    "from sklearn.metrics import classification_report\n",
    "from sklearn import tree\n",
    "from sklearn.tree import export_graphviz"
   ]
  },
  {
   "cell_type": "markdown",
   "metadata": {},
   "source": [
    "## V.i Random Forest"
   ]
  },
  {
   "cell_type": "markdown",
   "metadata": {},
   "source": [
    "Then, we build and run the model. We are going to implement **RandomizedSearchCV** to help us tune our model so we are using the best parameters from a list of different parameters we would like to train on."
   ]
  },
  {
   "cell_type": "code",
   "execution_count": 240,
   "metadata": {},
   "outputs": [],
   "source": [
    "# Outline parameters to test\n",
    "param_grid = {\n",
    "    'n_estimators': [300, 500, 800],\n",
    "    'max_features' : [7,8,9],\n",
    "    'max_depth' : [3,4,5,6]\n",
    "}"
   ]
  },
  {
   "cell_type": "code",
   "execution_count": 241,
   "metadata": {},
   "outputs": [
    {
     "data": {
      "text/plain": [
       "GridSearchCV(cv=5, error_score=nan,\n",
       "             estimator=RandomForestClassifier(bootstrap=True, ccp_alpha=0.0,\n",
       "                                              class_weight=None,\n",
       "                                              criterion='gini', max_depth=None,\n",
       "                                              max_features='auto',\n",
       "                                              max_leaf_nodes=None,\n",
       "                                              max_samples=None,\n",
       "                                              min_impurity_decrease=0.0,\n",
       "                                              min_impurity_split=None,\n",
       "                                              min_samples_leaf=1,\n",
       "                                              min_samples_split=2,\n",
       "                                              min_weight_fraction_leaf=0.0,\n",
       "                                              n_estimators=100, n_jobs=None,\n",
       "                                              oob_score=False,\n",
       "                                              random_state=None, verbose=0,\n",
       "                                              warm_start=False),\n",
       "             iid='deprecated', n_jobs=None,\n",
       "             param_grid={'max_depth': [3, 4, 5, 6], 'max_features': [7, 8, 9],\n",
       "                         'n_estimators': [300, 500, 800]},\n",
       "             pre_dispatch='2*n_jobs', refit=True, return_train_score=True,\n",
       "             scoring='accuracy', verbose=0)"
      ]
     },
     "execution_count": 241,
     "metadata": {},
     "output_type": "execute_result"
    }
   ],
   "source": [
    "rf_clf = RandomForestClassifier()\n",
    "rf_grid = GridSearchCV(rf_clf, param_grid, cv=5, scoring='accuracy',\n",
    "                           return_train_score=True)\n",
    "rf_grid.fit(data_tr, train_labels)"
   ]
  },
  {
   "cell_type": "code",
   "execution_count": 242,
   "metadata": {},
   "outputs": [
    {
     "data": {
      "text/html": [
       "<div>\n",
       "<style scoped>\n",
       "    .dataframe tbody tr th:only-of-type {\n",
       "        vertical-align: middle;\n",
       "    }\n",
       "\n",
       "    .dataframe tbody tr th {\n",
       "        vertical-align: top;\n",
       "    }\n",
       "\n",
       "    .dataframe thead th {\n",
       "        text-align: right;\n",
       "    }\n",
       "</style>\n",
       "<table border=\"1\" class=\"dataframe\">\n",
       "  <thead>\n",
       "    <tr style=\"text-align: right;\">\n",
       "      <th></th>\n",
       "      <th>Train_Error</th>\n",
       "      <th>Test_Error</th>\n",
       "      <th>Parameter_Set</th>\n",
       "    </tr>\n",
       "  </thead>\n",
       "  <tbody>\n",
       "    <tr>\n",
       "      <th>26</th>\n",
       "      <td>0.809733</td>\n",
       "      <td>0.798400</td>\n",
       "      <td>{'max_depth': 5, 'max_features': 9, 'n_estimators': 800}</td>\n",
       "    </tr>\n",
       "    <tr>\n",
       "      <th>27</th>\n",
       "      <td>0.816978</td>\n",
       "      <td>0.798933</td>\n",
       "      <td>{'max_depth': 6, 'max_features': 7, 'n_estimators': 300}</td>\n",
       "    </tr>\n",
       "    <tr>\n",
       "      <th>28</th>\n",
       "      <td>0.817067</td>\n",
       "      <td>0.799467</td>\n",
       "      <td>{'max_depth': 6, 'max_features': 7, 'n_estimators': 500}</td>\n",
       "    </tr>\n",
       "    <tr>\n",
       "      <th>29</th>\n",
       "      <td>0.817244</td>\n",
       "      <td>0.798933</td>\n",
       "      <td>{'max_depth': 6, 'max_features': 7, 'n_estimators': 800}</td>\n",
       "    </tr>\n",
       "    <tr>\n",
       "      <th>30</th>\n",
       "      <td>0.817556</td>\n",
       "      <td>0.798933</td>\n",
       "      <td>{'max_depth': 6, 'max_features': 8, 'n_estimators': 300}</td>\n",
       "    </tr>\n",
       "    <tr>\n",
       "      <th>31</th>\n",
       "      <td>0.818533</td>\n",
       "      <td>0.800533</td>\n",
       "      <td>{'max_depth': 6, 'max_features': 8, 'n_estimators': 500}</td>\n",
       "    </tr>\n",
       "    <tr>\n",
       "      <th>32</th>\n",
       "      <td>0.818178</td>\n",
       "      <td>0.800356</td>\n",
       "      <td>{'max_depth': 6, 'max_features': 8, 'n_estimators': 800}</td>\n",
       "    </tr>\n",
       "    <tr>\n",
       "      <th>33</th>\n",
       "      <td>0.819244</td>\n",
       "      <td>0.799467</td>\n",
       "      <td>{'max_depth': 6, 'max_features': 9, 'n_estimators': 300}</td>\n",
       "    </tr>\n",
       "    <tr>\n",
       "      <th>34</th>\n",
       "      <td>0.820533</td>\n",
       "      <td>0.800711</td>\n",
       "      <td>{'max_depth': 6, 'max_features': 9, 'n_estimators': 500}</td>\n",
       "    </tr>\n",
       "    <tr>\n",
       "      <th>35</th>\n",
       "      <td>0.819244</td>\n",
       "      <td>0.801422</td>\n",
       "      <td>{'max_depth': 6, 'max_features': 9, 'n_estimators': 800}</td>\n",
       "    </tr>\n",
       "  </tbody>\n",
       "</table>\n",
       "</div>"
      ],
      "text/plain": [
       "    Train_Error  Test_Error  \\\n",
       "26     0.809733    0.798400   \n",
       "27     0.816978    0.798933   \n",
       "28     0.817067    0.799467   \n",
       "29     0.817244    0.798933   \n",
       "30     0.817556    0.798933   \n",
       "31     0.818533    0.800533   \n",
       "32     0.818178    0.800356   \n",
       "33     0.819244    0.799467   \n",
       "34     0.820533    0.800711   \n",
       "35     0.819244    0.801422   \n",
       "\n",
       "                                               Parameter_Set  \n",
       "26  {'max_depth': 5, 'max_features': 9, 'n_estimators': 800}  \n",
       "27  {'max_depth': 6, 'max_features': 7, 'n_estimators': 300}  \n",
       "28  {'max_depth': 6, 'max_features': 7, 'n_estimators': 500}  \n",
       "29  {'max_depth': 6, 'max_features': 7, 'n_estimators': 800}  \n",
       "30  {'max_depth': 6, 'max_features': 8, 'n_estimators': 300}  \n",
       "31  {'max_depth': 6, 'max_features': 8, 'n_estimators': 500}  \n",
       "32  {'max_depth': 6, 'max_features': 8, 'n_estimators': 800}  \n",
       "33  {'max_depth': 6, 'max_features': 9, 'n_estimators': 300}  \n",
       "34  {'max_depth': 6, 'max_features': 9, 'n_estimators': 500}  \n",
       "35  {'max_depth': 6, 'max_features': 9, 'n_estimators': 800}  "
      ]
     },
     "execution_count": 242,
     "metadata": {},
     "output_type": "execute_result"
    }
   ],
   "source": [
    "cvres = rf_grid.cv_results_\n",
    "grid_rf_df = pd.DataFrame({\n",
    "    \"Train_Error\": cvres[\"mean_train_score\"],\n",
    "    \"Test_Error\": cvres[\"mean_test_score\"],\n",
    "    \"Parameter_Set\": cvres[\"params\"],\n",
    "}).sort_index()\n",
    "pd.set_option('display.max_colwidth', None)\n",
    "grid_rf_df.tail(10)"
   ]
  },
  {
   "cell_type": "code",
   "execution_count": 303,
   "metadata": {},
   "outputs": [],
   "source": [
    "final_model = rf_grid.best_estimator_\n",
    "rf_preds = final_model.predict(data_te)\n",
    "rfmod_pred_score = accuracy_score(test_labels, rf_preds)"
   ]
  },
  {
   "cell_type": "code",
   "execution_count": 304,
   "metadata": {},
   "outputs": [
    {
     "name": "stdout",
     "output_type": "stream",
     "text": [
      "Train error rate = 19.86%\n",
      "Test error rate = 20.75%\n"
     ]
    }
   ],
   "source": [
    "print('Train error rate = %.2f%%' % ((1 - rf_grid.best_score_) * 100))\n",
    "print('Test error rate = %.2f%%' % ((1 - rfmod_pred_score) * 100))"
   ]
  },
  {
   "cell_type": "markdown",
   "metadata": {},
   "source": [
    "So, after we run and score the model, we are getting a test error rate of **20.75%**. In other words, **79.25%** of the time we are able to correctly predict whether a customer is going to **Churn** or not, and **20.75%** of the time we are incorrect in our prediction. Our testing and training error rates are pretty close as well, we me have some slight overfitting in place, but nothing severe - this model should generalize well on new data. Let's investigate further."
   ]
  },
  {
   "cell_type": "code",
   "execution_count": 305,
   "metadata": {},
   "outputs": [
    {
     "data": {
      "image/png": "[encoded data removed]",
      "text/plain": [
       "<Figure size 432x288 with 1 Axes>"
      ]
     },
     "metadata": {
      "needs_background": "light"
     },
     "output_type": "display_data"
    },
    {
     "name": "stdout",
     "output_type": "stream",
     "text": [
      "Total predictions = 1407\n"
     ]
    }
   ],
   "source": [
    "mat = confusion_matrix(test_labels, rf_preds)\n",
    "sns.heatmap(mat.T, square=True, annot=True, fmt='d', cbar=False, cmap='RdBu')\n",
    "plt.xlabel('Actual Churn', size=15)\n",
    "plt.ylabel('Predicted Churn', size=15)\n",
    "plt.show()\n",
    "print('Total predictions = %d' % len(test_labels))"
   ]
  },
  {
   "cell_type": "markdown",
   "metadata": {},
   "source": [
    "The plot above is called a confusion matrix. The X axis is the actual value from the data set, the y axis is the predicted value. Here is what the confusion matrix tells us:\n",
    "* The model predicted that 1125 customers **would not** churn. Of those predictions, the model was correct **82.93%** of the time.\n",
    "* The model predicted that 282 customers **would** churn. Of those predictions, the model was correct **64.54%** of the time.\n",
    "\n",
    "The model does fairly well in predicting that customers will stay, but not so much in predicting that a customer will leave.\n",
    "\n",
    "Next, we'll look at which features the model considered most important for making its predictions."
   ]
  },
  {
   "cell_type": "code",
   "execution_count": 247,
   "metadata": {},
   "outputs": [
    {
     "data": {
      "text/html": [
       "<div>\n",
       "<style scoped>\n",
       "    .dataframe tbody tr th:only-of-type {\n",
       "        vertical-align: middle;\n",
       "    }\n",
       "\n",
       "    .dataframe tbody tr th {\n",
       "        vertical-align: top;\n",
       "    }\n",
       "\n",
       "    .dataframe thead th {\n",
       "        text-align: right;\n",
       "    }\n",
       "</style>\n",
       "<table border=\"1\" class=\"dataframe\">\n",
       "  <thead>\n",
       "    <tr style=\"text-align: right;\">\n",
       "      <th></th>\n",
       "      <th>Importance</th>\n",
       "    </tr>\n",
       "  </thead>\n",
       "  <tbody>\n",
       "    <tr>\n",
       "      <th>Contract_Month-to-month</th>\n",
       "      <td>0.187420</td>\n",
       "    </tr>\n",
       "    <tr>\n",
       "      <th>tenure</th>\n",
       "      <td>0.144937</td>\n",
       "    </tr>\n",
       "    <tr>\n",
       "      <th>TotalCharges</th>\n",
       "      <td>0.093592</td>\n",
       "    </tr>\n",
       "    <tr>\n",
       "      <th>OnlineSecurity_No</th>\n",
       "      <td>0.092156</td>\n",
       "    </tr>\n",
       "    <tr>\n",
       "      <th>TechSupport_No</th>\n",
       "      <td>0.066117</td>\n",
       "    </tr>\n",
       "    <tr>\n",
       "      <th>InternetService_Fiber optic</th>\n",
       "      <td>0.064380</td>\n",
       "    </tr>\n",
       "    <tr>\n",
       "      <th>MonthlyCharges</th>\n",
       "      <td>0.055476</td>\n",
       "    </tr>\n",
       "    <tr>\n",
       "      <th>PaymentMethod_Electronic check</th>\n",
       "      <td>0.046735</td>\n",
       "    </tr>\n",
       "    <tr>\n",
       "      <th>Contract_Two year</th>\n",
       "      <td>0.037902</td>\n",
       "    </tr>\n",
       "    <tr>\n",
       "      <th>InternetService_DSL</th>\n",
       "      <td>0.024486</td>\n",
       "    </tr>\n",
       "    <tr>\n",
       "      <th>OnlineBackup_No</th>\n",
       "      <td>0.020044</td>\n",
       "    </tr>\n",
       "    <tr>\n",
       "      <th>Contract_One year</th>\n",
       "      <td>0.018339</td>\n",
       "    </tr>\n",
       "    <tr>\n",
       "      <th>OnlineSecurity_Yes</th>\n",
       "      <td>0.014964</td>\n",
       "    </tr>\n",
       "    <tr>\n",
       "      <th>TechSupport_Yes</th>\n",
       "      <td>0.010924</td>\n",
       "    </tr>\n",
       "    <tr>\n",
       "      <th>DeviceProtection_No</th>\n",
       "      <td>0.010823</td>\n",
       "    </tr>\n",
       "    <tr>\n",
       "      <th>InternetService_No</th>\n",
       "      <td>0.006550</td>\n",
       "    </tr>\n",
       "    <tr>\n",
       "      <th>PaperlessBilling_No</th>\n",
       "      <td>0.005707</td>\n",
       "    </tr>\n",
       "    <tr>\n",
       "      <th>PaperlessBilling_Yes</th>\n",
       "      <td>0.005582</td>\n",
       "    </tr>\n",
       "    <tr>\n",
       "      <th>OnlineSecurity_No internet service</th>\n",
       "      <td>0.005499</td>\n",
       "    </tr>\n",
       "    <tr>\n",
       "      <th>OnlineBackup_Yes</th>\n",
       "      <td>0.005399</td>\n",
       "    </tr>\n",
       "    <tr>\n",
       "      <th>StreamingTV_No internet service</th>\n",
       "      <td>0.005348</td>\n",
       "    </tr>\n",
       "    <tr>\n",
       "      <th>OnlineBackup_No internet service</th>\n",
       "      <td>0.005033</td>\n",
       "    </tr>\n",
       "    <tr>\n",
       "      <th>DeviceProtection_No internet service</th>\n",
       "      <td>0.004841</td>\n",
       "    </tr>\n",
       "    <tr>\n",
       "      <th>TechSupport_No internet service</th>\n",
       "      <td>0.004744</td>\n",
       "    </tr>\n",
       "    <tr>\n",
       "      <th>MultipleLines_Yes</th>\n",
       "      <td>0.004551</td>\n",
       "    </tr>\n",
       "    <tr>\n",
       "      <th>StreamingMovies_No internet service</th>\n",
       "      <td>0.004274</td>\n",
       "    </tr>\n",
       "    <tr>\n",
       "      <th>StreamingTV_Yes</th>\n",
       "      <td>0.004254</td>\n",
       "    </tr>\n",
       "    <tr>\n",
       "      <th>SeniorCitizen_1</th>\n",
       "      <td>0.003911</td>\n",
       "    </tr>\n",
       "    <tr>\n",
       "      <th>SeniorCitizen_0</th>\n",
       "      <td>0.003836</td>\n",
       "    </tr>\n",
       "    <tr>\n",
       "      <th>StreamingMovies_Yes</th>\n",
       "      <td>0.003643</td>\n",
       "    </tr>\n",
       "    <tr>\n",
       "      <th>Dependents_Yes</th>\n",
       "      <td>0.003390</td>\n",
       "    </tr>\n",
       "    <tr>\n",
       "      <th>StreamingTV_No</th>\n",
       "      <td>0.003270</td>\n",
       "    </tr>\n",
       "    <tr>\n",
       "      <th>MultipleLines_No</th>\n",
       "      <td>0.003237</td>\n",
       "    </tr>\n",
       "    <tr>\n",
       "      <th>Dependents_No</th>\n",
       "      <td>0.003185</td>\n",
       "    </tr>\n",
       "    <tr>\n",
       "      <th>StreamingMovies_No</th>\n",
       "      <td>0.003126</td>\n",
       "    </tr>\n",
       "    <tr>\n",
       "      <th>PaymentMethod_Bank transfer (automatic)</th>\n",
       "      <td>0.002727</td>\n",
       "    </tr>\n",
       "    <tr>\n",
       "      <th>Partner_No</th>\n",
       "      <td>0.002689</td>\n",
       "    </tr>\n",
       "    <tr>\n",
       "      <th>Partner_Yes</th>\n",
       "      <td>0.002465</td>\n",
       "    </tr>\n",
       "    <tr>\n",
       "      <th>PaymentMethod_Credit card (automatic)</th>\n",
       "      <td>0.002253</td>\n",
       "    </tr>\n",
       "    <tr>\n",
       "      <th>gender_Female</th>\n",
       "      <td>0.002234</td>\n",
       "    </tr>\n",
       "    <tr>\n",
       "      <th>gender_Male</th>\n",
       "      <td>0.002024</td>\n",
       "    </tr>\n",
       "    <tr>\n",
       "      <th>PaymentMethod_Mailed check</th>\n",
       "      <td>0.001889</td>\n",
       "    </tr>\n",
       "    <tr>\n",
       "      <th>DeviceProtection_Yes</th>\n",
       "      <td>0.001625</td>\n",
       "    </tr>\n",
       "    <tr>\n",
       "      <th>PhoneService_No</th>\n",
       "      <td>0.001514</td>\n",
       "    </tr>\n",
       "    <tr>\n",
       "      <th>MultipleLines_No phone service</th>\n",
       "      <td>0.001481</td>\n",
       "    </tr>\n",
       "    <tr>\n",
       "      <th>PhoneService_Yes</th>\n",
       "      <td>0.001423</td>\n",
       "    </tr>\n",
       "  </tbody>\n",
       "</table>\n",
       "</div>"
      ],
      "text/plain": [
       "                                         Importance\n",
       "Contract_Month-to-month                    0.187420\n",
       "tenure                                     0.144937\n",
       "TotalCharges                               0.093592\n",
       "OnlineSecurity_No                          0.092156\n",
       "TechSupport_No                             0.066117\n",
       "InternetService_Fiber optic                0.064380\n",
       "MonthlyCharges                             0.055476\n",
       "PaymentMethod_Electronic check             0.046735\n",
       "Contract_Two year                          0.037902\n",
       "InternetService_DSL                        0.024486\n",
       "OnlineBackup_No                            0.020044\n",
       "Contract_One year                          0.018339\n",
       "OnlineSecurity_Yes                         0.014964\n",
       "TechSupport_Yes                            0.010924\n",
       "DeviceProtection_No                        0.010823\n",
       "InternetService_No                         0.006550\n",
       "PaperlessBilling_No                        0.005707\n",
       "PaperlessBilling_Yes                       0.005582\n",
       "OnlineSecurity_No internet service         0.005499\n",
       "OnlineBackup_Yes                           0.005399\n",
       "StreamingTV_No internet service            0.005348\n",
       "OnlineBackup_No internet service           0.005033\n",
       "DeviceProtection_No internet service       0.004841\n",
       "TechSupport_No internet service            0.004744\n",
       "MultipleLines_Yes                          0.004551\n",
       "StreamingMovies_No internet service        0.004274\n",
       "StreamingTV_Yes                            0.004254\n",
       "SeniorCitizen_1                            0.003911\n",
       "SeniorCitizen_0                            0.003836\n",
       "StreamingMovies_Yes                        0.003643\n",
       "Dependents_Yes                             0.003390\n",
       "StreamingTV_No                             0.003270\n",
       "MultipleLines_No                           0.003237\n",
       "Dependents_No                              0.003185\n",
       "StreamingMovies_No                         0.003126\n",
       "PaymentMethod_Bank transfer (automatic)    0.002727\n",
       "Partner_No                                 0.002689\n",
       "Partner_Yes                                0.002465\n",
       "PaymentMethod_Credit card (automatic)      0.002253\n",
       "gender_Female                              0.002234\n",
       "gender_Male                                0.002024\n",
       "PaymentMethod_Mailed check                 0.001889\n",
       "DeviceProtection_Yes                       0.001625\n",
       "PhoneService_No                            0.001514\n",
       "MultipleLines_No phone service             0.001481\n",
       "PhoneService_Yes                           0.001423"
      ]
     },
     "execution_count": 247,
     "metadata": {},
     "output_type": "execute_result"
    }
   ],
   "source": [
    "rf_importances = pd.DataFrame(rf_grid.best_estimator_.feature_importances_,\n",
    "                                   index = data_tr.columns,\n",
    "                                    columns=['Importance']).sort_values('Importance', ascending=False)\n",
    "top_6 = rf_importances[rf_importances['Importance'] > .06]\n",
    "rf_importances"
   ]
  },
  {
   "cell_type": "code",
   "execution_count": 248,
   "metadata": {},
   "outputs": [
    {
     "data": {
      "image/png": "[encoded data removed]",
      "text/plain": [
       "<Figure size 936x576 with 1 Axes>"
      ]
     },
     "metadata": {
      "needs_background": "light"
     },
     "output_type": "display_data"
    }
   ],
   "source": [
    "plt.figure(figsize=(13,8))\n",
    "ax = sns.barplot(top_6.index, top_6['Importance'])\n",
    "ax.set_xticklabels(ax.get_xticklabels(), rotation=45, fontsize=12)\n",
    "plt.show()"
   ]
  },
  {
   "cell_type": "markdown",
   "metadata": {},
   "source": [
    "The barplot above tells us that the most important feature in making predictions is **Contract_Month-to-month**, followed by **tenure**, **TotalCharges**, **OnlineSecurity_No**, **TechSupport_No**, and **InternetService_Fiber optic**, respectively."
   ]
  },
  {
   "cell_type": "markdown",
   "metadata": {},
   "source": [
    "## V.ii Decision Tree Classifier"
   ]
  },
  {
   "cell_type": "markdown",
   "metadata": {},
   "source": [
    "Now lets play with Decision Tree Classifiers and see if we get any better performance."
   ]
  },
  {
   "cell_type": "code",
   "execution_count": 249,
   "metadata": {},
   "outputs": [],
   "source": [
    "# Outline parameters to test\n",
    "param_grid = {\n",
    "    'criterion': ['gini', 'entropy'],\n",
    "    'splitter' : ['best', 'random'],\n",
    "    'max_features' : [4,5,6],\n",
    "    'max_depth' : [3,4,5]\n",
    "}"
   ]
  },
  {
   "cell_type": "code",
   "execution_count": 251,
   "metadata": {},
   "outputs": [
    {
     "data": {
      "text/plain": [
       "GridSearchCV(cv=5, error_score=nan,\n",
       "             estimator=DecisionTreeClassifier(ccp_alpha=0.0, class_weight=None,\n",
       "                                              criterion='gini', max_depth=None,\n",
       "                                              max_features=None,\n",
       "                                              max_leaf_nodes=None,\n",
       "                                              min_impurity_decrease=0.0,\n",
       "                                              min_impurity_split=None,\n",
       "                                              min_samples_leaf=1,\n",
       "                                              min_samples_split=2,\n",
       "                                              min_weight_fraction_leaf=0.0,\n",
       "                                              presort='deprecated',\n",
       "                                              random_state=None,\n",
       "                                              splitter='best'),\n",
       "             iid='deprecated', n_jobs=None,\n",
       "             param_grid={'criterion': ['gini', 'entropy'],\n",
       "                         'max_depth': [3, 4, 5], 'max_features': [4, 5, 6],\n",
       "                         'splitter': ['best', 'random']},\n",
       "             pre_dispatch='2*n_jobs', refit=True, return_train_score=True,\n",
       "             scoring='accuracy', verbose=0)"
      ]
     },
     "execution_count": 251,
     "metadata": {},
     "output_type": "execute_result"
    }
   ],
   "source": [
    "dt_clf = DecisionTreeClassifier()\n",
    "dt_grid = GridSearchCV(dt_clf, param_grid, cv=5, scoring='accuracy',\n",
    "                           return_train_score=True)\n",
    "dt_grid.fit(data_tr, train_labels)"
   ]
  },
  {
   "cell_type": "code",
   "execution_count": 253,
   "metadata": {},
   "outputs": [
    {
     "data": {
      "text/html": [
       "<div>\n",
       "<style scoped>\n",
       "    .dataframe tbody tr th:only-of-type {\n",
       "        vertical-align: middle;\n",
       "    }\n",
       "\n",
       "    .dataframe tbody tr th {\n",
       "        vertical-align: top;\n",
       "    }\n",
       "\n",
       "    .dataframe thead th {\n",
       "        text-align: right;\n",
       "    }\n",
       "</style>\n",
       "<table border=\"1\" class=\"dataframe\">\n",
       "  <thead>\n",
       "    <tr style=\"text-align: right;\">\n",
       "      <th></th>\n",
       "      <th>Train_Error</th>\n",
       "      <th>Test_Error</th>\n",
       "      <th>Parameter_Set</th>\n",
       "    </tr>\n",
       "  </thead>\n",
       "  <tbody>\n",
       "    <tr>\n",
       "      <th>26</th>\n",
       "      <td>0.779644</td>\n",
       "      <td>0.767111</td>\n",
       "      <td>{'criterion': 'entropy', 'max_depth': 4, 'max_features': 5, 'splitter': 'best'}</td>\n",
       "    </tr>\n",
       "    <tr>\n",
       "      <th>27</th>\n",
       "      <td>0.760178</td>\n",
       "      <td>0.754311</td>\n",
       "      <td>{'criterion': 'entropy', 'max_depth': 4, 'max_features': 5, 'splitter': 'random'}</td>\n",
       "    </tr>\n",
       "    <tr>\n",
       "      <th>28</th>\n",
       "      <td>0.782622</td>\n",
       "      <td>0.777956</td>\n",
       "      <td>{'criterion': 'entropy', 'max_depth': 4, 'max_features': 6, 'splitter': 'best'}</td>\n",
       "    </tr>\n",
       "    <tr>\n",
       "      <th>29</th>\n",
       "      <td>0.776844</td>\n",
       "      <td>0.767644</td>\n",
       "      <td>{'criterion': 'entropy', 'max_depth': 4, 'max_features': 6, 'splitter': 'random'}</td>\n",
       "    </tr>\n",
       "    <tr>\n",
       "      <th>30</th>\n",
       "      <td>0.779556</td>\n",
       "      <td>0.777244</td>\n",
       "      <td>{'criterion': 'entropy', 'max_depth': 5, 'max_features': 4, 'splitter': 'best'}</td>\n",
       "    </tr>\n",
       "    <tr>\n",
       "      <th>31</th>\n",
       "      <td>0.755111</td>\n",
       "      <td>0.751111</td>\n",
       "      <td>{'criterion': 'entropy', 'max_depth': 5, 'max_features': 4, 'splitter': 'random'}</td>\n",
       "    </tr>\n",
       "    <tr>\n",
       "      <th>32</th>\n",
       "      <td>0.781467</td>\n",
       "      <td>0.772444</td>\n",
       "      <td>{'criterion': 'entropy', 'max_depth': 5, 'max_features': 5, 'splitter': 'best'}</td>\n",
       "    </tr>\n",
       "    <tr>\n",
       "      <th>33</th>\n",
       "      <td>0.771378</td>\n",
       "      <td>0.763733</td>\n",
       "      <td>{'criterion': 'entropy', 'max_depth': 5, 'max_features': 5, 'splitter': 'random'}</td>\n",
       "    </tr>\n",
       "    <tr>\n",
       "      <th>34</th>\n",
       "      <td>0.788667</td>\n",
       "      <td>0.781867</td>\n",
       "      <td>{'criterion': 'entropy', 'max_depth': 5, 'max_features': 6, 'splitter': 'best'}</td>\n",
       "    </tr>\n",
       "    <tr>\n",
       "      <th>35</th>\n",
       "      <td>0.776667</td>\n",
       "      <td>0.766400</td>\n",
       "      <td>{'criterion': 'entropy', 'max_depth': 5, 'max_features': 6, 'splitter': 'random'}</td>\n",
       "    </tr>\n",
       "  </tbody>\n",
       "</table>\n",
       "</div>"
      ],
      "text/plain": [
       "    Train_Error  Test_Error  \\\n",
       "26     0.779644    0.767111   \n",
       "27     0.760178    0.754311   \n",
       "28     0.782622    0.777956   \n",
       "29     0.776844    0.767644   \n",
       "30     0.779556    0.777244   \n",
       "31     0.755111    0.751111   \n",
       "32     0.781467    0.772444   \n",
       "33     0.771378    0.763733   \n",
       "34     0.788667    0.781867   \n",
       "35     0.776667    0.766400   \n",
       "\n",
       "                                                                        Parameter_Set  \n",
       "26    {'criterion': 'entropy', 'max_depth': 4, 'max_features': 5, 'splitter': 'best'}  \n",
       "27  {'criterion': 'entropy', 'max_depth': 4, 'max_features': 5, 'splitter': 'random'}  \n",
       "28    {'criterion': 'entropy', 'max_depth': 4, 'max_features': 6, 'splitter': 'best'}  \n",
       "29  {'criterion': 'entropy', 'max_depth': 4, 'max_features': 6, 'splitter': 'random'}  \n",
       "30    {'criterion': 'entropy', 'max_depth': 5, 'max_features': 4, 'splitter': 'best'}  \n",
       "31  {'criterion': 'entropy', 'max_depth': 5, 'max_features': 4, 'splitter': 'random'}  \n",
       "32    {'criterion': 'entropy', 'max_depth': 5, 'max_features': 5, 'splitter': 'best'}  \n",
       "33  {'criterion': 'entropy', 'max_depth': 5, 'max_features': 5, 'splitter': 'random'}  \n",
       "34    {'criterion': 'entropy', 'max_depth': 5, 'max_features': 6, 'splitter': 'best'}  \n",
       "35  {'criterion': 'entropy', 'max_depth': 5, 'max_features': 6, 'splitter': 'random'}  "
      ]
     },
     "execution_count": 253,
     "metadata": {},
     "output_type": "execute_result"
    }
   ],
   "source": [
    "cvres = dt_grid.cv_results_\n",
    "grid_dt_df = pd.DataFrame({\n",
    "    \"Train_Error\": cvres[\"mean_train_score\"],\n",
    "    \"Test_Error\": cvres[\"mean_test_score\"],\n",
    "    \"Parameter_Set\": cvres[\"params\"],\n",
    "}).sort_index()\n",
    "pd.set_option('display.max_colwidth', None)\n",
    "grid_dt_df.tail(10)"
   ]
  },
  {
   "cell_type": "code",
   "execution_count": 300,
   "metadata": {},
   "outputs": [],
   "source": [
    "final_model = dt_grid.best_estimator_\n",
    "dt_preds = final_model.predict(data_te)\n",
    "dtmod_pred_score = accuracy_score(test_labels, dt_preds)"
   ]
  },
  {
   "cell_type": "code",
   "execution_count": 301,
   "metadata": {},
   "outputs": [
    {
     "name": "stdout",
     "output_type": "stream",
     "text": [
      "Train error rate = 21.72%\n",
      "Test error rate = 22.96%\n"
     ]
    }
   ],
   "source": [
    "print('Train error rate = %.2f%%' % ((1 - dt_grid.best_score_) * 100))\n",
    "print('Test error rate = %.2f%%' % ((1 - dtmod_pred_score) * 100))"
   ]
  },
  {
   "cell_type": "code",
   "execution_count": 302,
   "metadata": {},
   "outputs": [
    {
     "data": {
      "image/png": "[encoded data removed]",
      "text/plain": [
       "<Figure size 432x288 with 1 Axes>"
      ]
     },
     "metadata": {
      "needs_background": "light"
     },
     "output_type": "display_data"
    }
   ],
   "source": [
    "mat = confusion_matrix(test_labels, dt_preds)\n",
    "sns.heatmap(mat.T, square=True, annot=True, fmt='d', cbar=False, cmap='RdBu')\n",
    "plt.xlabel('Actual Churn', size=15)\n",
    "plt.ylabel('Predicted Churn', size=15)\n",
    "plt.show()"
   ]
  },
  {
   "cell_type": "markdown",
   "metadata": {},
   "source": [
    "Here is what this confusion matrix tells us:\n",
    "* The model predicted that 1014 customers **would not** churn. Of those predictions, the model was correct **85.01%** of the time.\n",
    "* The model predicted that 393 customers **would** churn. Of those predictions, the model was correct **56.49%** of the time.\n",
    "\n",
    "The model does a better job than Random Forest in predicting that customers will stay, but not so much in predicting that a customer will leave."
   ]
  },
  {
   "cell_type": "code",
   "execution_count": 260,
   "metadata": {},
   "outputs": [
    {
     "data": {
      "text/html": [
       "<div>\n",
       "<style scoped>\n",
       "    .dataframe tbody tr th:only-of-type {\n",
       "        vertical-align: middle;\n",
       "    }\n",
       "\n",
       "    .dataframe tbody tr th {\n",
       "        vertical-align: top;\n",
       "    }\n",
       "\n",
       "    .dataframe thead th {\n",
       "        text-align: right;\n",
       "    }\n",
       "</style>\n",
       "<table border=\"1\" class=\"dataframe\">\n",
       "  <thead>\n",
       "    <tr style=\"text-align: right;\">\n",
       "      <th></th>\n",
       "      <th>Importance</th>\n",
       "    </tr>\n",
       "  </thead>\n",
       "  <tbody>\n",
       "    <tr>\n",
       "      <th>TechSupport_No</th>\n",
       "      <td>0.454880</td>\n",
       "    </tr>\n",
       "    <tr>\n",
       "      <th>Contract_Month-to-month</th>\n",
       "      <td>0.178967</td>\n",
       "    </tr>\n",
       "    <tr>\n",
       "      <th>Contract_Two year</th>\n",
       "      <td>0.106535</td>\n",
       "    </tr>\n",
       "    <tr>\n",
       "      <th>InternetService_DSL</th>\n",
       "      <td>0.075477</td>\n",
       "    </tr>\n",
       "    <tr>\n",
       "      <th>TotalCharges</th>\n",
       "      <td>0.060220</td>\n",
       "    </tr>\n",
       "    <tr>\n",
       "      <th>InternetService_Fiber optic</th>\n",
       "      <td>0.046592</td>\n",
       "    </tr>\n",
       "    <tr>\n",
       "      <th>tenure</th>\n",
       "      <td>0.022262</td>\n",
       "    </tr>\n",
       "    <tr>\n",
       "      <th>MonthlyCharges</th>\n",
       "      <td>0.015970</td>\n",
       "    </tr>\n",
       "    <tr>\n",
       "      <th>Dependents_Yes</th>\n",
       "      <td>0.009022</td>\n",
       "    </tr>\n",
       "    <tr>\n",
       "      <th>Partner_No</th>\n",
       "      <td>0.006539</td>\n",
       "    </tr>\n",
       "    <tr>\n",
       "      <th>PaperlessBilling_No</th>\n",
       "      <td>0.004519</td>\n",
       "    </tr>\n",
       "    <tr>\n",
       "      <th>OnlineSecurity_No</th>\n",
       "      <td>0.004392</td>\n",
       "    </tr>\n",
       "    <tr>\n",
       "      <th>MultipleLines_No phone service</th>\n",
       "      <td>0.003993</td>\n",
       "    </tr>\n",
       "    <tr>\n",
       "      <th>DeviceProtection_No</th>\n",
       "      <td>0.003127</td>\n",
       "    </tr>\n",
       "    <tr>\n",
       "      <th>PaymentMethod_Electronic check</th>\n",
       "      <td>0.002067</td>\n",
       "    </tr>\n",
       "    <tr>\n",
       "      <th>StreamingTV_Yes</th>\n",
       "      <td>0.001964</td>\n",
       "    </tr>\n",
       "    <tr>\n",
       "      <th>InternetService_No</th>\n",
       "      <td>0.001153</td>\n",
       "    </tr>\n",
       "    <tr>\n",
       "      <th>Dependents_No</th>\n",
       "      <td>0.001061</td>\n",
       "    </tr>\n",
       "    <tr>\n",
       "      <th>Partner_Yes</th>\n",
       "      <td>0.000486</td>\n",
       "    </tr>\n",
       "    <tr>\n",
       "      <th>gender_Male</th>\n",
       "      <td>0.000410</td>\n",
       "    </tr>\n",
       "    <tr>\n",
       "      <th>MultipleLines_No</th>\n",
       "      <td>0.000199</td>\n",
       "    </tr>\n",
       "    <tr>\n",
       "      <th>MultipleLines_Yes</th>\n",
       "      <td>0.000166</td>\n",
       "    </tr>\n",
       "    <tr>\n",
       "      <th>Contract_One year</th>\n",
       "      <td>0.000000</td>\n",
       "    </tr>\n",
       "    <tr>\n",
       "      <th>StreamingTV_No</th>\n",
       "      <td>0.000000</td>\n",
       "    </tr>\n",
       "    <tr>\n",
       "      <th>StreamingMovies_Yes</th>\n",
       "      <td>0.000000</td>\n",
       "    </tr>\n",
       "    <tr>\n",
       "      <th>PaperlessBilling_Yes</th>\n",
       "      <td>0.000000</td>\n",
       "    </tr>\n",
       "    <tr>\n",
       "      <th>StreamingMovies_No internet service</th>\n",
       "      <td>0.000000</td>\n",
       "    </tr>\n",
       "    <tr>\n",
       "      <th>StreamingMovies_No</th>\n",
       "      <td>0.000000</td>\n",
       "    </tr>\n",
       "    <tr>\n",
       "      <th>PaymentMethod_Bank transfer (automatic)</th>\n",
       "      <td>0.000000</td>\n",
       "    </tr>\n",
       "    <tr>\n",
       "      <th>PaymentMethod_Credit card (automatic)</th>\n",
       "      <td>0.000000</td>\n",
       "    </tr>\n",
       "    <tr>\n",
       "      <th>StreamingTV_No internet service</th>\n",
       "      <td>0.000000</td>\n",
       "    </tr>\n",
       "    <tr>\n",
       "      <th>OnlineBackup_No internet service</th>\n",
       "      <td>0.000000</td>\n",
       "    </tr>\n",
       "    <tr>\n",
       "      <th>TechSupport_Yes</th>\n",
       "      <td>0.000000</td>\n",
       "    </tr>\n",
       "    <tr>\n",
       "      <th>TechSupport_No internet service</th>\n",
       "      <td>0.000000</td>\n",
       "    </tr>\n",
       "    <tr>\n",
       "      <th>DeviceProtection_Yes</th>\n",
       "      <td>0.000000</td>\n",
       "    </tr>\n",
       "    <tr>\n",
       "      <th>DeviceProtection_No internet service</th>\n",
       "      <td>0.000000</td>\n",
       "    </tr>\n",
       "    <tr>\n",
       "      <th>OnlineBackup_Yes</th>\n",
       "      <td>0.000000</td>\n",
       "    </tr>\n",
       "    <tr>\n",
       "      <th>OnlineBackup_No</th>\n",
       "      <td>0.000000</td>\n",
       "    </tr>\n",
       "    <tr>\n",
       "      <th>OnlineSecurity_Yes</th>\n",
       "      <td>0.000000</td>\n",
       "    </tr>\n",
       "    <tr>\n",
       "      <th>OnlineSecurity_No internet service</th>\n",
       "      <td>0.000000</td>\n",
       "    </tr>\n",
       "    <tr>\n",
       "      <th>PhoneService_Yes</th>\n",
       "      <td>0.000000</td>\n",
       "    </tr>\n",
       "    <tr>\n",
       "      <th>PhoneService_No</th>\n",
       "      <td>0.000000</td>\n",
       "    </tr>\n",
       "    <tr>\n",
       "      <th>SeniorCitizen_1</th>\n",
       "      <td>0.000000</td>\n",
       "    </tr>\n",
       "    <tr>\n",
       "      <th>SeniorCitizen_0</th>\n",
       "      <td>0.000000</td>\n",
       "    </tr>\n",
       "    <tr>\n",
       "      <th>gender_Female</th>\n",
       "      <td>0.000000</td>\n",
       "    </tr>\n",
       "    <tr>\n",
       "      <th>PaymentMethod_Mailed check</th>\n",
       "      <td>0.000000</td>\n",
       "    </tr>\n",
       "  </tbody>\n",
       "</table>\n",
       "</div>"
      ],
      "text/plain": [
       "                                         Importance\n",
       "TechSupport_No                             0.454880\n",
       "Contract_Month-to-month                    0.178967\n",
       "Contract_Two year                          0.106535\n",
       "InternetService_DSL                        0.075477\n",
       "TotalCharges                               0.060220\n",
       "InternetService_Fiber optic                0.046592\n",
       "tenure                                     0.022262\n",
       "MonthlyCharges                             0.015970\n",
       "Dependents_Yes                             0.009022\n",
       "Partner_No                                 0.006539\n",
       "PaperlessBilling_No                        0.004519\n",
       "OnlineSecurity_No                          0.004392\n",
       "MultipleLines_No phone service             0.003993\n",
       "DeviceProtection_No                        0.003127\n",
       "PaymentMethod_Electronic check             0.002067\n",
       "StreamingTV_Yes                            0.001964\n",
       "InternetService_No                         0.001153\n",
       "Dependents_No                              0.001061\n",
       "Partner_Yes                                0.000486\n",
       "gender_Male                                0.000410\n",
       "MultipleLines_No                           0.000199\n",
       "MultipleLines_Yes                          0.000166\n",
       "Contract_One year                          0.000000\n",
       "StreamingTV_No                             0.000000\n",
       "StreamingMovies_Yes                        0.000000\n",
       "PaperlessBilling_Yes                       0.000000\n",
       "StreamingMovies_No internet service        0.000000\n",
       "StreamingMovies_No                         0.000000\n",
       "PaymentMethod_Bank transfer (automatic)    0.000000\n",
       "PaymentMethod_Credit card (automatic)      0.000000\n",
       "StreamingTV_No internet service            0.000000\n",
       "OnlineBackup_No internet service           0.000000\n",
       "TechSupport_Yes                            0.000000\n",
       "TechSupport_No internet service            0.000000\n",
       "DeviceProtection_Yes                       0.000000\n",
       "DeviceProtection_No internet service       0.000000\n",
       "OnlineBackup_Yes                           0.000000\n",
       "OnlineBackup_No                            0.000000\n",
       "OnlineSecurity_Yes                         0.000000\n",
       "OnlineSecurity_No internet service         0.000000\n",
       "PhoneService_Yes                           0.000000\n",
       "PhoneService_No                            0.000000\n",
       "SeniorCitizen_1                            0.000000\n",
       "SeniorCitizen_0                            0.000000\n",
       "gender_Female                              0.000000\n",
       "PaymentMethod_Mailed check                 0.000000"
      ]
     },
     "execution_count": 260,
     "metadata": {},
     "output_type": "execute_result"
    }
   ],
   "source": [
    "dt_importances = pd.DataFrame(dt_grid.best_estimator_.feature_importances_,\n",
    "                                   index = data_tr.columns,\n",
    "                                    columns=['Importance']).sort_values('Importance', ascending=False)\n",
    "top_6 = dt_importances[dt_importances['Importance'] > .06]\n",
    "dt_importances"
   ]
  },
  {
   "cell_type": "code",
   "execution_count": 261,
   "metadata": {},
   "outputs": [
    {
     "data": {
      "image/png": "[encoded data removed]",
      "text/plain": [
       "<Figure size 936x576 with 1 Axes>"
      ]
     },
     "metadata": {
      "needs_background": "light"
     },
     "output_type": "display_data"
    }
   ],
   "source": [
    "plt.figure(figsize=(13,8))\n",
    "ax = sns.barplot(top_6.index, top_6['Importance'])\n",
    "ax.set_xticklabels(ax.get_xticklabels(), rotation=45, fontsize=12)\n",
    "plt.show()"
   ]
  },
  {
   "cell_type": "markdown",
   "metadata": {},
   "source": [
    "Now Decision Tree has a slightly different take. It says that **TechSupport_No** is the most important feature in making decisions, followed by **Contract_Month-to-Month**, **Contract_Two year**, **InternsetService_DSL**, and **TotalCharges**."
   ]
  },
  {
   "cell_type": "markdown",
   "metadata": {},
   "source": [
    "That's enough for tree based methods."
   ]
  },
  {
   "cell_type": "markdown",
   "metadata": {},
   "source": [
    "## V.iii Support Vector Machine (Classifier)"
   ]
  },
  {
   "cell_type": "markdown",
   "metadata": {},
   "source": [
    "### Note that with Support Vector Machines feature importances are handled a bit differently, we'll come back another day to write that code."
   ]
  },
  {
   "cell_type": "code",
   "execution_count": 283,
   "metadata": {},
   "outputs": [],
   "source": [
    "param_grid = [    \n",
    "    {'C': [.1,1,10], 'max_iter': [1000, 2000, 5000], 'tol': [1e-4, 1e-10]}\n",
    "  ]"
   ]
  },
  {
   "cell_type": "code",
   "execution_count": 285,
   "metadata": {},
   "outputs": [
    {
     "name": "stderr",
     "output_type": "stream",
     "text": [
      "/Users/lawrencelove/opt/anaconda3/lib/python3.7/site-packages/sklearn/svm/_base.py:947: ConvergenceWarning: Liblinear failed to converge, increase the number of iterations.\n",
      "  \"the number of iterations.\", ConvergenceWarning)\n",
      "/Users/lawrencelove/opt/anaconda3/lib/python3.7/site-packages/sklearn/svm/_base.py:947: ConvergenceWarning: Liblinear failed to converge, increase the number of iterations.\n",
      "  \"the number of iterations.\", ConvergenceWarning)\n",
      "/Users/lawrencelove/opt/anaconda3/lib/python3.7/site-packages/sklearn/svm/_base.py:947: ConvergenceWarning: Liblinear failed to converge, increase the number of iterations.\n",
      "  \"the number of iterations.\", ConvergenceWarning)\n",
      "/Users/lawrencelove/opt/anaconda3/lib/python3.7/site-packages/sklearn/svm/_base.py:947: ConvergenceWarning: Liblinear failed to converge, increase the number of iterations.\n",
      "  \"the number of iterations.\", ConvergenceWarning)\n",
      "/Users/lawrencelove/opt/anaconda3/lib/python3.7/site-packages/sklearn/svm/_base.py:947: ConvergenceWarning: Liblinear failed to converge, increase the number of iterations.\n",
      "  \"the number of iterations.\", ConvergenceWarning)\n",
      "/Users/lawrencelove/opt/anaconda3/lib/python3.7/site-packages/sklearn/svm/_base.py:947: ConvergenceWarning: Liblinear failed to converge, increase the number of iterations.\n",
      "  \"the number of iterations.\", ConvergenceWarning)\n",
      "/Users/lawrencelove/opt/anaconda3/lib/python3.7/site-packages/sklearn/svm/_base.py:947: ConvergenceWarning: Liblinear failed to converge, increase the number of iterations.\n",
      "  \"the number of iterations.\", ConvergenceWarning)\n",
      "/Users/lawrencelove/opt/anaconda3/lib/python3.7/site-packages/sklearn/svm/_base.py:947: ConvergenceWarning: Liblinear failed to converge, increase the number of iterations.\n",
      "  \"the number of iterations.\", ConvergenceWarning)\n",
      "/Users/lawrencelove/opt/anaconda3/lib/python3.7/site-packages/sklearn/svm/_base.py:947: ConvergenceWarning: Liblinear failed to converge, increase the number of iterations.\n",
      "  \"the number of iterations.\", ConvergenceWarning)\n",
      "/Users/lawrencelove/opt/anaconda3/lib/python3.7/site-packages/sklearn/svm/_base.py:947: ConvergenceWarning: Liblinear failed to converge, increase the number of iterations.\n",
      "  \"the number of iterations.\", ConvergenceWarning)\n",
      "/Users/lawrencelove/opt/anaconda3/lib/python3.7/site-packages/sklearn/svm/_base.py:947: ConvergenceWarning: Liblinear failed to converge, increase the number of iterations.\n",
      "  \"the number of iterations.\", ConvergenceWarning)\n",
      "/Users/lawrencelove/opt/anaconda3/lib/python3.7/site-packages/sklearn/svm/_base.py:947: ConvergenceWarning: Liblinear failed to converge, increase the number of iterations.\n",
      "  \"the number of iterations.\", ConvergenceWarning)\n",
      "/Users/lawrencelove/opt/anaconda3/lib/python3.7/site-packages/sklearn/svm/_base.py:947: ConvergenceWarning: Liblinear failed to converge, increase the number of iterations.\n",
      "  \"the number of iterations.\", ConvergenceWarning)\n",
      "/Users/lawrencelove/opt/anaconda3/lib/python3.7/site-packages/sklearn/svm/_base.py:947: ConvergenceWarning: Liblinear failed to converge, increase the number of iterations.\n",
      "  \"the number of iterations.\", ConvergenceWarning)\n",
      "/Users/lawrencelove/opt/anaconda3/lib/python3.7/site-packages/sklearn/svm/_base.py:947: ConvergenceWarning: Liblinear failed to converge, increase the number of iterations.\n",
      "  \"the number of iterations.\", ConvergenceWarning)\n",
      "/Users/lawrencelove/opt/anaconda3/lib/python3.7/site-packages/sklearn/svm/_base.py:947: ConvergenceWarning: Liblinear failed to converge, increase the number of iterations.\n",
      "  \"the number of iterations.\", ConvergenceWarning)\n",
      "/Users/lawrencelove/opt/anaconda3/lib/python3.7/site-packages/sklearn/svm/_base.py:947: ConvergenceWarning: Liblinear failed to converge, increase the number of iterations.\n",
      "  \"the number of iterations.\", ConvergenceWarning)\n",
      "/Users/lawrencelove/opt/anaconda3/lib/python3.7/site-packages/sklearn/svm/_base.py:947: ConvergenceWarning: Liblinear failed to converge, increase the number of iterations.\n",
      "  \"the number of iterations.\", ConvergenceWarning)\n",
      "/Users/lawrencelove/opt/anaconda3/lib/python3.7/site-packages/sklearn/svm/_base.py:947: ConvergenceWarning: Liblinear failed to converge, increase the number of iterations.\n",
      "  \"the number of iterations.\", ConvergenceWarning)\n",
      "/Users/lawrencelove/opt/anaconda3/lib/python3.7/site-packages/sklearn/svm/_base.py:947: ConvergenceWarning: Liblinear failed to converge, increase the number of iterations.\n",
      "  \"the number of iterations.\", ConvergenceWarning)\n",
      "/Users/lawrencelove/opt/anaconda3/lib/python3.7/site-packages/sklearn/svm/_base.py:947: ConvergenceWarning: Liblinear failed to converge, increase the number of iterations.\n",
      "  \"the number of iterations.\", ConvergenceWarning)\n",
      "/Users/lawrencelove/opt/anaconda3/lib/python3.7/site-packages/sklearn/svm/_base.py:947: ConvergenceWarning: Liblinear failed to converge, increase the number of iterations.\n",
      "  \"the number of iterations.\", ConvergenceWarning)\n",
      "/Users/lawrencelove/opt/anaconda3/lib/python3.7/site-packages/sklearn/svm/_base.py:947: ConvergenceWarning: Liblinear failed to converge, increase the number of iterations.\n",
      "  \"the number of iterations.\", ConvergenceWarning)\n",
      "/Users/lawrencelove/opt/anaconda3/lib/python3.7/site-packages/sklearn/svm/_base.py:947: ConvergenceWarning: Liblinear failed to converge, increase the number of iterations.\n",
      "  \"the number of iterations.\", ConvergenceWarning)\n",
      "/Users/lawrencelove/opt/anaconda3/lib/python3.7/site-packages/sklearn/svm/_base.py:947: ConvergenceWarning: Liblinear failed to converge, increase the number of iterations.\n",
      "  \"the number of iterations.\", ConvergenceWarning)\n",
      "/Users/lawrencelove/opt/anaconda3/lib/python3.7/site-packages/sklearn/svm/_base.py:947: ConvergenceWarning: Liblinear failed to converge, increase the number of iterations.\n",
      "  \"the number of iterations.\", ConvergenceWarning)\n",
      "/Users/lawrencelove/opt/anaconda3/lib/python3.7/site-packages/sklearn/svm/_base.py:947: ConvergenceWarning: Liblinear failed to converge, increase the number of iterations.\n",
      "  \"the number of iterations.\", ConvergenceWarning)\n",
      "/Users/lawrencelove/opt/anaconda3/lib/python3.7/site-packages/sklearn/svm/_base.py:947: ConvergenceWarning: Liblinear failed to converge, increase the number of iterations.\n",
      "  \"the number of iterations.\", ConvergenceWarning)\n",
      "/Users/lawrencelove/opt/anaconda3/lib/python3.7/site-packages/sklearn/svm/_base.py:947: ConvergenceWarning: Liblinear failed to converge, increase the number of iterations.\n",
      "  \"the number of iterations.\", ConvergenceWarning)\n",
      "/Users/lawrencelove/opt/anaconda3/lib/python3.7/site-packages/sklearn/svm/_base.py:947: ConvergenceWarning: Liblinear failed to converge, increase the number of iterations.\n",
      "  \"the number of iterations.\", ConvergenceWarning)\n",
      "/Users/lawrencelove/opt/anaconda3/lib/python3.7/site-packages/sklearn/svm/_base.py:947: ConvergenceWarning: Liblinear failed to converge, increase the number of iterations.\n",
      "  \"the number of iterations.\", ConvergenceWarning)\n",
      "/Users/lawrencelove/opt/anaconda3/lib/python3.7/site-packages/sklearn/svm/_base.py:947: ConvergenceWarning: Liblinear failed to converge, increase the number of iterations.\n",
      "  \"the number of iterations.\", ConvergenceWarning)\n",
      "/Users/lawrencelove/opt/anaconda3/lib/python3.7/site-packages/sklearn/svm/_base.py:947: ConvergenceWarning: Liblinear failed to converge, increase the number of iterations.\n",
      "  \"the number of iterations.\", ConvergenceWarning)\n",
      "/Users/lawrencelove/opt/anaconda3/lib/python3.7/site-packages/sklearn/svm/_base.py:947: ConvergenceWarning: Liblinear failed to converge, increase the number of iterations.\n",
      "  \"the number of iterations.\", ConvergenceWarning)\n",
      "/Users/lawrencelove/opt/anaconda3/lib/python3.7/site-packages/sklearn/svm/_base.py:947: ConvergenceWarning: Liblinear failed to converge, increase the number of iterations.\n",
      "  \"the number of iterations.\", ConvergenceWarning)\n",
      "/Users/lawrencelove/opt/anaconda3/lib/python3.7/site-packages/sklearn/svm/_base.py:947: ConvergenceWarning: Liblinear failed to converge, increase the number of iterations.\n",
      "  \"the number of iterations.\", ConvergenceWarning)\n",
      "/Users/lawrencelove/opt/anaconda3/lib/python3.7/site-packages/sklearn/svm/_base.py:947: ConvergenceWarning: Liblinear failed to converge, increase the number of iterations.\n",
      "  \"the number of iterations.\", ConvergenceWarning)\n",
      "/Users/lawrencelove/opt/anaconda3/lib/python3.7/site-packages/sklearn/svm/_base.py:947: ConvergenceWarning: Liblinear failed to converge, increase the number of iterations.\n",
      "  \"the number of iterations.\", ConvergenceWarning)\n",
      "/Users/lawrencelove/opt/anaconda3/lib/python3.7/site-packages/sklearn/svm/_base.py:947: ConvergenceWarning: Liblinear failed to converge, increase the number of iterations.\n",
      "  \"the number of iterations.\", ConvergenceWarning)\n",
      "/Users/lawrencelove/opt/anaconda3/lib/python3.7/site-packages/sklearn/svm/_base.py:947: ConvergenceWarning: Liblinear failed to converge, increase the number of iterations.\n",
      "  \"the number of iterations.\", ConvergenceWarning)\n"
     ]
    },
    {
     "data": {
      "text/plain": [
       "GridSearchCV(cv=5, error_score=nan,\n",
       "             estimator=LinearSVC(C=1.0, class_weight=None, dual=True,\n",
       "                                 fit_intercept=True, intercept_scaling=1,\n",
       "                                 loss='squared_hinge', max_iter=1000,\n",
       "                                 multi_class='ovr', penalty='l2',\n",
       "                                 random_state=None, tol=0.0001, verbose=0),\n",
       "             iid='deprecated', n_jobs=None,\n",
       "             param_grid=[{'C': [0.1, 1, 10], 'max_iter': [1000, 2000, 5000],\n",
       "                          'tol': [0.0001, 1e-10]}],\n",
       "             pre_dispatch='2*n_jobs', refit=True, return_train_score=True,\n",
       "             scoring='accuracy', verbose=0)"
      ]
     },
     "execution_count": 285,
     "metadata": {},
     "output_type": "execute_result"
    }
   ],
   "source": [
    "# Numerous convergence warnings\n",
    "svm_clf = LinearSVC()\n",
    "grid_search = GridSearchCV(svm_clf, param_grid, cv=5,\n",
    "                           scoring='accuracy',\n",
    "                           return_train_score=True)\n",
    "grid_search.fit(data_tr, train_labels)"
   ]
  },
  {
   "cell_type": "code",
   "execution_count": 287,
   "metadata": {},
   "outputs": [
    {
     "data": {
      "text/html": [
       "<div>\n",
       "<style scoped>\n",
       "    .dataframe tbody tr th:only-of-type {\n",
       "        vertical-align: middle;\n",
       "    }\n",
       "\n",
       "    .dataframe tbody tr th {\n",
       "        vertical-align: top;\n",
       "    }\n",
       "\n",
       "    .dataframe thead th {\n",
       "        text-align: right;\n",
       "    }\n",
       "</style>\n",
       "<table border=\"1\" class=\"dataframe\">\n",
       "  <thead>\n",
       "    <tr style=\"text-align: right;\">\n",
       "      <th></th>\n",
       "      <th>Train_Error</th>\n",
       "      <th>Test_Error</th>\n",
       "      <th>Parameter_Set</th>\n",
       "    </tr>\n",
       "  </thead>\n",
       "  <tbody>\n",
       "    <tr>\n",
       "      <th>8</th>\n",
       "      <td>0.805156</td>\n",
       "      <td>0.802311</td>\n",
       "      <td>{'C': 1, 'max_iter': 2000, 'tol': 0.0001}</td>\n",
       "    </tr>\n",
       "    <tr>\n",
       "      <th>9</th>\n",
       "      <td>0.805156</td>\n",
       "      <td>0.802311</td>\n",
       "      <td>{'C': 1, 'max_iter': 2000, 'tol': 1e-10}</td>\n",
       "    </tr>\n",
       "    <tr>\n",
       "      <th>10</th>\n",
       "      <td>0.805156</td>\n",
       "      <td>0.802311</td>\n",
       "      <td>{'C': 1, 'max_iter': 5000, 'tol': 0.0001}</td>\n",
       "    </tr>\n",
       "    <tr>\n",
       "      <th>11</th>\n",
       "      <td>0.805156</td>\n",
       "      <td>0.802311</td>\n",
       "      <td>{'C': 1, 'max_iter': 5000, 'tol': 1e-10}</td>\n",
       "    </tr>\n",
       "    <tr>\n",
       "      <th>12</th>\n",
       "      <td>0.804044</td>\n",
       "      <td>0.797333</td>\n",
       "      <td>{'C': 10, 'max_iter': 1000, 'tol': 0.0001}</td>\n",
       "    </tr>\n",
       "    <tr>\n",
       "      <th>13</th>\n",
       "      <td>0.803289</td>\n",
       "      <td>0.800533</td>\n",
       "      <td>{'C': 10, 'max_iter': 1000, 'tol': 1e-10}</td>\n",
       "    </tr>\n",
       "    <tr>\n",
       "      <th>14</th>\n",
       "      <td>0.805156</td>\n",
       "      <td>0.800889</td>\n",
       "      <td>{'C': 10, 'max_iter': 2000, 'tol': 0.0001}</td>\n",
       "    </tr>\n",
       "    <tr>\n",
       "      <th>15</th>\n",
       "      <td>0.805200</td>\n",
       "      <td>0.800711</td>\n",
       "      <td>{'C': 10, 'max_iter': 2000, 'tol': 1e-10}</td>\n",
       "    </tr>\n",
       "    <tr>\n",
       "      <th>16</th>\n",
       "      <td>0.804889</td>\n",
       "      <td>0.801778</td>\n",
       "      <td>{'C': 10, 'max_iter': 5000, 'tol': 0.0001}</td>\n",
       "    </tr>\n",
       "    <tr>\n",
       "      <th>17</th>\n",
       "      <td>0.804889</td>\n",
       "      <td>0.801600</td>\n",
       "      <td>{'C': 10, 'max_iter': 5000, 'tol': 1e-10}</td>\n",
       "    </tr>\n",
       "  </tbody>\n",
       "</table>\n",
       "</div>"
      ],
      "text/plain": [
       "    Train_Error  Test_Error                               Parameter_Set\n",
       "8      0.805156    0.802311   {'C': 1, 'max_iter': 2000, 'tol': 0.0001}\n",
       "9      0.805156    0.802311    {'C': 1, 'max_iter': 2000, 'tol': 1e-10}\n",
       "10     0.805156    0.802311   {'C': 1, 'max_iter': 5000, 'tol': 0.0001}\n",
       "11     0.805156    0.802311    {'C': 1, 'max_iter': 5000, 'tol': 1e-10}\n",
       "12     0.804044    0.797333  {'C': 10, 'max_iter': 1000, 'tol': 0.0001}\n",
       "13     0.803289    0.800533   {'C': 10, 'max_iter': 1000, 'tol': 1e-10}\n",
       "14     0.805156    0.800889  {'C': 10, 'max_iter': 2000, 'tol': 0.0001}\n",
       "15     0.805200    0.800711   {'C': 10, 'max_iter': 2000, 'tol': 1e-10}\n",
       "16     0.804889    0.801778  {'C': 10, 'max_iter': 5000, 'tol': 0.0001}\n",
       "17     0.804889    0.801600   {'C': 10, 'max_iter': 5000, 'tol': 1e-10}"
      ]
     },
     "execution_count": 287,
     "metadata": {},
     "output_type": "execute_result"
    }
   ],
   "source": [
    "cvres = grid_search.cv_results_\n",
    "grid_svc_df = pd.DataFrame({\n",
    "    \"Train_Error\": cvres[\"mean_train_score\"],\n",
    "    \"Test_Error\": cvres[\"mean_test_score\"],\n",
    "    \"Parameter_Set\": cvres[\"params\"],\n",
    "}).sort_index()\n",
    "pd.set_option('display.max_colwidth', None)\n",
    "grid_svc_df.tail(10)"
   ]
  },
  {
   "cell_type": "code",
   "execution_count": 297,
   "metadata": {},
   "outputs": [],
   "source": [
    "final_model = grid_search.best_estimator_\n",
    "svc_preds = final_model.predict(data_te)\n",
    "svc_pred_score = accuracy_score(test_labels, svc_preds)"
   ]
  },
  {
   "cell_type": "code",
   "execution_count": 298,
   "metadata": {},
   "outputs": [
    {
     "name": "stdout",
     "output_type": "stream",
     "text": [
      "Train error rate = 19.75%\n",
      "Test error rate = 19.83%\n"
     ]
    }
   ],
   "source": [
    "print('Train error rate = %.2f%%' % ((1 - grid_search.best_score_) * 100))\n",
    "print('Test error rate = %.2f%%' % ((1 - svc_pred_score) * 100))"
   ]
  },
  {
   "cell_type": "markdown",
   "metadata": {},
   "source": [
    "The **SVM** worked better than the **Decision Tree**, but just a smidge worse than **Random Forest**. At a **19.83%** error rate, the **SVM** is making correct predictions **80.17%** of the time."
   ]
  },
  {
   "cell_type": "code",
   "execution_count": 299,
   "metadata": {},
   "outputs": [
    {
     "data": {
      "image/png": "[encoded data removed]",
      "text/plain": [
       "<Figure size 432x288 with 1 Axes>"
      ]
     },
     "metadata": {
      "needs_background": "light"
     },
     "output_type": "display_data"
    }
   ],
   "source": [
    "mat = confusion_matrix(test_labels, svc_preds)\n",
    "sns.heatmap(mat.T, square=True, annot=True, fmt='d', cbar=False, cmap='RdBu')\n",
    "plt.xlabel('Actual Churn', size=15)\n",
    "plt.ylabel('Predicted Churn', size=15)\n",
    "plt.show()"
   ]
  },
  {
   "cell_type": "markdown",
   "metadata": {},
   "source": [
    "From the **SVM** confusion matrix we learn:\n",
    "* The model predicted that 1086 customers **would not** churn. Of those predictions, the model was correct **84.71%** of the time.\n",
    "* The model predicted that 321 customer **would** churn. Of those predictions, the model was correct **64.80%** of the time.\n",
    "\n",
    "Similar results to the Random Forest and Decision Tree confusion matrices: better at predicting when customers won't churn than will churn. Although ever so slightly, specifically when predicting a customer will churn, **SVM** performed the best."
   ]
  },
  {
   "cell_type": "markdown",
   "metadata": {},
   "source": [
    "## VI. Conclusions"
   ]
  },
  {
   "cell_type": "markdown",
   "metadata": {},
   "source": [
    "Let's wrap it all up/summarize and make some conclusions. We can use all this information to raise some more questions as well."
   ]
  },
  {
   "cell_type": "code",
   "execution_count": 308,
   "metadata": {},
   "outputs": [],
   "source": [
    "# Create DataFrames out of the classifation reports for each model\n",
    "rf_report = pd.DataFrame(classification_report(test_labels, rf_preds, output_dict=True)).transpose()\n",
    "dt_report = pd.DataFrame(classification_report(test_labels, dt_preds, output_dict=True)).transpose()\n",
    "svc_report = pd.DataFrame(classification_report(test_labels, svc_preds, output_dict=True)).transpose()\n",
    "\n",
    "# Put the reports into a list for iteration\n",
    "result_dfs = [rf_report, dt_report, svc_report]\n",
    "\n",
    "# Construt empty DataFrame\n",
    "results = pd.DataFrame([])\n",
    "\n",
    "# Loop through the results list of DataFrames\n",
    "for i in result_dfs:\n",
    "    \n",
    "    # Append only the 'weighted avg' row to a new DataFrame\n",
    "    results = results.append(pd.DataFrame(i.loc['weighted avg']).transpose())\n",
    "    \n",
    "# Change index names to reflect there specific results\n",
    "results = results.reset_index(drop=True)\n",
    "results = results.rename(index={0 : 'Random Forest', 1 : 'Decision Tree',\n",
    "                               2 : 'Support Vector Machine'})\n",
    "results.index.name = 'Model'\n",
    "results = results.reset_index()\n",
    "\n",
    "# Remove 'support' column\n",
    "del results['support']"
   ]
  },
  {
   "cell_type": "markdown",
   "metadata": {},
   "source": [
    "If you need a crash course on Recall, Precision, and F1-Score you can follow this [link](https://pathmind.com/wiki/accuracy-precision-recall-f1) to a great explanation. The short version:\n",
    "* Use precision when the cost of a false positive is high.\n",
    "* Use recall when the cost of a false negative is high.\n",
    "* F1-Score is a way to find a happy medium.\n",
    "\n",
    "*We are using weighted scores*"
   ]
  },
  {
   "cell_type": "code",
   "execution_count": 309,
   "metadata": {},
   "outputs": [
    {
     "data": {
      "image/png": "[encoded data removed]",
      "text/plain": [
       "<Figure size 648x504 with 1 Axes>"
      ]
     },
     "metadata": {},
     "output_type": "display_data"
    },
    {
     "data": {
      "text/html": [
       "<div>\n",
       "<style scoped>\n",
       "    .dataframe tbody tr th:only-of-type {\n",
       "        vertical-align: middle;\n",
       "    }\n",
       "\n",
       "    .dataframe tbody tr th {\n",
       "        vertical-align: top;\n",
       "    }\n",
       "\n",
       "    .dataframe thead th {\n",
       "        text-align: right;\n",
       "    }\n",
       "</style>\n",
       "<table border=\"1\" class=\"dataframe\">\n",
       "  <thead>\n",
       "    <tr style=\"text-align: right;\">\n",
       "      <th></th>\n",
       "      <th>Model</th>\n",
       "      <th>precision</th>\n",
       "      <th>recall</th>\n",
       "      <th>f1-score</th>\n",
       "    </tr>\n",
       "  </thead>\n",
       "  <tbody>\n",
       "    <tr>\n",
       "      <th>0</th>\n",
       "      <td>Random Forest</td>\n",
       "      <td>0.780439</td>\n",
       "      <td>0.792466</td>\n",
       "      <td>0.782337</td>\n",
       "    </tr>\n",
       "    <tr>\n",
       "      <th>1</th>\n",
       "      <td>Decision Tree</td>\n",
       "      <td>0.774285</td>\n",
       "      <td>0.770434</td>\n",
       "      <td>0.772212</td>\n",
       "    </tr>\n",
       "    <tr>\n",
       "      <th>2</th>\n",
       "      <td>Support Vector Machine</td>\n",
       "      <td>0.794203</td>\n",
       "      <td>0.801706</td>\n",
       "      <td>0.796625</td>\n",
       "    </tr>\n",
       "  </tbody>\n",
       "</table>\n",
       "</div>"
      ],
      "text/plain": [
       "                    Model  precision    recall  f1-score\n",
       "0           Random Forest   0.780439  0.792466  0.782337\n",
       "1           Decision Tree   0.774285  0.770434  0.772212\n",
       "2  Support Vector Machine   0.794203  0.801706  0.796625"
      ]
     },
     "execution_count": 309,
     "metadata": {},
     "output_type": "execute_result"
    }
   ],
   "source": [
    "plt.style.use('seaborn')\n",
    "ax = results.plot(x='Model', y=['precision', 'recall', 'f1-score'], kind=\"bar\", \n",
    "             width=.4, ylim=(0,.99), figsize=(9,7), title='Scores')\n",
    "ax.set_xticklabels(ax.get_xticklabels(), rotation=45, fontsize=12)\n",
    "plt.yticks(np.arange(0, 1, step=0.1))\n",
    "ax.set_xlabel(\"\")\n",
    "plt.legend(prop={'size': 12}, loc=1)\n",
    "plt.show()\n",
    "\n",
    "results"
   ]
  },
  {
   "cell_type": "code",
   "execution_count": 312,
   "metadata": {},
   "outputs": [
    {
     "name": "stdout",
     "output_type": "stream",
     "text": [
      "Random Forest error rate = 20.75%\n",
      "Decision Tree error rate = 22.96%\n",
      "Support Vector Machine error rate = 19.83%\n"
     ]
    }
   ],
   "source": [
    "print('Random Forest error rate = %.2f%%' % ((1 - rfmod_pred_score) * 100))\n",
    "print('Decision Tree error rate = %.2f%%' % ((1 - dtmod_pred_score) * 100))\n",
    "print('Support Vector Machine error rate = %.2f%%' % ((1 - svc_pred_score) * 100))"
   ]
  },
  {
   "cell_type": "markdown",
   "metadata": {},
   "source": [
    "In comparing the two models that allowed us to view feature importances (Decision Tree and Random Forest), we find that our most important features are: **Contract**, **TotalCharges**, **TechSupport**, and **InternetService**.\n",
    "\n",
    "We can see that Random Forest suggested that **Month-to-month** contracts and **tenure** were its two most important features in making predictions. Additionally, Decision Tree considered **Month-to-month** contracts as its second most important feature. And finally, when we consider the Exploratory Data Analysis we did, it is clear that this company has some issue with their **Month-to-month** customers. What kind of incentives can this company offer to customers to get them to sign **One-year** or **Two-year** contracts? What adjustments can be made to **Month-to-Month** contracts that would be more favorable to customers, without taking away the appeal of a **One-year** or **Two-year** contract?\n",
    "\n",
    "**InternetService** was another important factor in making predictions, specifically, **Fiber optic internet service** & **DSL internet service**. We are not privy to the historical timing of this data, but it is a major problem that more people with **fiber optic internet service** are leaving than with **DSL internet service**. With fiber optics being the newer technology, maybe it’s possible that the company was still working out some kinks? Regardless, if the newer (and supposed to be more efficient) technology is causing people to run from your company, you have a problem. Further, more in-depth, research is needed to fully understand this **InternetService** issue, but at the least we now know that it is an area to focus on.\n",
    "\n",
    "As far as model performance, Support Vector Machine performed best, having the highest scores in every scoring category (recall, precision, and F1), although not by much. Second place goes to the Random Forest, and Decision Tree last. Every model performed decent enough when predicting a customer would stay, and poorly when predicting a customer would leave. This is likely because only about a quarter of our data contains customers who **Churned**, so predicting that class will take a hit. The Support Vector Machine was most accurate in predicting that a customer would leave, but only by a small percentage.\n",
    "\n",
    "We were able to learn a lot from the project: how long customers are staying with the company, which features are most likely to contribute to customers leaving, and we have 3 different models to test for predicting customer churning. Most importantly, we've raised concerns that allow for some questions to be answered, for further investigation to be completed, and for more information to be gathered. We now have targets to focus in on and conduct a new study in the future."
   ]
  },
  {
   "cell_type": "code",
   "execution_count": null,
   "metadata": {},
   "outputs": [],
   "source": []
  }
 ],
 "metadata": {
  "kernelspec": {
   "display_name": "Python 3",
   "language": "python",
   "name": "python3"
  },
  "language_info": {
   "codemirror_mode": {
    "name": "ipython",
    "version": 3
   },
   "file_extension": ".py",
   "mimetype": "text/x-python",
   "name": "python",
   "nbconvert_exporter": "python",
   "pygments_lexer": "ipython3",
   "version": "3.7.6"
  }
 },
 "nbformat": 4,
 "nbformat_minor": 4
}
