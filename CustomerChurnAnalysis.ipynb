{
 "cells": [
  {
   "cell_type": "markdown",
   "metadata": {},
   "source": [
    "# Customer Churn Analysis - Jupyter Notebook\n",
    "## Outline:\n",
    "*   I. Introduction\n",
    "*  II. Exploratory Data Analysis\n",
    "* III. Data Preprocessing\n",
    "*  IV. Modeling\n",
    "    * i. Random Forest Classifier\n",
    "    * ii. Logistic Regression Classifier\n",
    "    * iii. Support Vector Machine Classifier\n",
    "    * iv. SMOTE implementation on all three previous models\n",
    "*   V. Conclusions "
   ]
  },
  {
   "cell_type": "markdown",
   "metadata": {},
   "source": [
    "## I. Introduction"
   ]
  },
  {
   "cell_type": "markdown",
   "metadata": {},
   "source": [
    "The dataset we are experimenting with was found [here](https://www.kaggle.com/blastchar/telco-customer-churn). To gain insight on what we are working with, I've copied and pasted the bulk of the description from the link:\n",
    "\n",
    "> **Context**\n",
    ">\n",
    "> \"Predict behavior to retain customers. You can analyze all relevant customer data and develop focused customer retention programs.\" \\[IBM Sample Data > Sets\\]\n",
    ">\n",
    "> **Content**\n",
    ">\n",
    "> Each row represents a customer, each column contains customer’s attributes described on the column Metadata.\n",
    ">\n",
    "> The data set includes information about:\n",
    ">\n",
    "> * Customers who left within the last month – the column is called Churn\n",
    "> * Services that each customer has signed up for – phone, multiple lines, internet, online security, online backup, device protection, tech support, and streaming TV and movies\n",
    "> * Customer account information – how long they’ve been a customer, contract, payment method, paperless billing, monthly charges, and total charges\n",
    "> * Demographic info about customers – gender, age range, and if they have partners and dependents\n"
   ]
  },
  {
   "cell_type": "markdown",
   "metadata": {},
   "source": [
    "The link above doesn't tell us much about where the data is gathered from, but based on the description of the variables/columns, we can assume that this data is from a telecommuncations company similar to that of Verizon or Comcast.\n",
    "\n",
    "*Description of columns will be shown in the next section*\n",
    "\n",
    "As stated in the **Content** section, \"Churn\" refers to whether or not the customer left the company within the last month or stayed with the company. This will be our target variable.\n",
    "\n",
    "We're going to investigate this problem using **Random Forest**, **Logistic Regression**, and **Support Vector Machine** to see what information we can find. We can also use these methods to raise new questions and strategies for customer retention."
   ]
  },
  {
   "cell_type": "markdown",
   "metadata": {},
   "source": [
    "#### Libraries we'll use:"
   ]
  },
  {
   "cell_type": "markdown",
   "metadata": {},
   "source": [
    "* More libraries will be imported later in the project. Here below is what we need to get started."
   ]
  },
  {
   "cell_type": "code",
   "execution_count": 1,
   "metadata": {},
   "outputs": [],
   "source": [
    "import pandas as pd\n",
    "import numpy as np\n",
    "import matplotlib.pyplot as plt\n",
    "import seaborn as sns\n",
    "col_scheme = [\"#4374B3\", \"#FF0B04\"] # Color scheme for our plots"
   ]
  },
  {
   "cell_type": "markdown",
   "metadata": {},
   "source": [
    "## II. Exploratory Data Analysis (and some cleaning)"
   ]
  },
  {
   "cell_type": "markdown",
   "metadata": {},
   "source": [
    "Let's get started by getting this dataset loaded into our notebook for a small glimpse of the data."
   ]
  },
  {
   "cell_type": "code",
   "execution_count": 2,
   "metadata": {},
   "outputs": [
    {
     "data": {
      "text/html": [
       "<div>\n",
       "<style scoped>\n",
       "    .dataframe tbody tr th:only-of-type {\n",
       "        vertical-align: middle;\n",
       "    }\n",
       "\n",
       "    .dataframe tbody tr th {\n",
       "        vertical-align: top;\n",
       "    }\n",
       "\n",
       "    .dataframe thead th {\n",
       "        text-align: right;\n",
       "    }\n",
       "</style>\n",
       "<table border=\"1\" class=\"dataframe\">\n",
       "  <thead>\n",
       "    <tr style=\"text-align: right;\">\n",
       "      <th></th>\n",
       "      <th>customerID</th>\n",
       "      <th>gender</th>\n",
       "      <th>SeniorCitizen</th>\n",
       "      <th>Partner</th>\n",
       "      <th>Dependents</th>\n",
       "      <th>tenure</th>\n",
       "      <th>PhoneService</th>\n",
       "      <th>MultipleLines</th>\n",
       "      <th>InternetService</th>\n",
       "      <th>OnlineSecurity</th>\n",
       "      <th>...</th>\n",
       "      <th>DeviceProtection</th>\n",
       "      <th>TechSupport</th>\n",
       "      <th>StreamingTV</th>\n",
       "      <th>StreamingMovies</th>\n",
       "      <th>Contract</th>\n",
       "      <th>PaperlessBilling</th>\n",
       "      <th>PaymentMethod</th>\n",
       "      <th>MonthlyCharges</th>\n",
       "      <th>TotalCharges</th>\n",
       "      <th>Churn</th>\n",
       "    </tr>\n",
       "  </thead>\n",
       "  <tbody>\n",
       "    <tr>\n",
       "      <th>0</th>\n",
       "      <td>7590-VHVEG</td>\n",
       "      <td>Female</td>\n",
       "      <td>0</td>\n",
       "      <td>Yes</td>\n",
       "      <td>No</td>\n",
       "      <td>1</td>\n",
       "      <td>No</td>\n",
       "      <td>No phone service</td>\n",
       "      <td>DSL</td>\n",
       "      <td>No</td>\n",
       "      <td>...</td>\n",
       "      <td>No</td>\n",
       "      <td>No</td>\n",
       "      <td>No</td>\n",
       "      <td>No</td>\n",
       "      <td>Month-to-month</td>\n",
       "      <td>Yes</td>\n",
       "      <td>Electronic check</td>\n",
       "      <td>29.85</td>\n",
       "      <td>29.85</td>\n",
       "      <td>No</td>\n",
       "    </tr>\n",
       "    <tr>\n",
       "      <th>1</th>\n",
       "      <td>5575-GNVDE</td>\n",
       "      <td>Male</td>\n",
       "      <td>0</td>\n",
       "      <td>No</td>\n",
       "      <td>No</td>\n",
       "      <td>34</td>\n",
       "      <td>Yes</td>\n",
       "      <td>No</td>\n",
       "      <td>DSL</td>\n",
       "      <td>Yes</td>\n",
       "      <td>...</td>\n",
       "      <td>Yes</td>\n",
       "      <td>No</td>\n",
       "      <td>No</td>\n",
       "      <td>No</td>\n",
       "      <td>One year</td>\n",
       "      <td>No</td>\n",
       "      <td>Mailed check</td>\n",
       "      <td>56.95</td>\n",
       "      <td>1889.5</td>\n",
       "      <td>No</td>\n",
       "    </tr>\n",
       "    <tr>\n",
       "      <th>2</th>\n",
       "      <td>3668-QPYBK</td>\n",
       "      <td>Male</td>\n",
       "      <td>0</td>\n",
       "      <td>No</td>\n",
       "      <td>No</td>\n",
       "      <td>2</td>\n",
       "      <td>Yes</td>\n",
       "      <td>No</td>\n",
       "      <td>DSL</td>\n",
       "      <td>Yes</td>\n",
       "      <td>...</td>\n",
       "      <td>No</td>\n",
       "      <td>No</td>\n",
       "      <td>No</td>\n",
       "      <td>No</td>\n",
       "      <td>Month-to-month</td>\n",
       "      <td>Yes</td>\n",
       "      <td>Mailed check</td>\n",
       "      <td>53.85</td>\n",
       "      <td>108.15</td>\n",
       "      <td>Yes</td>\n",
       "    </tr>\n",
       "    <tr>\n",
       "      <th>3</th>\n",
       "      <td>7795-CFOCW</td>\n",
       "      <td>Male</td>\n",
       "      <td>0</td>\n",
       "      <td>No</td>\n",
       "      <td>No</td>\n",
       "      <td>45</td>\n",
       "      <td>No</td>\n",
       "      <td>No phone service</td>\n",
       "      <td>DSL</td>\n",
       "      <td>Yes</td>\n",
       "      <td>...</td>\n",
       "      <td>Yes</td>\n",
       "      <td>Yes</td>\n",
       "      <td>No</td>\n",
       "      <td>No</td>\n",
       "      <td>One year</td>\n",
       "      <td>No</td>\n",
       "      <td>Bank transfer (automatic)</td>\n",
       "      <td>42.30</td>\n",
       "      <td>1840.75</td>\n",
       "      <td>No</td>\n",
       "    </tr>\n",
       "    <tr>\n",
       "      <th>4</th>\n",
       "      <td>9237-HQITU</td>\n",
       "      <td>Female</td>\n",
       "      <td>0</td>\n",
       "      <td>No</td>\n",
       "      <td>No</td>\n",
       "      <td>2</td>\n",
       "      <td>Yes</td>\n",
       "      <td>No</td>\n",
       "      <td>Fiber optic</td>\n",
       "      <td>No</td>\n",
       "      <td>...</td>\n",
       "      <td>No</td>\n",
       "      <td>No</td>\n",
       "      <td>No</td>\n",
       "      <td>No</td>\n",
       "      <td>Month-to-month</td>\n",
       "      <td>Yes</td>\n",
       "      <td>Electronic check</td>\n",
       "      <td>70.70</td>\n",
       "      <td>151.65</td>\n",
       "      <td>Yes</td>\n",
       "    </tr>\n",
       "  </tbody>\n",
       "</table>\n",
       "<p>5 rows × 21 columns</p>\n",
       "</div>"
      ],
      "text/plain": [
       "   customerID  gender  SeniorCitizen Partner Dependents  tenure PhoneService  \\\n",
       "0  7590-VHVEG  Female              0     Yes         No       1           No   \n",
       "1  5575-GNVDE    Male              0      No         No      34          Yes   \n",
       "2  3668-QPYBK    Male              0      No         No       2          Yes   \n",
       "3  7795-CFOCW    Male              0      No         No      45           No   \n",
       "4  9237-HQITU  Female              0      No         No       2          Yes   \n",
       "\n",
       "      MultipleLines InternetService OnlineSecurity  ... DeviceProtection  \\\n",
       "0  No phone service             DSL             No  ...               No   \n",
       "1                No             DSL            Yes  ...              Yes   \n",
       "2                No             DSL            Yes  ...               No   \n",
       "3  No phone service             DSL            Yes  ...              Yes   \n",
       "4                No     Fiber optic             No  ...               No   \n",
       "\n",
       "  TechSupport StreamingTV StreamingMovies        Contract PaperlessBilling  \\\n",
       "0          No          No              No  Month-to-month              Yes   \n",
       "1          No          No              No        One year               No   \n",
       "2          No          No              No  Month-to-month              Yes   \n",
       "3         Yes          No              No        One year               No   \n",
       "4          No          No              No  Month-to-month              Yes   \n",
       "\n",
       "               PaymentMethod MonthlyCharges  TotalCharges Churn  \n",
       "0           Electronic check          29.85         29.85    No  \n",
       "1               Mailed check          56.95        1889.5    No  \n",
       "2               Mailed check          53.85        108.15   Yes  \n",
       "3  Bank transfer (automatic)          42.30       1840.75    No  \n",
       "4           Electronic check          70.70        151.65   Yes  \n",
       "\n",
       "[5 rows x 21 columns]"
      ]
     },
     "execution_count": 2,
     "metadata": {},
     "output_type": "execute_result"
    }
   ],
   "source": [
    "data = pd.read_csv('./data/TelcoCustomerChurn.csv')\n",
    "data.head()"
   ]
  },
  {
   "cell_type": "markdown",
   "metadata": {},
   "source": [
    "Before we go any further, I will share a description of each column as described on the dataset's [Kaggle](https://www.kaggle.com/blastchar/telco-customer-churn) page. "
   ]
  },
  {
   "cell_type": "markdown",
   "metadata": {},
   "source": [
    "**customerID** Customer ID\n",
    "\n",
    "**gender** Whether the customer is a male or a female\n",
    "\n",
    "**SeniorCitizen** Whether the customer is a senior citizen or not (1, 0)\n",
    "\n",
    "**Partner** Whether the customer has a partner or not (Yes, No)\n",
    "\n",
    "**Dependents** Whether the customer has dependents or not (Yes, No)\n",
    "\n",
    "**tenure** Number of months the customer has stayed with the company\n",
    "\n",
    "**PhoneService** Whether the customer has a phone service or not (Yes, No)\n",
    "\n",
    "**MultipleLines** Whether the customer has multiple lines or not (Yes, No, No phone service)\n",
    "\n",
    "**InternetService** Customer’s internet service provider (DSL, Fiber optic, No)\n",
    "\n",
    "**OnlineSecurity** Whether the customer has online security or not (Yes, No, No internet service)\n",
    "\n",
    "**OnlineBackup** Whether the customer has online backup or not (Yes, No, No internet service)\n",
    "\n",
    "**DeviceProtection** Whether the customer has device protection or not (Yes, No, No internet service)\n",
    "\n",
    "**TechSupport** Whether the customer has tech support or not (Yes, No, No internet service)\n",
    "\n",
    "**StreamingTV** Whether the customer has streaming TV or not (Yes, No, No internet service)\n",
    "\n",
    "**StreamingMovies** Whether the customer has streaming movies or not (Yes, No, No internet service)\n",
    "\n",
    "**Contract** The contract term of the customer (Month-to-month, One year, Two year)\n",
    "\n",
    "**PaperlessBilling** Whether the customer has paperless billing or not (Yes, No)\n",
    "\n",
    "**PaymentMethod** The customer’s payment method (Electronic check, Mailed check, Bank transfer (automatic), Credit card (automatic))\n",
    "\n",
    "**MonthlyCharges** The amount charged to the customer monthly\n",
    "\n",
    "**TotalCharges** The total amount charged to the customer\n",
    "\n",
    "**Churn** Whether the customer churned or not (Yes or No)"
   ]
  },
  {
   "cell_type": "markdown",
   "metadata": {},
   "source": [
    "### First, let's view the size of this dataset, find out if anything is missing from it, and if we have any duplicate entries."
   ]
  },
  {
   "cell_type": "code",
   "execution_count": 3,
   "metadata": {},
   "outputs": [
    {
     "name": "stdout",
     "output_type": "stream",
     "text": [
      "We have 7043 rows (observations) of data with 21 columns (features).\n",
      "\n",
      "Number of duplicate rows: 0\n",
      "\n"
     ]
    }
   ],
   "source": [
    "print('We have %d rows (observations) of data with %d columns (features).\\n' % (data.shape[0], data.shape[1]))\n",
    "dups = data[data.duplicated()]\n",
    "print(\"Number of duplicate rows: %d\\n\" % len(dups))"
   ]
  },
  {
   "cell_type": "code",
   "execution_count": 4,
   "metadata": {},
   "outputs": [
    {
     "name": "stdout",
     "output_type": "stream",
     "text": [
      "<class 'pandas.core.frame.DataFrame'>\n",
      "RangeIndex: 7043 entries, 0 to 7042\n",
      "Data columns (total 21 columns):\n",
      " #   Column            Non-Null Count  Dtype  \n",
      "---  ------            --------------  -----  \n",
      " 0   customerID        7043 non-null   object \n",
      " 1   gender            7043 non-null   object \n",
      " 2   SeniorCitizen     7043 non-null   int64  \n",
      " 3   Partner           7043 non-null   object \n",
      " 4   Dependents        7043 non-null   object \n",
      " 5   tenure            7043 non-null   int64  \n",
      " 6   PhoneService      7043 non-null   object \n",
      " 7   MultipleLines     7043 non-null   object \n",
      " 8   InternetService   7043 non-null   object \n",
      " 9   OnlineSecurity    7043 non-null   object \n",
      " 10  OnlineBackup      7043 non-null   object \n",
      " 11  DeviceProtection  7043 non-null   object \n",
      " 12  TechSupport       7043 non-null   object \n",
      " 13  StreamingTV       7043 non-null   object \n",
      " 14  StreamingMovies   7043 non-null   object \n",
      " 15  Contract          7043 non-null   object \n",
      " 16  PaperlessBilling  7043 non-null   object \n",
      " 17  PaymentMethod     7043 non-null   object \n",
      " 18  MonthlyCharges    7043 non-null   float64\n",
      " 19  TotalCharges      7043 non-null   object \n",
      " 20  Churn             7043 non-null   object \n",
      "dtypes: float64(1), int64(2), object(18)\n",
      "memory usage: 1.1+ MB\n"
     ]
    }
   ],
   "source": [
    "data.info()"
   ]
  },
  {
   "cell_type": "code",
   "execution_count": 5,
   "metadata": {},
   "outputs": [
    {
     "data": {
      "text/html": [
       "<div>\n",
       "<style scoped>\n",
       "    .dataframe tbody tr th:only-of-type {\n",
       "        vertical-align: middle;\n",
       "    }\n",
       "\n",
       "    .dataframe tbody tr th {\n",
       "        vertical-align: top;\n",
       "    }\n",
       "\n",
       "    .dataframe thead th {\n",
       "        text-align: right;\n",
       "    }\n",
       "</style>\n",
       "<table border=\"1\" class=\"dataframe\">\n",
       "  <thead>\n",
       "    <tr style=\"text-align: right;\">\n",
       "      <th></th>\n",
       "      <th>SeniorCitizen</th>\n",
       "      <th>tenure</th>\n",
       "      <th>MonthlyCharges</th>\n",
       "    </tr>\n",
       "  </thead>\n",
       "  <tbody>\n",
       "    <tr>\n",
       "      <th>count</th>\n",
       "      <td>7043.000000</td>\n",
       "      <td>7043.000000</td>\n",
       "      <td>7043.000000</td>\n",
       "    </tr>\n",
       "    <tr>\n",
       "      <th>mean</th>\n",
       "      <td>0.162147</td>\n",
       "      <td>32.371149</td>\n",
       "      <td>64.761692</td>\n",
       "    </tr>\n",
       "    <tr>\n",
       "      <th>std</th>\n",
       "      <td>0.368612</td>\n",
       "      <td>24.559481</td>\n",
       "      <td>30.090047</td>\n",
       "    </tr>\n",
       "    <tr>\n",
       "      <th>min</th>\n",
       "      <td>0.000000</td>\n",
       "      <td>0.000000</td>\n",
       "      <td>18.250000</td>\n",
       "    </tr>\n",
       "    <tr>\n",
       "      <th>25%</th>\n",
       "      <td>0.000000</td>\n",
       "      <td>9.000000</td>\n",
       "      <td>35.500000</td>\n",
       "    </tr>\n",
       "    <tr>\n",
       "      <th>50%</th>\n",
       "      <td>0.000000</td>\n",
       "      <td>29.000000</td>\n",
       "      <td>70.350000</td>\n",
       "    </tr>\n",
       "    <tr>\n",
       "      <th>75%</th>\n",
       "      <td>0.000000</td>\n",
       "      <td>55.000000</td>\n",
       "      <td>89.850000</td>\n",
       "    </tr>\n",
       "    <tr>\n",
       "      <th>max</th>\n",
       "      <td>1.000000</td>\n",
       "      <td>72.000000</td>\n",
       "      <td>118.750000</td>\n",
       "    </tr>\n",
       "  </tbody>\n",
       "</table>\n",
       "</div>"
      ],
      "text/plain": [
       "       SeniorCitizen       tenure  MonthlyCharges\n",
       "count    7043.000000  7043.000000     7043.000000\n",
       "mean        0.162147    32.371149       64.761692\n",
       "std         0.368612    24.559481       30.090047\n",
       "min         0.000000     0.000000       18.250000\n",
       "25%         0.000000     9.000000       35.500000\n",
       "50%         0.000000    29.000000       70.350000\n",
       "75%         0.000000    55.000000       89.850000\n",
       "max         1.000000    72.000000      118.750000"
      ]
     },
     "execution_count": 5,
     "metadata": {},
     "output_type": "execute_result"
    }
   ],
   "source": [
    "data.describe()"
   ]
  },
  {
   "cell_type": "markdown",
   "metadata": {},
   "source": [
    "Also, we want to get a look at the target variable before we go any further."
   ]
  },
  {
   "cell_type": "code",
   "execution_count": 6,
   "metadata": {},
   "outputs": [
    {
     "data": {
      "text/plain": [
       "No     5174\n",
       "Yes    1869\n",
       "Name: Churn, dtype: int64"
      ]
     },
     "execution_count": 6,
     "metadata": {},
     "output_type": "execute_result"
    }
   ],
   "source": [
    "data['Churn'].value_counts()"
   ]
  },
  {
   "cell_type": "markdown",
   "metadata": {},
   "source": [
    "So, right from the start, we see we have a major imbalance in the dataset. Let's visualize this."
   ]
  },
  {
   "cell_type": "code",
   "execution_count": 7,
   "metadata": {},
   "outputs": [
    {
     "data": {
      "image/png": "[encoded data removed]",
      "text/plain": [
       "<Figure size 864x432 with 2 Axes>"
      ]
     },
     "metadata": {},
     "output_type": "display_data"
    }
   ],
   "source": [
    "fig, (ax1, ax2) = plt.subplots(1,2)\n",
    "fig.set_figheight(6)\n",
    "fig.set_figwidth(12)\n",
    "\n",
    "ax1.pie(data['Churn'].value_counts(), explode=(0,0.1), autopct='%1.1f%%',\n",
    "        shadow=True, startangle=90, labels=data['Churn'].unique(), colors=col_scheme)\n",
    "fig.set_facecolor('white')\n",
    "\n",
    "ax2.bar(data['Churn'].unique(), data['Churn'].value_counts(), color=col_scheme)\n",
    "ax1.text(0.5, 0.0, \"Number of customers who stayed = %d\" % len(data[data['Churn'] == 'No']), size=12, ha=\"center\", \n",
    "         transform=ax1.transAxes)\n",
    "ax1.text(0.5,-0.1, \"Number of customers who left = %d\" % len(data[data['Churn'] == 'Yes']), size=12, ha=\"center\", \n",
    "         transform=ax1.transAxes)\n",
    "\n",
    "plt.suptitle('Churn')\n",
    "plt.show()"
   ]
  },
  {
   "cell_type": "markdown",
   "metadata": {},
   "source": [
    "Next, we'll display some plots for the various columns to get a good understanding of how the data is distributed."
   ]
  },
  {
   "cell_type": "code",
   "execution_count": 8,
   "metadata": {},
   "outputs": [
    {
     "data": {
      "image/png": "[encoded data removed]",
      "text/plain": [
       "<Figure size 648x432 with 1 Axes>"
      ]
     },
     "metadata": {
      "needs_background": "light"
     },
     "output_type": "display_data"
    }
   ],
   "source": [
    "plt.figure(figsize = (9,6))\n",
    "ten_mean = np.mean(data['tenure'])\n",
    "ten_med = np.median(data['tenure'])\n",
    "plt.hist(data[\"tenure\"], bins = 25, alpha = 0.65, color = 'green')\n",
    "plt.title(\"tenure\", fontsize = 15)\n",
    "plt.ylabel(\"Number of customers\", fontsize = 15)\n",
    "plt.xlabel(\"Months\", fontsize = 15)\n",
    "plt.xticks(np.arange(0, 75, step=6))\n",
    "plt.axvline(ten_mean, color='red', linestyle='solid', linewidth=2, label = \"Mean %.2f\" % ten_mean)\n",
    "plt.axvline(ten_med, color='blue', linestyle='solid', linewidth=2, label = \"Median %.2f\" % ten_med)\n",
    "plt.legend(fontsize = 12)\n",
    "plt.show()"
   ]
  },
  {
   "cell_type": "code",
   "execution_count": 9,
   "metadata": {},
   "outputs": [
    {
     "name": "stdout",
     "output_type": "stream",
     "text": [
      "Percentage of customers who left before 6 months? : 19.47%\n"
     ]
    }
   ],
   "source": [
    "print(\"Percentage of customers who left before 6 months? : %.2f%%\" % ((len(data[data['tenure'] < 6])) / len(data['tenure']) * 100))"
   ]
  },
  {
   "cell_type": "markdown",
   "metadata": {},
   "source": [
    "Wow, that is A LOT of customers leaving in their first 5 months with the company. It looks like something happens around the 6 year mark that is also causing people to leave, but we can't automatically jump to the conclusion in this case; it could be an effect of data collection or some other unknown cause. Let's focus on those people leaving in the first 5 months and see if they are breaking contract or leaving their Month-to-month plans."
   ]
  },
  {
   "cell_type": "code",
   "execution_count": 10,
   "metadata": {},
   "outputs": [],
   "source": [
    "under_6 = data[data['tenure'] < 6]"
   ]
  },
  {
   "cell_type": "code",
   "execution_count": 11,
   "metadata": {},
   "outputs": [
    {
     "data": {
      "image/png": "[encoded data removed]",
      "text/plain": [
       "<Figure size 648x432 with 1 Axes>"
      ]
     },
     "metadata": {
      "needs_background": "light"
     },
     "output_type": "display_data"
    }
   ],
   "source": [
    "sns.set_palette(sns.color_palette(col_scheme))\n",
    "plt.figure(figsize=(9,6))\n",
    "sns.countplot(x=under_6['Contract'], hue=under_6['Churn']).set_title('Churn vs. PaymentMethod')\n",
    "plt.show()"
   ]
  },
  {
   "cell_type": "markdown",
   "metadata": {},
   "source": [
    "The good news here is that there aren't that many customers who become so disgruntled that they decide to break contract. The amount of Month-to-month customers leaving before 6 months is still alarming though."
   ]
  },
  {
   "cell_type": "code",
   "execution_count": 12,
   "metadata": {},
   "outputs": [
    {
     "data": {
      "image/png": "[encoded data removed]",
      "text/plain": [
       "<Figure size 720x432 with 1 Axes>"
      ]
     },
     "metadata": {
      "needs_background": "light"
     },
     "output_type": "display_data"
    }
   ],
   "source": [
    "plt.figure(figsize = (10,6))\n",
    "mc_mean = np.mean(data['MonthlyCharges'])\n",
    "mc_med = np.median(data['MonthlyCharges'])\n",
    "plt.hist(data[\"MonthlyCharges\"], bins = 25, alpha = 0.65, color = 'green')\n",
    "plt.xticks(np.arange(20, 125, step=5))\n",
    "plt.title(\"MonthlyCharges\", fontsize = 15)\n",
    "plt.ylabel(\"Number of customers\", fontsize = 15)\n",
    "plt.xlabel(\"Monthly Bill Amount\", fontsize = 15)\n",
    "plt.axvline(mc_mean, color='red', linestyle='solid', linewidth=2, label = \"Mean %.2f\" % mc_mean)\n",
    "plt.axvline(mc_med, color='blue', linestyle='solid', linewidth=2, label = \"Median %.2f\" % mc_med)\n",
    "plt.legend(fontsize = 12)\n",
    "plt.show()"
   ]
  },
  {
   "cell_type": "code",
   "execution_count": 13,
   "metadata": {},
   "outputs": [
    {
     "name": "stdout",
     "output_type": "stream",
     "text": [
      "Percentage of customers with a Monthly Bill of $25 or less? 19.96%\n"
     ]
    }
   ],
   "source": [
    "print(\"Percentage of customers with a Monthly Bill of $25 or less? %.2f%%\" % ((len(data[data['MonthlyCharges'] < 25.01])) / len(data['MonthlyCharges']) * 100))"
   ]
  },
  {
   "cell_type": "markdown",
   "metadata": {},
   "source": [
    "For some odd reason, we run into an small issue here where **TotalCharges** is being read as a string variable. We'll coerce it to a float so we can proceed with our histogram."
   ]
  },
  {
   "cell_type": "code",
   "execution_count": 14,
   "metadata": {},
   "outputs": [],
   "source": [
    "# Convert data in 'TotalCharges' from string to float.\n",
    "data['TotalCharges'] = pd.to_numeric(data['TotalCharges'],errors='coerce')"
   ]
  },
  {
   "cell_type": "code",
   "execution_count": 15,
   "metadata": {},
   "outputs": [
    {
     "name": "stdout",
     "output_type": "stream",
     "text": [
      "How many missing values in 'TotalCharges' after coercion? : 11\n",
      "What percentage of the data are these missing values? : 0.16%\n"
     ]
    }
   ],
   "source": [
    "print(\"How many missing values in 'TotalCharges' after coercion? : %d\" % data['TotalCharges'].isnull().sum())\n",
    "print(\"What percentage of the data are these missing values? : %0.2f%%\" % ((data['TotalCharges'].isnull().sum()) / (len(data['TotalCharges'])) * 100))"
   ]
  },
  {
   "cell_type": "markdown",
   "metadata": {},
   "source": [
    "After coercion of **TotalCharges** from string to float, we see that we actaully do have some missing values. It is safe to assume that these values are simply missing at random, so we’ll just remove these observations considering they only account for **0.16%** of the data.\n",
    "* Note: If we REALLY wanted to retain these rows, an easy fix is to fill the missing value with the mean or median. A more time consuming fix would be to construct a regression model that predicts these values - it would likely give us a better imputed value."
   ]
  },
  {
   "cell_type": "code",
   "execution_count": 16,
   "metadata": {},
   "outputs": [],
   "source": [
    "data2 = data[data[\"TotalCharges\"].notnull()] # Keep rows for which 'TotalCharges' has recorded data\n",
    "data2 = data2.reset_index(drop=True) # Reset the index of the dataframe"
   ]
  },
  {
   "cell_type": "code",
   "execution_count": 17,
   "metadata": {},
   "outputs": [
    {
     "data": {
      "image/png": "[encoded data removed]",
      "text/plain": [
       "<Figure size 1296x432 with 1 Axes>"
      ]
     },
     "metadata": {
      "needs_background": "light"
     },
     "output_type": "display_data"
    }
   ],
   "source": [
    "plt.figure(figsize = (18,6))\n",
    "tc_mean = np.mean(data2['TotalCharges'])\n",
    "tc_med = np.median(data2['TotalCharges'])\n",
    "plt.hist(data2['TotalCharges'], bins = 25, alpha = 0.65, color = 'green')\n",
    "plt.title('TotalCharges', fontsize = 15)\n",
    "plt.ylabel(\"Number of customers\", fontsize = 15)\n",
    "plt.xlabel(\"Total Amount Charged\", fontsize = 15)\n",
    "plt.xticks(np.arange(0, 8800, 300))\n",
    "plt.axvline(tc_mean, color='red', linestyle='solid', linewidth=2, label = \"Mean %.2f\" % tc_mean)\n",
    "plt.axvline(tc_med, color='blue', linestyle='solid', linewidth=2, label = \"Median %.2f\" % tc_med)\n",
    "plt.legend(fontsize = 12)\n",
    "plt.show()"
   ]
  },
  {
   "cell_type": "code",
   "execution_count": 18,
   "metadata": {},
   "outputs": [
    {
     "name": "stdout",
     "output_type": "stream",
     "text": [
      "Percentage of customers with TotalCharges less than $300? 21.33%\n"
     ]
    }
   ],
   "source": [
    "print(\"Percentage of customers with TotalCharges less than $300? %.2f%%\" % ((len(data2[data2['TotalCharges'] < 300])) / len(data2['TotalCharges']) * 100))"
   ]
  },
  {
   "cell_type": "markdown",
   "metadata": {},
   "source": [
    "We had to stretch out this histogram in order to get a better look, but we see that **21.33%** of the customers had **TotalCharges** less than **\\$300**."
   ]
  },
  {
   "cell_type": "markdown",
   "metadata": {},
   "source": [
    "With the visuals above we can gather that:\n",
    "* Getting these customers to stay for even just 6 months is a major problem. This accounts for **19.34%** of customers in the dataset.\n",
    "* The minimum amount a customer can pay per month is **\\\\$18.25** and **19.94%** of customers are paying no more than **\\\\$6.75** of that minimum amount. \n",
    "* About 1/5 of the customers in this data set have only been charged less than **\\\\$300** total, which makes sense when we consider the previous two points."
   ]
  },
  {
   "cell_type": "markdown",
   "metadata": {},
   "source": [
    "Something else we should look into are the columns that have a relationship with **InternetService**. For columns **OnlineSecurity**, **OnlineBackup**, **DeviceProtection**, **TechSupport**, **StreamingTV**, **StreamingMovies** the responses are: 'Yes', 'No', and 'No internet service'. We should make sure that if a customer has no internet service they also have a response for the above columns of 'No internet service'. If this is the case across the board, we can change these columns to binary variables with responses of simply 'Yes' or 'No'."
   ]
  },
  {
   "cell_type": "code",
   "execution_count": 19,
   "metadata": {},
   "outputs": [],
   "source": [
    "no_www = data2[data2.InternetService == 'No'] # Subset customers that have no internet service"
   ]
  },
  {
   "cell_type": "code",
   "execution_count": 20,
   "metadata": {},
   "outputs": [
    {
     "name": "stdout",
     "output_type": "stream",
     "text": [
      "['No internet service']\n",
      "['No internet service']\n",
      "['No internet service']\n",
      "['No internet service']\n",
      "['No internet service']\n",
      "['No internet service']\n"
     ]
    }
   ],
   "source": [
    "# Check for unique values in the given columns. Should only print 'No internet service' to confirm our assumption.\n",
    "print(no_www['OnlineSecurity'].unique())\n",
    "print(no_www['OnlineBackup'].unique())\n",
    "print(no_www['DeviceProtection'].unique())\n",
    "print(no_www['TechSupport'].unique())\n",
    "print(no_www['StreamingTV'].unique())\n",
    "print(no_www['StreamingMovies'].unique())"
   ]
  },
  {
   "cell_type": "markdown",
   "metadata": {},
   "source": [
    "Confirmed! So, for the above columns/variables, we'll convert to binary. Which, in this case, simply means that we are removing a 3rd response option, leaving us with only 'Yes' or 'No'."
   ]
  },
  {
   "cell_type": "code",
   "execution_count": 21,
   "metadata": {},
   "outputs": [],
   "source": [
    "# Create a list for looping through the dataframe and converting to binary \n",
    "binaries = ['OnlineSecurity', 'OnlineBackup', 'DeviceProtection', 'TechSupport', 'StreamingTV', 'StreamingMovies']"
   ]
  },
  {
   "cell_type": "code",
   "execution_count": 22,
   "metadata": {},
   "outputs": [],
   "source": [
    "# Loop and replace\n",
    "for i in binaries:\n",
    "    data2[i] = data2[i].replace({'No internet service' : 'No'})"
   ]
  },
  {
   "cell_type": "markdown",
   "metadata": {},
   "source": [
    "Next, just a bit of manipulation for the sake of aesthetic in our charts."
   ]
  },
  {
   "cell_type": "code",
   "execution_count": 23,
   "metadata": {},
   "outputs": [],
   "source": [
    "data2[\"SeniorCitizen\"] = data2[\"SeniorCitizen\"].replace({1:\"Yes\",0:\"No\"}) # We will convert this back later - this is only for the EDA."
   ]
  },
  {
   "cell_type": "markdown",
   "metadata": {},
   "source": [
    "Now let's look at customer churning against the different variables."
   ]
  },
  {
   "cell_type": "code",
   "execution_count": 24,
   "metadata": {},
   "outputs": [
    {
     "data": {
      "image/png": "[encoded data removed]",
      "text/plain": [
       "<Figure size 1800x1296 with 12 Axes>"
      ]
     },
     "metadata": {
      "needs_background": "light"
     },
     "output_type": "display_data"
    }
   ],
   "source": [
    "sns.set_palette(sns.color_palette(col_scheme))\n",
    "fig, ax=plt.subplots(3,4,figsize=(25,18))\n",
    "\n",
    "sns.countplot(x=data2['gender'], hue=data2['Churn'], ax=ax[0,0])\n",
    "ax[0,0].set_title('Churn vs. gender')\n",
    "sns.countplot(x=data2['SeniorCitizen'], hue=data2['Churn'], ax=ax[0,1])\n",
    "ax[0,1].set_title('Churn vs. SeniorCitizen')\n",
    "sns.countplot(x=data2['Partner'], hue=data2['Churn'], ax=ax[0,2])\n",
    "ax[0,2].set_title('Churn vs. Partner')\n",
    "sns.countplot(x=data2['Dependents'], hue=data2['Churn'], ax=ax[0,3])\n",
    "ax[0,3].set_title('Churn vs. Dependents')\n",
    "\n",
    "sns.countplot(x=data2['PhoneService'], hue=data2['Churn'], ax=ax[1,0])\n",
    "ax[1,0].set_title('Churn vs. PhoneService')\n",
    "sns.countplot(x=data2['MultipleLines'], hue=data2['Churn'], ax=ax[1,1])\n",
    "ax[1,1].set_title('Churn vs. MultipleLines')\n",
    "sns.countplot(x=data2['InternetService'], hue=data2['Churn'], ax=ax[1,2])\n",
    "ax[1,2].set_title('Churn vs. InternetService')\n",
    "sns.countplot(x=data2['OnlineSecurity'], hue=data2['Churn'], ax=ax[1,3])\n",
    "ax[1,3].set_title('Churn vs. OnlineSecurity')\n",
    "\n",
    "sns.countplot(x=data2['OnlineBackup'], hue=data2['Churn'], ax=ax[2,0])\n",
    "ax[2,0].set_title('Churn vs. OnlineBackup')\n",
    "sns.countplot(x=data2['DeviceProtection'], hue=data2['Churn'], ax=ax[2,1])\n",
    "ax[2,1].set_title('Churn vs. DeviceProtection')\n",
    "sns.countplot(x=data2['TechSupport'], hue=data2['Churn'], ax=ax[2,2])\n",
    "ax[2,2].set_title('Churn vs. TechSupport')\n",
    "sns.countplot(x=data2['StreamingTV'], hue=data2['Churn'], ax=ax[2,3])\n",
    "ax[2,3].set_title('Churn vs. StreamingTV')\n",
    "plt.show()"
   ]
  },
  {
   "cell_type": "markdown",
   "metadata": {},
   "source": [
    "Only a few things of note from these graphs above:\n",
    "* Senior Citizen customers luckily make up a small portion of the business because almost as many left as stayed.\n",
    "* The amount of customers with a partner versus with no partner is fairly even. But if we look at customers who don't have a partner and left the company, the amount is almost double those with a partner who left.\n",
    "* There are less customers using Fiber Optic **InternetService** than there are using DSL service. However, the amount of customers who left the company and had Fiber Optic **InternetService** versus the amount who left and had DSL is more than double."
   ]
  },
  {
   "cell_type": "code",
   "execution_count": 25,
   "metadata": {},
   "outputs": [
    {
     "data": {
      "image/png": "[encoded data removed]",
      "text/plain": [
       "<Figure size 1296x432 with 3 Axes>"
      ]
     },
     "metadata": {
      "needs_background": "light"
     },
     "output_type": "display_data"
    }
   ],
   "source": [
    "fig, ax = plt.subplots(1,3,figsize=(18,6))\n",
    "\n",
    "sns.countplot(x=data2['StreamingMovies'], hue=data2['Churn'], ax=ax[0])\n",
    "ax[0].set_title('Churn vs. StreamingMovies')\n",
    "sns.countplot(x=data2['Contract'], hue=data2['Churn'], ax=ax[1])\n",
    "ax[1].set_title('Churn vs. Contract')\n",
    "sns.countplot(x=data2['PaperlessBilling'], hue=data2['Churn'], ax=ax[2])\n",
    "ax[2].set_title('Churn vs. PaperlessBilling')\n",
    "plt.show()"
   ]
  },
  {
   "cell_type": "markdown",
   "metadata": {},
   "source": [
    "Two things stand out from these three graphs above:\n",
    "* Look at all those Month-to-month customers who leave the company in the Churn vs. Contract graph! \n",
    "* Customers with paperless billing left at a much higher frequency than customers who recieve paper copies of their bill."
   ]
  },
  {
   "cell_type": "code",
   "execution_count": 26,
   "metadata": {},
   "outputs": [
    {
     "data": {
      "image/png": "[encoded data removed]",
      "text/plain": [
       "<Figure size 1080x504 with 1 Axes>"
      ]
     },
     "metadata": {
      "needs_background": "light"
     },
     "output_type": "display_data"
    }
   ],
   "source": [
    "plt.figure(figsize=(15,7))\n",
    "sns.countplot(x=data2['PaymentMethod'], hue=data2['Churn']).set_title('Churn vs. PaymentMethod')\n",
    "plt.show()"
   ]
  },
  {
   "cell_type": "markdown",
   "metadata": {},
   "source": [
    "This is interesting: People pay their bill equally porportional across all methods, but for some reason those who pay electronically are leaving the company at almost 4 times the rate. The raw numbers are below."
   ]
  },
  {
   "cell_type": "code",
   "execution_count": 27,
   "metadata": {},
   "outputs": [
    {
     "data": {
      "text/html": [
       "<div>\n",
       "<style scoped>\n",
       "    .dataframe tbody tr th:only-of-type {\n",
       "        vertical-align: middle;\n",
       "    }\n",
       "\n",
       "    .dataframe tbody tr th {\n",
       "        vertical-align: top;\n",
       "    }\n",
       "\n",
       "    .dataframe thead th {\n",
       "        text-align: right;\n",
       "    }\n",
       "</style>\n",
       "<table border=\"1\" class=\"dataframe\">\n",
       "  <thead>\n",
       "    <tr style=\"text-align: right;\">\n",
       "      <th></th>\n",
       "      <th></th>\n",
       "      <th>Churn</th>\n",
       "    </tr>\n",
       "    <tr>\n",
       "      <th>PaymentMethod</th>\n",
       "      <th>Churn</th>\n",
       "      <th></th>\n",
       "    </tr>\n",
       "  </thead>\n",
       "  <tbody>\n",
       "    <tr>\n",
       "      <th rowspan=\"2\" valign=\"top\">Bank transfer (automatic)</th>\n",
       "      <th>No</th>\n",
       "      <td>1284</td>\n",
       "    </tr>\n",
       "    <tr>\n",
       "      <th>Yes</th>\n",
       "      <td>258</td>\n",
       "    </tr>\n",
       "    <tr>\n",
       "      <th rowspan=\"2\" valign=\"top\">Credit card (automatic)</th>\n",
       "      <th>No</th>\n",
       "      <td>1289</td>\n",
       "    </tr>\n",
       "    <tr>\n",
       "      <th>Yes</th>\n",
       "      <td>232</td>\n",
       "    </tr>\n",
       "    <tr>\n",
       "      <th rowspan=\"2\" valign=\"top\">Electronic check</th>\n",
       "      <th>No</th>\n",
       "      <td>1294</td>\n",
       "    </tr>\n",
       "    <tr>\n",
       "      <th>Yes</th>\n",
       "      <td>1071</td>\n",
       "    </tr>\n",
       "    <tr>\n",
       "      <th rowspan=\"2\" valign=\"top\">Mailed check</th>\n",
       "      <th>No</th>\n",
       "      <td>1296</td>\n",
       "    </tr>\n",
       "    <tr>\n",
       "      <th>Yes</th>\n",
       "      <td>308</td>\n",
       "    </tr>\n",
       "  </tbody>\n",
       "</table>\n",
       "</div>"
      ],
      "text/plain": [
       "                                 Churn\n",
       "PaymentMethod             Churn       \n",
       "Bank transfer (automatic) No      1284\n",
       "                          Yes      258\n",
       "Credit card (automatic)   No      1289\n",
       "                          Yes      232\n",
       "Electronic check          No      1294\n",
       "                          Yes     1071\n",
       "Mailed check              No      1296\n",
       "                          Yes      308"
      ]
     },
     "execution_count": 27,
     "metadata": {},
     "output_type": "execute_result"
    }
   ],
   "source": [
    "pay_meth = pd.DataFrame(data2.groupby(['PaymentMethod', 'Churn'])['Churn'].count())\n",
    "pay_meth"
   ]
  },
  {
   "cell_type": "markdown",
   "metadata": {},
   "source": [
    "## III. Data Preprocessing"
   ]
  },
  {
   "cell_type": "markdown",
   "metadata": {},
   "source": [
    "#### More libraries:"
   ]
  },
  {
   "cell_type": "code",
   "execution_count": 28,
   "metadata": {},
   "outputs": [],
   "source": [
    "from sklearn.preprocessing import StandardScaler\n",
    "from sklearn.model_selection import train_test_split\n",
    "from sklearn.compose import ColumnTransformer"
   ]
  },
  {
   "cell_type": "markdown",
   "metadata": {},
   "source": [
    "The goal in this section, Data Preprocessing, is to get our data ready for modeling. In this project we will do that in three ways:\n",
    "1. We'll be creating dummy variables using `get_dummies()` from `pandas`. This will create new columns out of our categorical features. To demonstrate, Contract will get binary columns for each response: Contract_Month-to-month : 1 or 0, Contract_One year : 1 or 0, etc. and of course, 1 or 0 will be indicate Yes or No, respectively. Another (faster) way we could've done this is using a pipline with a column transformer. However, retaining the column names to learn about feature importances would be a hefty task. \n",
    "\n",
    "2. We don't want to go creating a ton of dummy variables, so we'll only use `get_dummies()` on the categorical features that have more than 2 responses. For the rest - the binary features - we can just map all the 'Yes' responses to equal 1 and all the 'No' responses to equal 0.\n",
    "\n",
    "3. We will then take our continuous variables (**tenure**, **MonthlyCharges**, **TotalCharges**) and scale them using `StandardScaler()`. There is plenty to read on the internet about [Feature Scaling](https://en.wikipedia.org/wiki/Feature_scaling). Here is the short version: each value in a column is subtracted by the mean of the column, that number is then divided by the standard deviation of the column, that value now replaces the original value and the end result is that the new mean of the column is 0 and the new standard deviation is 1. The point of this process is to get our variables on the same scale for more effective learning. **Random Forest won't see much of an effect from this**.\n",
    "\n",
    "4. Before we do all that we will split the data into training and testing sets. The testing set will consist of 15% of the full dataset, which means that the training set will have 85% of the full dataset.\n",
    "\n",
    "5. The final thing that we want to look into is the imbalance of our data. For the sake of our sanity, we'll run the models with the data after we conduct all of the above preprocessing steps. When we get all those results, we will use *Synthetic Minority Over-Sampling Technique* (SMOTE) to balance out the data and see if we get any improvements in accuracy."
   ]
  },
  {
   "cell_type": "code",
   "execution_count": 29,
   "metadata": {},
   "outputs": [],
   "source": [
    "# Drop 'customerID'\n",
    "data2.drop('customerID', axis=1, inplace=True)"
   ]
  },
  {
   "cell_type": "code",
   "execution_count": 30,
   "metadata": {},
   "outputs": [],
   "source": [
    "# List of categorical and continuous features, sperating binaries, and exlcuding 'gender' and target variable 'Churn'.\n",
    "cont_feats = ['tenure', 'MonthlyCharges', 'TotalCharges']\n",
    "binary_feats = [i for i in data2.columns[:-1] if len(data2[i].unique()) == 2]\n",
    "binary_feats.remove('gender')\n",
    "cat_feats = [i for i in data2.columns[:-1] if i not in cont_feats + binary_feats]"
   ]
  },
  {
   "cell_type": "code",
   "execution_count": 31,
   "metadata": {},
   "outputs": [],
   "source": [
    "# Map the binaries 'Yes' and 'No' responses to equal 1 and 0, respectively.\n",
    "data2[binary_feats] = data2[binary_feats].replace(to_replace=['Yes', 'No'], value=[1, 0])"
   ]
  },
  {
   "cell_type": "code",
   "execution_count": 32,
   "metadata": {},
   "outputs": [],
   "source": [
    "# Creat the dummy variables for features with more than 2 responses\n",
    "final_dat = pd.get_dummies(data2, columns=cat_feats)"
   ]
  },
  {
   "cell_type": "code",
   "execution_count": 33,
   "metadata": {},
   "outputs": [],
   "source": [
    "# Train/Test Split\n",
    "train_set, test_set = train_test_split(final_dat, test_size=0.15, random_state=2021)"
   ]
  },
  {
   "cell_type": "code",
   "execution_count": 34,
   "metadata": {},
   "outputs": [],
   "source": [
    "# Finalize our list of features\n",
    "feats = [i for i in final_dat if i != 'Churn']"
   ]
  },
  {
   "cell_type": "code",
   "execution_count": 35,
   "metadata": {},
   "outputs": [],
   "source": [
    "# Finalize the structure\n",
    "data_tr = train_set[feats].copy()\n",
    "train_labels = train_set['Churn'].copy()\n",
    "data_te = test_set[feats].copy()\n",
    "test_labels = test_set['Churn'].copy()"
   ]
  },
  {
   "cell_type": "code",
   "execution_count": 36,
   "metadata": {},
   "outputs": [],
   "source": [
    "# Scale the train data\n",
    "col_trans = ColumnTransformer([\n",
    "    ('num', StandardScaler(),  cont_feats)], remainder='passthrough')\n",
    "\n",
    "train_prep = col_trans.fit_transform(data_tr)"
   ]
  },
  {
   "cell_type": "code",
   "execution_count": 37,
   "metadata": {},
   "outputs": [],
   "source": [
    "# Scale the test data based on the training data\n",
    "test_prep = col_trans.transform(data_te)"
   ]
  },
  {
   "cell_type": "code",
   "execution_count": 38,
   "metadata": {},
   "outputs": [],
   "source": [
    "# Restructure the list of feature names so that we can use it for feature importances later\n",
    "new_order = [i for i in data_tr.columns if i not in cont_feats]\n",
    "new_order = cont_feats+new_order"
   ]
  },
  {
   "cell_type": "code",
   "execution_count": 39,
   "metadata": {},
   "outputs": [
    {
     "data": {
      "text/plain": [
       "(5977, 29)"
      ]
     },
     "execution_count": 39,
     "metadata": {},
     "output_type": "execute_result"
    }
   ],
   "source": [
    "train_prep.shape"
   ]
  },
  {
   "cell_type": "markdown",
   "metadata": {},
   "source": [
    "## IV. Modeling"
   ]
  },
  {
   "cell_type": "markdown",
   "metadata": {},
   "source": [
    "### Regarding metrics and scoring the performance of our model: Obviously, the company wants to retain as many customers as possible. The goal of this project is to correctly predict which customers will churn. From a business viewpoint, we would want to allocate resources toward focusing on the characteristics of a customer who churns, and spend money there with the goal of reducing churning. Interpeting that from a machine learning perspective: we want to focus on **Recall** which is a measure used for the effort of reducing False Negatives. We can't let customers slip away because we incorrectly predicted that they would stay.\n",
    "* TL;DR - We will be using `recall` for our scoring measure."
   ]
  },
  {
   "cell_type": "markdown",
   "metadata": {},
   "source": [
    "#### And even more libraries:"
   ]
  },
  {
   "cell_type": "code",
   "execution_count": 40,
   "metadata": {},
   "outputs": [],
   "source": [
    "from sklearn.model_selection import RandomizedSearchCV\n",
    "from sklearn.ensemble import RandomForestClassifier\n",
    "from sklearn.linear_model import LogisticRegression\n",
    "from sklearn.svm import SVC\n",
    "from sklearn.metrics import confusion_matrix\n",
    "from sklearn.metrics import accuracy_score\n",
    "from sklearn.metrics import recall_score\n",
    "from sklearn.metrics import classification_report\n",
    "from numpy import random"
   ]
  },
  {
   "cell_type": "markdown",
   "metadata": {},
   "source": [
    "## IV.i Random Forest"
   ]
  },
  {
   "cell_type": "markdown",
   "metadata": {},
   "source": [
    "We are going to implement **RandomizedSearchCV** to help us tune our model so we are using the best parameters from a list of different parameters we would like to train on."
   ]
  },
  {
   "cell_type": "code",
   "execution_count": 41,
   "metadata": {},
   "outputs": [],
   "source": [
    "# Outline parameters to test\n",
    "param_grid = {\n",
    "    'n_estimators': random.randint(100,600,3),\n",
    "    'max_features' : random.randint(10,29,3),\n",
    "    'max_depth' : [3,4,5],\n",
    "    'bootstrap' : [True, False]\n",
    "}"
   ]
  },
  {
   "cell_type": "code",
   "execution_count": 42,
   "metadata": {},
   "outputs": [
    {
     "data": {
      "text/plain": [
       "RandomizedSearchCV(cv=3, estimator=RandomForestClassifier(random_state=2021),\n",
       "                   param_distributions={'bootstrap': [True, False],\n",
       "                                        'max_depth': [3, 4, 5],\n",
       "                                        'max_features': array([28, 17, 23]),\n",
       "                                        'n_estimators': array([323, 392, 485])},\n",
       "                   return_train_score=True, scoring='accuracy')"
      ]
     },
     "execution_count": 42,
     "metadata": {},
     "output_type": "execute_result"
    }
   ],
   "source": [
    "rf_clf = RandomForestClassifier(random_state=2021)\n",
    "rf_grid = RandomizedSearchCV(rf_clf, param_grid, cv=3, scoring='accuracy',\n",
    "                           return_train_score=True)\n",
    "rf_grid.fit(train_prep, train_labels)"
   ]
  },
  {
   "cell_type": "code",
   "execution_count": 43,
   "metadata": {},
   "outputs": [
    {
     "data": {
      "text/html": [
       "<div>\n",
       "<style scoped>\n",
       "    .dataframe tbody tr th:only-of-type {\n",
       "        vertical-align: middle;\n",
       "    }\n",
       "\n",
       "    .dataframe tbody tr th {\n",
       "        vertical-align: top;\n",
       "    }\n",
       "\n",
       "    .dataframe thead th {\n",
       "        text-align: right;\n",
       "    }\n",
       "</style>\n",
       "<table border=\"1\" class=\"dataframe\">\n",
       "  <thead>\n",
       "    <tr style=\"text-align: right;\">\n",
       "      <th></th>\n",
       "      <th>Train_Error</th>\n",
       "      <th>Test_Error</th>\n",
       "      <th>Parameter_Set</th>\n",
       "    </tr>\n",
       "  </thead>\n",
       "  <tbody>\n",
       "    <tr>\n",
       "      <th>0</th>\n",
       "      <td>0.792789</td>\n",
       "      <td>0.791031</td>\n",
       "      <td>{'n_estimators': 485, 'max_features': 17, 'max_depth': 3, 'bootstrap': True}</td>\n",
       "    </tr>\n",
       "    <tr>\n",
       "      <th>1</th>\n",
       "      <td>0.804166</td>\n",
       "      <td>0.789525</td>\n",
       "      <td>{'n_estimators': 392, 'max_features': 28, 'max_depth': 5, 'bootstrap': False}</td>\n",
       "    </tr>\n",
       "    <tr>\n",
       "      <th>2</th>\n",
       "      <td>0.800987</td>\n",
       "      <td>0.795381</td>\n",
       "      <td>{'n_estimators': 323, 'max_features': 17, 'max_depth': 4, 'bootstrap': True}</td>\n",
       "    </tr>\n",
       "    <tr>\n",
       "      <th>3</th>\n",
       "      <td>0.815878</td>\n",
       "      <td>0.803413</td>\n",
       "      <td>{'n_estimators': 392, 'max_features': 23, 'max_depth': 5, 'bootstrap': True}</td>\n",
       "    </tr>\n",
       "    <tr>\n",
       "      <th>4</th>\n",
       "      <td>0.792120</td>\n",
       "      <td>0.788856</td>\n",
       "      <td>{'n_estimators': 392, 'max_features': 28, 'max_depth': 3, 'bootstrap': False}</td>\n",
       "    </tr>\n",
       "    <tr>\n",
       "      <th>5</th>\n",
       "      <td>0.792454</td>\n",
       "      <td>0.790864</td>\n",
       "      <td>{'n_estimators': 485, 'max_features': 23, 'max_depth': 3, 'bootstrap': True}</td>\n",
       "    </tr>\n",
       "    <tr>\n",
       "      <th>6</th>\n",
       "      <td>0.813954</td>\n",
       "      <td>0.800904</td>\n",
       "      <td>{'n_estimators': 485, 'max_features': 28, 'max_depth': 5, 'bootstrap': True}</td>\n",
       "    </tr>\n",
       "    <tr>\n",
       "      <th>7</th>\n",
       "      <td>0.797808</td>\n",
       "      <td>0.792035</td>\n",
       "      <td>{'n_estimators': 392, 'max_features': 28, 'max_depth': 4, 'bootstrap': False}</td>\n",
       "    </tr>\n",
       "    <tr>\n",
       "      <th>8</th>\n",
       "      <td>0.792789</td>\n",
       "      <td>0.790362</td>\n",
       "      <td>{'n_estimators': 485, 'max_features': 28, 'max_depth': 3, 'bootstrap': True}</td>\n",
       "    </tr>\n",
       "    <tr>\n",
       "      <th>9</th>\n",
       "      <td>0.801823</td>\n",
       "      <td>0.794712</td>\n",
       "      <td>{'n_estimators': 323, 'max_features': 23, 'max_depth': 4, 'bootstrap': True}</td>\n",
       "    </tr>\n",
       "  </tbody>\n",
       "</table>\n",
       "</div>"
      ],
      "text/plain": [
       "   Train_Error  Test_Error  \\\n",
       "0     0.792789    0.791031   \n",
       "1     0.804166    0.789525   \n",
       "2     0.800987    0.795381   \n",
       "3     0.815878    0.803413   \n",
       "4     0.792120    0.788856   \n",
       "5     0.792454    0.790864   \n",
       "6     0.813954    0.800904   \n",
       "7     0.797808    0.792035   \n",
       "8     0.792789    0.790362   \n",
       "9     0.801823    0.794712   \n",
       "\n",
       "                                                                   Parameter_Set  \n",
       "0   {'n_estimators': 485, 'max_features': 17, 'max_depth': 3, 'bootstrap': True}  \n",
       "1  {'n_estimators': 392, 'max_features': 28, 'max_depth': 5, 'bootstrap': False}  \n",
       "2   {'n_estimators': 323, 'max_features': 17, 'max_depth': 4, 'bootstrap': True}  \n",
       "3   {'n_estimators': 392, 'max_features': 23, 'max_depth': 5, 'bootstrap': True}  \n",
       "4  {'n_estimators': 392, 'max_features': 28, 'max_depth': 3, 'bootstrap': False}  \n",
       "5   {'n_estimators': 485, 'max_features': 23, 'max_depth': 3, 'bootstrap': True}  \n",
       "6   {'n_estimators': 485, 'max_features': 28, 'max_depth': 5, 'bootstrap': True}  \n",
       "7  {'n_estimators': 392, 'max_features': 28, 'max_depth': 4, 'bootstrap': False}  \n",
       "8   {'n_estimators': 485, 'max_features': 28, 'max_depth': 3, 'bootstrap': True}  \n",
       "9   {'n_estimators': 323, 'max_features': 23, 'max_depth': 4, 'bootstrap': True}  "
      ]
     },
     "execution_count": 43,
     "metadata": {},
     "output_type": "execute_result"
    }
   ],
   "source": [
    "cvres = rf_grid.cv_results_\n",
    "grid_rf_df = pd.DataFrame({\n",
    "    \"Train_Error\": cvres[\"mean_train_score\"],\n",
    "    \"Test_Error\": cvres[\"mean_test_score\"],\n",
    "    \"Parameter_Set\": cvres[\"params\"],\n",
    "}).sort_index()\n",
    "pd.set_option('display.max_colwidth', None)\n",
    "grid_rf_df.tail(10)"
   ]
  },
  {
   "cell_type": "code",
   "execution_count": 44,
   "metadata": {},
   "outputs": [],
   "source": [
    "final_model = rf_grid.best_estimator_\n",
    "rf_preds = final_model.predict(test_prep)\n",
    "rfmod_pred_score = accuracy_score(test_labels, rf_preds)\n",
    "rfmod_recall = recall_score(test_labels, rf_preds, pos_label='Yes')"
   ]
  },
  {
   "cell_type": "code",
   "execution_count": 45,
   "metadata": {},
   "outputs": [
    {
     "data": {
      "image/png": "[encoded data removed]",
      "text/plain": [
       "<Figure size 432x288 with 1 Axes>"
      ]
     },
     "metadata": {
      "needs_background": "light"
     },
     "output_type": "display_data"
    },
    {
     "name": "stdout",
     "output_type": "stream",
     "text": [
      "Total predictions = 1055\n"
     ]
    }
   ],
   "source": [
    "mat = confusion_matrix(test_labels, rf_preds)\n",
    "sns.heatmap(mat.T, square=True, annot=True, fmt='d', cbar=False, cmap='RdBu')\n",
    "plt.xlabel('Actual Churn', size=15)\n",
    "plt.ylabel('Predicted Churn', size=15)\n",
    "plt.show()\n",
    "print('Total predictions = %d' % len(test_labels))"
   ]
  },
  {
   "cell_type": "code",
   "execution_count": 46,
   "metadata": {},
   "outputs": [
    {
     "name": "stdout",
     "output_type": "stream",
     "text": [
      "Train error rate = 19.66%\n",
      "Test error rate = 20.95%\n",
      "Test Recall = 50.00%\n"
     ]
    }
   ],
   "source": [
    "print('Train error rate = %.2f%%' % ((1 - rf_grid.best_score_) * 100))\n",
    "print('Test error rate = %.2f%%' % ((1 - rfmod_pred_score) * 100))\n",
    "print('Test Recall = %.2f%%' % (rfmod_recall * 100))"
   ]
  },
  {
   "cell_type": "markdown",
   "metadata": {},
   "source": [
    "The training error rate being within ~1.3% of the testing error rate lets us know that if we have any issues modeling, it might be underfitting, but that number isn't enough to be concerned about at this time."
   ]
  },
  {
   "cell_type": "code",
   "execution_count": 47,
   "metadata": {},
   "outputs": [
    {
     "name": "stdout",
     "output_type": "stream",
     "text": [
      "              precision    recall  f1-score   support\n",
      "\n",
      "          No       0.83      0.90      0.86       769\n",
      "         Yes       0.65      0.50      0.56       286\n",
      "\n",
      "    accuracy                           0.79      1055\n",
      "   macro avg       0.74      0.70      0.71      1055\n",
      "weighted avg       0.78      0.79      0.78      1055\n",
      "\n"
     ]
    }
   ],
   "source": [
    "print(classification_report(test_labels, rf_preds))"
   ]
  },
  {
   "cell_type": "markdown",
   "metadata": {},
   "source": [
    "The plot above is called a confusion matrix. The X axis is the actual value from the data set, the y axis is the predicted value. Here is what the confusion matrix tells us:\n",
    "* Our recall score, 50%, is not good. It says that we are only correctly predicting when a customer will churn half of the time. \n",
    "* Overall accuracy at 79% is also not good. We'll have to check other models and see if we can improve.\n",
    "\n",
    "The model does fairly well in predicting that customers will stay, but not so much in predicting that a customer will leave. This is a given considering the imbalance in our data favors customers who do not churn.\n",
    "\n",
    "Next, we'll look at which features the model considered most important for making its predictions."
   ]
  },
  {
   "cell_type": "code",
   "execution_count": 48,
   "metadata": {},
   "outputs": [],
   "source": [
    "## Create a pandas dataframe out of our train_prep array and add the columns in the correct order\n",
    "df = pd.DataFrame(train_prep, columns = new_order)"
   ]
  },
  {
   "cell_type": "code",
   "execution_count": 49,
   "metadata": {},
   "outputs": [
    {
     "data": {
      "text/html": [
       "<div>\n",
       "<style scoped>\n",
       "    .dataframe tbody tr th:only-of-type {\n",
       "        vertical-align: middle;\n",
       "    }\n",
       "\n",
       "    .dataframe tbody tr th {\n",
       "        vertical-align: top;\n",
       "    }\n",
       "\n",
       "    .dataframe thead th {\n",
       "        text-align: right;\n",
       "    }\n",
       "</style>\n",
       "<table border=\"1\" class=\"dataframe\">\n",
       "  <thead>\n",
       "    <tr style=\"text-align: right;\">\n",
       "      <th></th>\n",
       "      <th>Importance</th>\n",
       "    </tr>\n",
       "  </thead>\n",
       "  <tbody>\n",
       "    <tr>\n",
       "      <th>Contract_Month-to-month</th>\n",
       "      <td>0.423958</td>\n",
       "    </tr>\n",
       "    <tr>\n",
       "      <th>tenure</th>\n",
       "      <td>0.172991</td>\n",
       "    </tr>\n",
       "    <tr>\n",
       "      <th>InternetService_Fiber optic</th>\n",
       "      <td>0.139886</td>\n",
       "    </tr>\n",
       "    <tr>\n",
       "      <th>TotalCharges</th>\n",
       "      <td>0.079468</td>\n",
       "    </tr>\n",
       "    <tr>\n",
       "      <th>MonthlyCharges</th>\n",
       "      <td>0.070162</td>\n",
       "    </tr>\n",
       "    <tr>\n",
       "      <th>PaymentMethod_Electronic check</th>\n",
       "      <td>0.028483</td>\n",
       "    </tr>\n",
       "    <tr>\n",
       "      <th>InternetService_No</th>\n",
       "      <td>0.010645</td>\n",
       "    </tr>\n",
       "    <tr>\n",
       "      <th>InternetService_DSL</th>\n",
       "      <td>0.008616</td>\n",
       "    </tr>\n",
       "    <tr>\n",
       "      <th>TechSupport</th>\n",
       "      <td>0.007073</td>\n",
       "    </tr>\n",
       "    <tr>\n",
       "      <th>SeniorCitizen</th>\n",
       "      <td>0.006717</td>\n",
       "    </tr>\n",
       "  </tbody>\n",
       "</table>\n",
       "</div>"
      ],
      "text/plain": [
       "                                Importance\n",
       "Contract_Month-to-month           0.423958\n",
       "tenure                            0.172991\n",
       "InternetService_Fiber optic       0.139886\n",
       "TotalCharges                      0.079468\n",
       "MonthlyCharges                    0.070162\n",
       "PaymentMethod_Electronic check    0.028483\n",
       "InternetService_No                0.010645\n",
       "InternetService_DSL               0.008616\n",
       "TechSupport                       0.007073\n",
       "SeniorCitizen                     0.006717"
      ]
     },
     "execution_count": 49,
     "metadata": {},
     "output_type": "execute_result"
    }
   ],
   "source": [
    "rf_importances = pd.DataFrame(rf_grid.best_estimator_.feature_importances_,\n",
    "                                   index = df.columns,\n",
    "                                    columns=['Importance']).sort_values('Importance', ascending=False)\n",
    "\n",
    "rf_importances[:10]"
   ]
  },
  {
   "cell_type": "markdown",
   "metadata": {},
   "source": [
    "We have a lot of features, so lets just plot the top 5."
   ]
  },
  {
   "cell_type": "code",
   "execution_count": 50,
   "metadata": {},
   "outputs": [],
   "source": [
    "top_5 = rf_importances[rf_importances['Importance'] > .05]"
   ]
  },
  {
   "cell_type": "code",
   "execution_count": 51,
   "metadata": {},
   "outputs": [
    {
     "name": "stderr",
     "output_type": "stream",
     "text": [
      "/Users/lawrencelove/Library/Python/3.8/lib/python/site-packages/seaborn/_decorators.py:36: FutureWarning: Pass the following variables as keyword args: x, y. From version 0.12, the only valid positional argument will be `data`, and passing other arguments without an explicit keyword will result in an error or misinterpretation.\n",
      "  warnings.warn(\n"
     ]
    },
    {
     "data": {
      "image/png": "[encoded data removed]",
      "text/plain": [
       "<Figure size 936x576 with 1 Axes>"
      ]
     },
     "metadata": {
      "needs_background": "light"
     },
     "output_type": "display_data"
    }
   ],
   "source": [
    "plt.figure(figsize=(13,8))\n",
    "ax = sns.barplot(top_5.index, top_5['Importance'])\n",
    "ax.set_xticklabels(ax.get_xticklabels(), rotation=45, fontsize=12)\n",
    "plt.show()"
   ]
  },
  {
   "cell_type": "markdown",
   "metadata": {},
   "source": [
    "The barplot above tells us that the most important feature in making predictions is **Contract_Month-to-month**, followed by **tenure**, **InternetService_Fiber optic**, **TotalCharges**, and **MonthlyCharges**, respectively."
   ]
  },
  {
   "cell_type": "markdown",
   "metadata": {},
   "source": [
    "## IV.ii Logistic Regression Classifier"
   ]
  },
  {
   "cell_type": "markdown",
   "metadata": {},
   "source": [
    "Now lets play with Logistic Regression and see if we get any better performance."
   ]
  },
  {
   "cell_type": "code",
   "execution_count": 52,
   "metadata": {},
   "outputs": [],
   "source": [
    "# Outline parameters to test\n",
    "param_grid = [\n",
    "    {'max_iter': random.randint(100,600,3), 'C': [.1,.5,1], 'penalty': ['l2'], 'solver': ['lbfgs'], 'tol': [.01, .001, .0001]},\n",
    "    {'max_iter': random.randint(100,600,3), 'penalty': ['none'], 'tol': [.01, .001, .0001]},  \n",
    "    {'max_iter': random.randint(100,600,3), 'C': [.1,.5,1], 'penalty': ['l1'], 'solver': ['liblinear'], 'tol': [.01, .001, .0001]},\n",
    "    {'max_iter': random.randint(100,600,3), 'C': [.1,.5,1], 'penalty': ['elasticnet'], 'solver': ['saga'], 'l1_ratio':[.25, .5, .75], 'tol': [.01, .001, .0001]}\n",
    "]"
   ]
  },
  {
   "cell_type": "code",
   "execution_count": 53,
   "metadata": {},
   "outputs": [
    {
     "data": {
      "text/plain": [
       "RandomizedSearchCV(cv=3, estimator=LogisticRegression(),\n",
       "                   param_distributions=[{'C': [0.1, 0.5, 1],\n",
       "                                         'max_iter': array([379, 294, 475]),\n",
       "                                         'penalty': ['l2'], 'solver': ['lbfgs'],\n",
       "                                         'tol': [0.01, 0.001, 0.0001]},\n",
       "                                        {'max_iter': array([386, 517, 110]),\n",
       "                                         'penalty': ['none'],\n",
       "                                         'tol': [0.01, 0.001, 0.0001]},\n",
       "                                        {'C': [0.1, 0.5, 1],\n",
       "                                         'max_iter': array([359, 327, 565]),\n",
       "                                         'penalty': ['l1'],\n",
       "                                         'solver': ['liblinear'],\n",
       "                                         'tol': [0.01, 0.001, 0.0001]},\n",
       "                                        {'C': [0.1, 0.5, 1],\n",
       "                                         'l1_ratio': [0.25, 0.5, 0.75],\n",
       "                                         'max_iter': array([361, 289, 127]),\n",
       "                                         'penalty': ['elasticnet'],\n",
       "                                         'solver': ['saga'],\n",
       "                                         'tol': [0.01, 0.001, 0.0001]}],\n",
       "                   return_train_score=True, scoring='accuracy')"
      ]
     },
     "execution_count": 53,
     "metadata": {},
     "output_type": "execute_result"
    }
   ],
   "source": [
    "log_clf = LogisticRegression()\n",
    "log_grid = RandomizedSearchCV(log_clf, param_grid, cv=3, scoring='accuracy',\n",
    "                           return_train_score=True)\n",
    "log_grid.fit(train_prep, train_labels)"
   ]
  },
  {
   "cell_type": "code",
   "execution_count": 54,
   "metadata": {},
   "outputs": [
    {
     "data": {
      "text/html": [
       "<div>\n",
       "<style scoped>\n",
       "    .dataframe tbody tr th:only-of-type {\n",
       "        vertical-align: middle;\n",
       "    }\n",
       "\n",
       "    .dataframe tbody tr th {\n",
       "        vertical-align: top;\n",
       "    }\n",
       "\n",
       "    .dataframe thead th {\n",
       "        text-align: right;\n",
       "    }\n",
       "</style>\n",
       "<table border=\"1\" class=\"dataframe\">\n",
       "  <thead>\n",
       "    <tr style=\"text-align: right;\">\n",
       "      <th></th>\n",
       "      <th>Train_Error</th>\n",
       "      <th>Test_Error</th>\n",
       "      <th>Parameter_Set</th>\n",
       "    </tr>\n",
       "  </thead>\n",
       "  <tbody>\n",
       "    <tr>\n",
       "      <th>0</th>\n",
       "      <td>0.805421</td>\n",
       "      <td>0.801741</td>\n",
       "      <td>{'tol': 0.01, 'solver': 'saga', 'penalty': 'elasticnet', 'max_iter': 361, 'l1_ratio': 0.75, 'C': 0.1}</td>\n",
       "    </tr>\n",
       "    <tr>\n",
       "      <th>1</th>\n",
       "      <td>0.804417</td>\n",
       "      <td>0.803748</td>\n",
       "      <td>{'tol': 0.0001, 'solver': 'saga', 'penalty': 'elasticnet', 'max_iter': 289, 'l1_ratio': 0.75, 'C': 0.5}</td>\n",
       "    </tr>\n",
       "    <tr>\n",
       "      <th>2</th>\n",
       "      <td>0.804919</td>\n",
       "      <td>0.803748</td>\n",
       "      <td>{'tol': 0.0001, 'solver': 'lbfgs', 'penalty': 'l2', 'max_iter': 475, 'C': 1}</td>\n",
       "    </tr>\n",
       "    <tr>\n",
       "      <th>3</th>\n",
       "      <td>0.804919</td>\n",
       "      <td>0.803748</td>\n",
       "      <td>{'tol': 0.0001, 'solver': 'lbfgs', 'penalty': 'l2', 'max_iter': 294, 'C': 1}</td>\n",
       "    </tr>\n",
       "    <tr>\n",
       "      <th>4</th>\n",
       "      <td>0.804919</td>\n",
       "      <td>0.802745</td>\n",
       "      <td>{'tol': 0.0001, 'solver': 'liblinear', 'penalty': 'l1', 'max_iter': 565, 'C': 0.5}</td>\n",
       "    </tr>\n",
       "    <tr>\n",
       "      <th>5</th>\n",
       "      <td>0.805170</td>\n",
       "      <td>0.804752</td>\n",
       "      <td>{'tol': 0.001, 'penalty': 'none', 'max_iter': 386}</td>\n",
       "    </tr>\n",
       "    <tr>\n",
       "      <th>6</th>\n",
       "      <td>0.804417</td>\n",
       "      <td>0.802577</td>\n",
       "      <td>{'tol': 0.01, 'solver': 'saga', 'penalty': 'elasticnet', 'max_iter': 289, 'l1_ratio': 0.25, 'C': 0.1}</td>\n",
       "    </tr>\n",
       "    <tr>\n",
       "      <th>7</th>\n",
       "      <td>0.804919</td>\n",
       "      <td>0.803414</td>\n",
       "      <td>{'tol': 0.01, 'solver': 'saga', 'penalty': 'elasticnet', 'max_iter': 127, 'l1_ratio': 0.75, 'C': 1}</td>\n",
       "    </tr>\n",
       "    <tr>\n",
       "      <th>8</th>\n",
       "      <td>0.805086</td>\n",
       "      <td>0.801406</td>\n",
       "      <td>{'tol': 0.0001, 'solver': 'lbfgs', 'penalty': 'l2', 'max_iter': 475, 'C': 0.1}</td>\n",
       "    </tr>\n",
       "    <tr>\n",
       "      <th>9</th>\n",
       "      <td>0.804919</td>\n",
       "      <td>0.803748</td>\n",
       "      <td>{'tol': 0.01, 'solver': 'saga', 'penalty': 'elasticnet', 'max_iter': 289, 'l1_ratio': 0.5, 'C': 1}</td>\n",
       "    </tr>\n",
       "  </tbody>\n",
       "</table>\n",
       "</div>"
      ],
      "text/plain": [
       "   Train_Error  Test_Error  \\\n",
       "0     0.805421    0.801741   \n",
       "1     0.804417    0.803748   \n",
       "2     0.804919    0.803748   \n",
       "3     0.804919    0.803748   \n",
       "4     0.804919    0.802745   \n",
       "5     0.805170    0.804752   \n",
       "6     0.804417    0.802577   \n",
       "7     0.804919    0.803414   \n",
       "8     0.805086    0.801406   \n",
       "9     0.804919    0.803748   \n",
       "\n",
       "                                                                                             Parameter_Set  \n",
       "0    {'tol': 0.01, 'solver': 'saga', 'penalty': 'elasticnet', 'max_iter': 361, 'l1_ratio': 0.75, 'C': 0.1}  \n",
       "1  {'tol': 0.0001, 'solver': 'saga', 'penalty': 'elasticnet', 'max_iter': 289, 'l1_ratio': 0.75, 'C': 0.5}  \n",
       "2                             {'tol': 0.0001, 'solver': 'lbfgs', 'penalty': 'l2', 'max_iter': 475, 'C': 1}  \n",
       "3                             {'tol': 0.0001, 'solver': 'lbfgs', 'penalty': 'l2', 'max_iter': 294, 'C': 1}  \n",
       "4                       {'tol': 0.0001, 'solver': 'liblinear', 'penalty': 'l1', 'max_iter': 565, 'C': 0.5}  \n",
       "5                                                       {'tol': 0.001, 'penalty': 'none', 'max_iter': 386}  \n",
       "6    {'tol': 0.01, 'solver': 'saga', 'penalty': 'elasticnet', 'max_iter': 289, 'l1_ratio': 0.25, 'C': 0.1}  \n",
       "7      {'tol': 0.01, 'solver': 'saga', 'penalty': 'elasticnet', 'max_iter': 127, 'l1_ratio': 0.75, 'C': 1}  \n",
       "8                           {'tol': 0.0001, 'solver': 'lbfgs', 'penalty': 'l2', 'max_iter': 475, 'C': 0.1}  \n",
       "9       {'tol': 0.01, 'solver': 'saga', 'penalty': 'elasticnet', 'max_iter': 289, 'l1_ratio': 0.5, 'C': 1}  "
      ]
     },
     "execution_count": 54,
     "metadata": {},
     "output_type": "execute_result"
    }
   ],
   "source": [
    "cvres = log_grid.cv_results_\n",
    "grid_log_df = pd.DataFrame({\n",
    "    \"Train_Error\": cvres[\"mean_train_score\"],\n",
    "    \"Test_Error\": cvres[\"mean_test_score\"],\n",
    "    \"Parameter_Set\": cvres[\"params\"],\n",
    "}).sort_index()\n",
    "grid_log_df.tail(10)"
   ]
  },
  {
   "cell_type": "code",
   "execution_count": 55,
   "metadata": {},
   "outputs": [],
   "source": [
    "final_model = log_grid.best_estimator_\n",
    "log_preds = final_model.predict(test_prep)\n",
    "logmod_pred_score = accuracy_score(test_labels, log_preds)\n",
    "logmod_recall = recall_score(test_labels, log_preds, pos_label='Yes')"
   ]
  },
  {
   "cell_type": "code",
   "execution_count": 56,
   "metadata": {},
   "outputs": [
    {
     "data": {
      "image/png": "[encoded data removed]",
      "text/plain": [
       "<Figure size 432x288 with 1 Axes>"
      ]
     },
     "metadata": {
      "needs_background": "light"
     },
     "output_type": "display_data"
    },
    {
     "name": "stdout",
     "output_type": "stream",
     "text": [
      "Total predictions = 1055\n"
     ]
    }
   ],
   "source": [
    "mat = confusion_matrix(test_labels, log_preds)\n",
    "sns.heatmap(mat.T, square=True, annot=True, fmt='d', cbar=False, cmap='RdBu')\n",
    "plt.xlabel('Actual Churn', size=15)\n",
    "plt.ylabel('Predicted Churn', size=15)\n",
    "plt.show()\n",
    "print('Total predictions = %d' % len(test_labels))"
   ]
  },
  {
   "cell_type": "code",
   "execution_count": 57,
   "metadata": {},
   "outputs": [
    {
     "name": "stdout",
     "output_type": "stream",
     "text": [
      "Train error rate = 19.52%\n",
      "Test error rate = 19.62%\n",
      "Test Recall = 54.90%\n"
     ]
    }
   ],
   "source": [
    "print('Train error rate = %.2f%%' % ((1 - log_grid.best_score_) * 100))\n",
    "print('Test error rate = %.2f%%' % ((1 - logmod_pred_score) * 100))\n",
    "print('Test Recall = %.2f%%' % (logmod_recall * 100))"
   ]
  },
  {
   "cell_type": "markdown",
   "metadata": {},
   "source": [
    "This model is even tighter than Random Forest, we have almost identical testing and training error rates."
   ]
  },
  {
   "cell_type": "code",
   "execution_count": 58,
   "metadata": {},
   "outputs": [
    {
     "name": "stdout",
     "output_type": "stream",
     "text": [
      "              precision    recall  f1-score   support\n",
      "\n",
      "          No       0.84      0.90      0.87       769\n",
      "         Yes       0.67      0.55      0.60       286\n",
      "\n",
      "    accuracy                           0.80      1055\n",
      "   macro avg       0.76      0.72      0.74      1055\n",
      "weighted avg       0.80      0.80      0.80      1055\n",
      "\n"
     ]
    }
   ],
   "source": [
    "print(classification_report(test_labels, log_preds))"
   ]
  },
  {
   "cell_type": "markdown",
   "metadata": {},
   "source": [
    "Understanding the Logistic Regression results:\n",
    "* Very subtle, ever so slight, but still, improvement on our focus metric - recall: 54.90%\n",
    "* We're still in the same ballpark for overall performance\n",
    "* To reiterate, we improved slightly on the recall score, but considering the way this project seems to be playing out, we are going to have to be happy with any imporovement"
   ]
  },
  {
   "cell_type": "markdown",
   "metadata": {},
   "source": [
    "Looking at feature importanes for this model is a bit of a different venture. We will look at the coefficient values for our features, square them so that they are all positive and then take the square root, and rank them in descending order. The coefficients basically tell us how much weight each feature carries in predicting whether or not a customer will churn."
   ]
  },
  {
   "cell_type": "code",
   "execution_count": 59,
   "metadata": {},
   "outputs": [],
   "source": [
    "df = pd.DataFrame(log_grid.best_estimator_.coef_, columns = new_order).transpose()"
   ]
  },
  {
   "cell_type": "code",
   "execution_count": 60,
   "metadata": {},
   "outputs": [
    {
     "data": {
      "text/html": [
       "<div>\n",
       "<style scoped>\n",
       "    .dataframe tbody tr th:only-of-type {\n",
       "        vertical-align: middle;\n",
       "    }\n",
       "\n",
       "    .dataframe tbody tr th {\n",
       "        vertical-align: top;\n",
       "    }\n",
       "\n",
       "    .dataframe thead th {\n",
       "        text-align: right;\n",
       "    }\n",
       "</style>\n",
       "<table border=\"1\" class=\"dataframe\">\n",
       "  <thead>\n",
       "    <tr style=\"text-align: right;\">\n",
       "      <th></th>\n",
       "      <th>0</th>\n",
       "      <th>square</th>\n",
       "      <th>sqrt</th>\n",
       "    </tr>\n",
       "  </thead>\n",
       "  <tbody>\n",
       "    <tr>\n",
       "      <th>InternetService_No</th>\n",
       "      <td>-2.551594</td>\n",
       "      <td>6.510632</td>\n",
       "      <td>2.551594</td>\n",
       "    </tr>\n",
       "    <tr>\n",
       "      <th>InternetService_Fiber optic</th>\n",
       "      <td>1.730275</td>\n",
       "      <td>2.993853</td>\n",
       "      <td>1.730275</td>\n",
       "    </tr>\n",
       "    <tr>\n",
       "      <th>MonthlyCharges</th>\n",
       "      <td>-1.640833</td>\n",
       "      <td>2.692334</td>\n",
       "      <td>1.640833</td>\n",
       "    </tr>\n",
       "    <tr>\n",
       "      <th>tenure</th>\n",
       "      <td>-1.392298</td>\n",
       "      <td>1.938493</td>\n",
       "      <td>1.392298</td>\n",
       "    </tr>\n",
       "    <tr>\n",
       "      <th>Contract_Two year</th>\n",
       "      <td>-1.106902</td>\n",
       "      <td>1.225232</td>\n",
       "      <td>1.106902</td>\n",
       "    </tr>\n",
       "    <tr>\n",
       "      <th>MultipleLines_No phone service</th>\n",
       "      <td>-1.016609</td>\n",
       "      <td>1.033493</td>\n",
       "      <td>1.016609</td>\n",
       "    </tr>\n",
       "    <tr>\n",
       "      <th>StreamingTV</th>\n",
       "      <td>0.807969</td>\n",
       "      <td>0.652814</td>\n",
       "      <td>0.807969</td>\n",
       "    </tr>\n",
       "    <tr>\n",
       "      <th>StreamingMovies</th>\n",
       "      <td>0.709934</td>\n",
       "      <td>0.504007</td>\n",
       "      <td>0.709934</td>\n",
       "    </tr>\n",
       "    <tr>\n",
       "      <th>TotalCharges</th>\n",
       "      <td>0.651526</td>\n",
       "      <td>0.424486</td>\n",
       "      <td>0.651526</td>\n",
       "    </tr>\n",
       "    <tr>\n",
       "      <th>gender_Male</th>\n",
       "      <td>-0.625453</td>\n",
       "      <td>0.391192</td>\n",
       "      <td>0.625453</td>\n",
       "    </tr>\n",
       "  </tbody>\n",
       "</table>\n",
       "</div>"
      ],
      "text/plain": [
       "                                       0    square      sqrt\n",
       "InternetService_No             -2.551594  6.510632  2.551594\n",
       "InternetService_Fiber optic     1.730275  2.993853  1.730275\n",
       "MonthlyCharges                 -1.640833  2.692334  1.640833\n",
       "tenure                         -1.392298  1.938493  1.392298\n",
       "Contract_Two year              -1.106902  1.225232  1.106902\n",
       "MultipleLines_No phone service -1.016609  1.033493  1.016609\n",
       "StreamingTV                     0.807969  0.652814  0.807969\n",
       "StreamingMovies                 0.709934  0.504007  0.709934\n",
       "TotalCharges                    0.651526  0.424486  0.651526\n",
       "gender_Male                    -0.625453  0.391192  0.625453"
      ]
     },
     "execution_count": 60,
     "metadata": {},
     "output_type": "execute_result"
    }
   ],
   "source": [
    "df['square'] = df[0] ** 2\n",
    "df['sqrt'] = [np.sqrt(i) for i in df['square']]\n",
    "df = df.sort_values('sqrt', ascending=False)\n",
    "df[:10]"
   ]
  },
  {
   "cell_type": "code",
   "execution_count": 61,
   "metadata": {},
   "outputs": [],
   "source": [
    "top5 = df[df['sqrt'] > 1.1]"
   ]
  },
  {
   "cell_type": "code",
   "execution_count": 62,
   "metadata": {},
   "outputs": [
    {
     "name": "stderr",
     "output_type": "stream",
     "text": [
      "/Users/lawrencelove/Library/Python/3.8/lib/python/site-packages/seaborn/_decorators.py:36: FutureWarning: Pass the following variables as keyword args: x, y. From version 0.12, the only valid positional argument will be `data`, and passing other arguments without an explicit keyword will result in an error or misinterpretation.\n",
      "  warnings.warn(\n"
     ]
    },
    {
     "data": {
      "image/png": "[encoded data removed]",
      "text/plain": [
       "<Figure size 936x576 with 1 Axes>"
      ]
     },
     "metadata": {
      "needs_background": "light"
     },
     "output_type": "display_data"
    }
   ],
   "source": [
    "plt.figure(figsize=(13,8))\n",
    "ax = sns.barplot(top5.index, top5['sqrt'])\n",
    "ax.set_xticklabels(ax.get_xticklabels(), rotation=45, fontsize=12)\n",
    "plt.show()"
   ]
  },
  {
   "cell_type": "markdown",
   "metadata": {},
   "source": [
    "Logistic Regression has a slightly different take. It says that **InternetService_No** is the most important feature, followed by **InternetSevice_Fiber optic**, **MonthlyCharges**, **tenure**, and **Contract_Two year**."
   ]
  },
  {
   "cell_type": "markdown",
   "metadata": {},
   "source": [
    "## IV.iii Support Vector Machine Classifier"
   ]
  },
  {
   "cell_type": "code",
   "execution_count": 70,
   "metadata": {},
   "outputs": [],
   "source": [
    "param_grid = [    \n",
    "    {'C': [.1,1,10], 'max_iter': random.randint(1000,3000,3), 'tol': [1e-4, 1e-10], 'gamma' : [3,5,7]},\n",
    "    {'C': [.1,1,10], 'max_iter': [-1], 'tol': [1e-4, 1e-10]},\n",
    "    {'C': [.1,1,10], 'max_iter': random.randint(1000,3000,3), 'kernel': ['linear']}\n",
    "  ]"
   ]
  },
  {
   "cell_type": "code",
   "execution_count": 71,
   "metadata": {},
   "outputs": [
    {
     "name": "stderr",
     "output_type": "stream",
     "text": [
      "/Users/lawrencelove/Library/Python/3.8/lib/python/site-packages/sklearn/svm/_base.py:246: ConvergenceWarning: Solver terminated early (max_iter=2488).  Consider pre-processing your data with StandardScaler or MinMaxScaler.\n",
      "  warnings.warn('Solver terminated early (max_iter=%i).'\n",
      "/Users/lawrencelove/Library/Python/3.8/lib/python/site-packages/sklearn/svm/_base.py:246: ConvergenceWarning: Solver terminated early (max_iter=2488).  Consider pre-processing your data with StandardScaler or MinMaxScaler.\n",
      "  warnings.warn('Solver terminated early (max_iter=%i).'\n",
      "/Users/lawrencelove/Library/Python/3.8/lib/python/site-packages/sklearn/svm/_base.py:246: ConvergenceWarning: Solver terminated early (max_iter=2488).  Consider pre-processing your data with StandardScaler or MinMaxScaler.\n",
      "  warnings.warn('Solver terminated early (max_iter=%i).'\n",
      "/Users/lawrencelove/Library/Python/3.8/lib/python/site-packages/sklearn/svm/_base.py:246: ConvergenceWarning: Solver terminated early (max_iter=2488).  Consider pre-processing your data with StandardScaler or MinMaxScaler.\n",
      "  warnings.warn('Solver terminated early (max_iter=%i).'\n",
      "/Users/lawrencelove/Library/Python/3.8/lib/python/site-packages/sklearn/svm/_base.py:246: ConvergenceWarning: Solver terminated early (max_iter=2488).  Consider pre-processing your data with StandardScaler or MinMaxScaler.\n",
      "  warnings.warn('Solver terminated early (max_iter=%i).'\n",
      "/Users/lawrencelove/Library/Python/3.8/lib/python/site-packages/sklearn/svm/_base.py:246: ConvergenceWarning: Solver terminated early (max_iter=2488).  Consider pre-processing your data with StandardScaler or MinMaxScaler.\n",
      "  warnings.warn('Solver terminated early (max_iter=%i).'\n",
      "/Users/lawrencelove/Library/Python/3.8/lib/python/site-packages/sklearn/svm/_base.py:246: ConvergenceWarning: Solver terminated early (max_iter=2704).  Consider pre-processing your data with StandardScaler or MinMaxScaler.\n",
      "  warnings.warn('Solver terminated early (max_iter=%i).'\n",
      "/Users/lawrencelove/Library/Python/3.8/lib/python/site-packages/sklearn/svm/_base.py:246: ConvergenceWarning: Solver terminated early (max_iter=2704).  Consider pre-processing your data with StandardScaler or MinMaxScaler.\n",
      "  warnings.warn('Solver terminated early (max_iter=%i).'\n",
      "/Users/lawrencelove/Library/Python/3.8/lib/python/site-packages/sklearn/svm/_base.py:246: ConvergenceWarning: Solver terminated early (max_iter=2704).  Consider pre-processing your data with StandardScaler or MinMaxScaler.\n",
      "  warnings.warn('Solver terminated early (max_iter=%i).'\n",
      "/Users/lawrencelove/Library/Python/3.8/lib/python/site-packages/sklearn/svm/_base.py:246: ConvergenceWarning: Solver terminated early (max_iter=1613).  Consider pre-processing your data with StandardScaler or MinMaxScaler.\n",
      "  warnings.warn('Solver terminated early (max_iter=%i).'\n",
      "/Users/lawrencelove/Library/Python/3.8/lib/python/site-packages/sklearn/svm/_base.py:246: ConvergenceWarning: Solver terminated early (max_iter=1613).  Consider pre-processing your data with StandardScaler or MinMaxScaler.\n",
      "  warnings.warn('Solver terminated early (max_iter=%i).'\n",
      "/Users/lawrencelove/Library/Python/3.8/lib/python/site-packages/sklearn/svm/_base.py:246: ConvergenceWarning: Solver terminated early (max_iter=1613).  Consider pre-processing your data with StandardScaler or MinMaxScaler.\n",
      "  warnings.warn('Solver terminated early (max_iter=%i).'\n",
      "/Users/lawrencelove/Library/Python/3.8/lib/python/site-packages/sklearn/svm/_base.py:246: ConvergenceWarning: Solver terminated early (max_iter=1473).  Consider pre-processing your data with StandardScaler or MinMaxScaler.\n",
      "  warnings.warn('Solver terminated early (max_iter=%i).'\n",
      "/Users/lawrencelove/Library/Python/3.8/lib/python/site-packages/sklearn/svm/_base.py:246: ConvergenceWarning: Solver terminated early (max_iter=1473).  Consider pre-processing your data with StandardScaler or MinMaxScaler.\n",
      "  warnings.warn('Solver terminated early (max_iter=%i).'\n",
      "/Users/lawrencelove/Library/Python/3.8/lib/python/site-packages/sklearn/svm/_base.py:246: ConvergenceWarning: Solver terminated early (max_iter=1473).  Consider pre-processing your data with StandardScaler or MinMaxScaler.\n",
      "  warnings.warn('Solver terminated early (max_iter=%i).'\n",
      "/Users/lawrencelove/Library/Python/3.8/lib/python/site-packages/sklearn/svm/_base.py:246: ConvergenceWarning: Solver terminated early (max_iter=1684).  Consider pre-processing your data with StandardScaler or MinMaxScaler.\n",
      "  warnings.warn('Solver terminated early (max_iter=%i).'\n",
      "/Users/lawrencelove/Library/Python/3.8/lib/python/site-packages/sklearn/svm/_base.py:246: ConvergenceWarning: Solver terminated early (max_iter=1684).  Consider pre-processing your data with StandardScaler or MinMaxScaler.\n",
      "  warnings.warn('Solver terminated early (max_iter=%i).'\n",
      "/Users/lawrencelove/Library/Python/3.8/lib/python/site-packages/sklearn/svm/_base.py:246: ConvergenceWarning: Solver terminated early (max_iter=1684).  Consider pre-processing your data with StandardScaler or MinMaxScaler.\n",
      "  warnings.warn('Solver terminated early (max_iter=%i).'\n",
      "/Users/lawrencelove/Library/Python/3.8/lib/python/site-packages/sklearn/svm/_base.py:246: ConvergenceWarning: Solver terminated early (max_iter=2488).  Consider pre-processing your data with StandardScaler or MinMaxScaler.\n",
      "  warnings.warn('Solver terminated early (max_iter=%i).'\n",
      "/Users/lawrencelove/Library/Python/3.8/lib/python/site-packages/sklearn/svm/_base.py:246: ConvergenceWarning: Solver terminated early (max_iter=2488).  Consider pre-processing your data with StandardScaler or MinMaxScaler.\n",
      "  warnings.warn('Solver terminated early (max_iter=%i).'\n",
      "/Users/lawrencelove/Library/Python/3.8/lib/python/site-packages/sklearn/svm/_base.py:246: ConvergenceWarning: Solver terminated early (max_iter=2488).  Consider pre-processing your data with StandardScaler or MinMaxScaler.\n",
      "  warnings.warn('Solver terminated early (max_iter=%i).'\n",
      "/Users/lawrencelove/Library/Python/3.8/lib/python/site-packages/sklearn/svm/_base.py:246: ConvergenceWarning: Solver terminated early (max_iter=1684).  Consider pre-processing your data with StandardScaler or MinMaxScaler.\n",
      "  warnings.warn('Solver terminated early (max_iter=%i).'\n",
      "/Users/lawrencelove/Library/Python/3.8/lib/python/site-packages/sklearn/svm/_base.py:246: ConvergenceWarning: Solver terminated early (max_iter=1684).  Consider pre-processing your data with StandardScaler or MinMaxScaler.\n",
      "  warnings.warn('Solver terminated early (max_iter=%i).'\n",
      "/Users/lawrencelove/Library/Python/3.8/lib/python/site-packages/sklearn/svm/_base.py:246: ConvergenceWarning: Solver terminated early (max_iter=1684).  Consider pre-processing your data with StandardScaler or MinMaxScaler.\n",
      "  warnings.warn('Solver terminated early (max_iter=%i).'\n",
      "/Users/lawrencelove/Library/Python/3.8/lib/python/site-packages/sklearn/svm/_base.py:246: ConvergenceWarning: Solver terminated early (max_iter=2704).  Consider pre-processing your data with StandardScaler or MinMaxScaler.\n",
      "  warnings.warn('Solver terminated early (max_iter=%i).'\n",
      "/Users/lawrencelove/Library/Python/3.8/lib/python/site-packages/sklearn/svm/_base.py:246: ConvergenceWarning: Solver terminated early (max_iter=2704).  Consider pre-processing your data with StandardScaler or MinMaxScaler.\n",
      "  warnings.warn('Solver terminated early (max_iter=%i).'\n",
      "/Users/lawrencelove/Library/Python/3.8/lib/python/site-packages/sklearn/svm/_base.py:246: ConvergenceWarning: Solver terminated early (max_iter=2704).  Consider pre-processing your data with StandardScaler or MinMaxScaler.\n",
      "  warnings.warn('Solver terminated early (max_iter=%i).'\n",
      "/Users/lawrencelove/Library/Python/3.8/lib/python/site-packages/sklearn/svm/_base.py:246: ConvergenceWarning: Solver terminated early (max_iter=2488).  Consider pre-processing your data with StandardScaler or MinMaxScaler.\n",
      "  warnings.warn('Solver terminated early (max_iter=%i).'\n",
      "/Users/lawrencelove/Library/Python/3.8/lib/python/site-packages/sklearn/svm/_base.py:246: ConvergenceWarning: Solver terminated early (max_iter=2488).  Consider pre-processing your data with StandardScaler or MinMaxScaler.\n",
      "  warnings.warn('Solver terminated early (max_iter=%i).'\n",
      "/Users/lawrencelove/Library/Python/3.8/lib/python/site-packages/sklearn/svm/_base.py:246: ConvergenceWarning: Solver terminated early (max_iter=2488).  Consider pre-processing your data with StandardScaler or MinMaxScaler.\n",
      "  warnings.warn('Solver terminated early (max_iter=%i).'\n",
      "/Users/lawrencelove/Library/Python/3.8/lib/python/site-packages/sklearn/svm/_base.py:246: ConvergenceWarning: Solver terminated early (max_iter=1684).  Consider pre-processing your data with StandardScaler or MinMaxScaler.\n",
      "  warnings.warn('Solver terminated early (max_iter=%i).'\n",
      "/Users/lawrencelove/Library/Python/3.8/lib/python/site-packages/sklearn/svm/_base.py:246: ConvergenceWarning: Solver terminated early (max_iter=1684).  Consider pre-processing your data with StandardScaler or MinMaxScaler.\n",
      "  warnings.warn('Solver terminated early (max_iter=%i).'\n",
      "/Users/lawrencelove/Library/Python/3.8/lib/python/site-packages/sklearn/svm/_base.py:246: ConvergenceWarning: Solver terminated early (max_iter=1684).  Consider pre-processing your data with StandardScaler or MinMaxScaler.\n",
      "  warnings.warn('Solver terminated early (max_iter=%i).'\n",
      "/Users/lawrencelove/Library/Python/3.8/lib/python/site-packages/sklearn/svm/_base.py:246: ConvergenceWarning: Solver terminated early (max_iter=1684).  Consider pre-processing your data with StandardScaler or MinMaxScaler.\n",
      "  warnings.warn('Solver terminated early (max_iter=%i).'\n",
      "/Users/lawrencelove/Library/Python/3.8/lib/python/site-packages/sklearn/svm/_base.py:246: ConvergenceWarning: Solver terminated early (max_iter=1684).  Consider pre-processing your data with StandardScaler or MinMaxScaler.\n",
      "  warnings.warn('Solver terminated early (max_iter=%i).'\n",
      "/Users/lawrencelove/Library/Python/3.8/lib/python/site-packages/sklearn/svm/_base.py:246: ConvergenceWarning: Solver terminated early (max_iter=1684).  Consider pre-processing your data with StandardScaler or MinMaxScaler.\n",
      "  warnings.warn('Solver terminated early (max_iter=%i).'\n",
      "/Users/lawrencelove/Library/Python/3.8/lib/python/site-packages/sklearn/svm/_base.py:246: ConvergenceWarning: Solver terminated early (max_iter=2488).  Consider pre-processing your data with StandardScaler or MinMaxScaler.\n",
      "  warnings.warn('Solver terminated early (max_iter=%i).'\n",
      "/Users/lawrencelove/Library/Python/3.8/lib/python/site-packages/sklearn/svm/_base.py:246: ConvergenceWarning: Solver terminated early (max_iter=2488).  Consider pre-processing your data with StandardScaler or MinMaxScaler.\n",
      "  warnings.warn('Solver terminated early (max_iter=%i).'\n",
      "/Users/lawrencelove/Library/Python/3.8/lib/python/site-packages/sklearn/svm/_base.py:246: ConvergenceWarning: Solver terminated early (max_iter=2488).  Consider pre-processing your data with StandardScaler or MinMaxScaler.\n",
      "  warnings.warn('Solver terminated early (max_iter=%i).'\n",
      "/Users/lawrencelove/Library/Python/3.8/lib/python/site-packages/sklearn/svm/_base.py:246: ConvergenceWarning: Solver terminated early (max_iter=1684).  Consider pre-processing your data with StandardScaler or MinMaxScaler.\n",
      "  warnings.warn('Solver terminated early (max_iter=%i).'\n",
      "/Users/lawrencelove/Library/Python/3.8/lib/python/site-packages/sklearn/svm/_base.py:246: ConvergenceWarning: Solver terminated early (max_iter=1684).  Consider pre-processing your data with StandardScaler or MinMaxScaler.\n",
      "  warnings.warn('Solver terminated early (max_iter=%i).'\n",
      "/Users/lawrencelove/Library/Python/3.8/lib/python/site-packages/sklearn/svm/_base.py:246: ConvergenceWarning: Solver terminated early (max_iter=1684).  Consider pre-processing your data with StandardScaler or MinMaxScaler.\n",
      "  warnings.warn('Solver terminated early (max_iter=%i).'\n",
      "/Users/lawrencelove/Library/Python/3.8/lib/python/site-packages/sklearn/svm/_base.py:246: ConvergenceWarning: Solver terminated early (max_iter=1473).  Consider pre-processing your data with StandardScaler or MinMaxScaler.\n",
      "  warnings.warn('Solver terminated early (max_iter=%i).'\n"
     ]
    },
    {
     "data": {
      "text/plain": [
       "RandomizedSearchCV(cv=3, estimator=SVC(random_state=2021), n_iter=15,\n",
       "                   param_distributions=[{'C': [0.1, 1, 10], 'gamma': [3, 5, 7],\n",
       "                                         'max_iter': array([2704, 1684, 2488]),\n",
       "                                         'tol': [0.0001, 1e-10]},\n",
       "                                        {'C': [0.1, 1, 10], 'max_iter': [-1],\n",
       "                                         'tol': [0.0001, 1e-10]},\n",
       "                                        {'C': [0.1, 1, 10],\n",
       "                                         'kernel': ['linear'],\n",
       "                                         'max_iter': array([1473, 1613, 2801])}],\n",
       "                   return_train_score=True, scoring='accuracy')"
      ]
     },
     "execution_count": 71,
     "metadata": {},
     "output_type": "execute_result"
    }
   ],
   "source": [
    "# Numerous convergence warnings\n",
    "svm_clf = SVC(random_state=2021)\n",
    "svm_grid = RandomizedSearchCV(svm_clf, param_grid, cv=3,\n",
    "                           scoring='accuracy',\n",
    "                           return_train_score=True, n_iter=15)\n",
    "svm_grid.fit(train_prep, train_labels)"
   ]
  },
  {
   "cell_type": "code",
   "execution_count": 72,
   "metadata": {},
   "outputs": [
    {
     "data": {
      "text/html": [
       "<div>\n",
       "<style scoped>\n",
       "    .dataframe tbody tr th:only-of-type {\n",
       "        vertical-align: middle;\n",
       "    }\n",
       "\n",
       "    .dataframe tbody tr th {\n",
       "        vertical-align: top;\n",
       "    }\n",
       "\n",
       "    .dataframe thead th {\n",
       "        text-align: right;\n",
       "    }\n",
       "</style>\n",
       "<table border=\"1\" class=\"dataframe\">\n",
       "  <thead>\n",
       "    <tr style=\"text-align: right;\">\n",
       "      <th></th>\n",
       "      <th>Train_Error</th>\n",
       "      <th>Test_Error</th>\n",
       "      <th>Parameter_Set</th>\n",
       "    </tr>\n",
       "  </thead>\n",
       "  <tbody>\n",
       "    <tr>\n",
       "      <th>0</th>\n",
       "      <td>0.735151</td>\n",
       "      <td>0.735151</td>\n",
       "      <td>{'tol': 1e-10, 'max_iter': 2488, 'gamma': 5, 'C': 0.1}</td>\n",
       "    </tr>\n",
       "    <tr>\n",
       "      <th>1</th>\n",
       "      <td>0.735151</td>\n",
       "      <td>0.735151</td>\n",
       "      <td>{'tol': 0.0001, 'max_iter': 2488, 'gamma': 3, 'C': 0.1}</td>\n",
       "    </tr>\n",
       "    <tr>\n",
       "      <th>2</th>\n",
       "      <td>0.735151</td>\n",
       "      <td>0.735151</td>\n",
       "      <td>{'tol': 1e-10, 'max_iter': 2704, 'gamma': 7, 'C': 0.1}</td>\n",
       "    </tr>\n",
       "    <tr>\n",
       "      <th>3</th>\n",
       "      <td>0.757236</td>\n",
       "      <td>0.752720</td>\n",
       "      <td>{'max_iter': 1613, 'kernel': 'linear', 'C': 1}</td>\n",
       "    </tr>\n",
       "    <tr>\n",
       "      <th>4</th>\n",
       "      <td>0.801991</td>\n",
       "      <td>0.798728</td>\n",
       "      <td>{'max_iter': 1473, 'kernel': 'linear', 'C': 0.1}</td>\n",
       "    </tr>\n",
       "    <tr>\n",
       "      <th>5</th>\n",
       "      <td>0.961686</td>\n",
       "      <td>0.754392</td>\n",
       "      <td>{'tol': 0.0001, 'max_iter': 1684, 'gamma': 5, 'C': 1}</td>\n",
       "    </tr>\n",
       "    <tr>\n",
       "      <th>6</th>\n",
       "      <td>0.961184</td>\n",
       "      <td>0.755228</td>\n",
       "      <td>{'tol': 1e-10, 'max_iter': 2488, 'gamma': 5, 'C': 1}</td>\n",
       "    </tr>\n",
       "    <tr>\n",
       "      <th>7</th>\n",
       "      <td>0.974235</td>\n",
       "      <td>0.756399</td>\n",
       "      <td>{'tol': 1e-10, 'max_iter': 1684, 'gamma': 3, 'C': 10}</td>\n",
       "    </tr>\n",
       "    <tr>\n",
       "      <th>8</th>\n",
       "      <td>0.973063</td>\n",
       "      <td>0.756399</td>\n",
       "      <td>{'tol': 0.0001, 'max_iter': 2704, 'gamma': 3, 'C': 10}</td>\n",
       "    </tr>\n",
       "    <tr>\n",
       "      <th>9</th>\n",
       "      <td>0.975322</td>\n",
       "      <td>0.752551</td>\n",
       "      <td>{'tol': 0.0001, 'max_iter': 2488, 'gamma': 5, 'C': 10}</td>\n",
       "    </tr>\n",
       "    <tr>\n",
       "      <th>10</th>\n",
       "      <td>0.735151</td>\n",
       "      <td>0.735151</td>\n",
       "      <td>{'tol': 1e-10, 'max_iter': 1684, 'gamma': 7, 'C': 0.1}</td>\n",
       "    </tr>\n",
       "    <tr>\n",
       "      <th>11</th>\n",
       "      <td>0.872009</td>\n",
       "      <td>0.782833</td>\n",
       "      <td>{'tol': 0.0001, 'max_iter': -1, 'C': 10}</td>\n",
       "    </tr>\n",
       "    <tr>\n",
       "      <th>12</th>\n",
       "      <td>0.964949</td>\n",
       "      <td>0.754225</td>\n",
       "      <td>{'tol': 1e-10, 'max_iter': 1684, 'gamma': 7, 'C': 1}</td>\n",
       "    </tr>\n",
       "    <tr>\n",
       "      <th>13</th>\n",
       "      <td>0.975991</td>\n",
       "      <td>0.752049</td>\n",
       "      <td>{'tol': 0.0001, 'max_iter': 2488, 'gamma': 7, 'C': 10}</td>\n",
       "    </tr>\n",
       "    <tr>\n",
       "      <th>14</th>\n",
       "      <td>0.974235</td>\n",
       "      <td>0.756399</td>\n",
       "      <td>{'tol': 0.0001, 'max_iter': 1684, 'gamma': 3, 'C': 10}</td>\n",
       "    </tr>\n",
       "  </tbody>\n",
       "</table>\n",
       "</div>"
      ],
      "text/plain": [
       "    Train_Error  Test_Error  \\\n",
       "0      0.735151    0.735151   \n",
       "1      0.735151    0.735151   \n",
       "2      0.735151    0.735151   \n",
       "3      0.757236    0.752720   \n",
       "4      0.801991    0.798728   \n",
       "5      0.961686    0.754392   \n",
       "6      0.961184    0.755228   \n",
       "7      0.974235    0.756399   \n",
       "8      0.973063    0.756399   \n",
       "9      0.975322    0.752551   \n",
       "10     0.735151    0.735151   \n",
       "11     0.872009    0.782833   \n",
       "12     0.964949    0.754225   \n",
       "13     0.975991    0.752049   \n",
       "14     0.974235    0.756399   \n",
       "\n",
       "                                              Parameter_Set  \n",
       "0    {'tol': 1e-10, 'max_iter': 2488, 'gamma': 5, 'C': 0.1}  \n",
       "1   {'tol': 0.0001, 'max_iter': 2488, 'gamma': 3, 'C': 0.1}  \n",
       "2    {'tol': 1e-10, 'max_iter': 2704, 'gamma': 7, 'C': 0.1}  \n",
       "3            {'max_iter': 1613, 'kernel': 'linear', 'C': 1}  \n",
       "4          {'max_iter': 1473, 'kernel': 'linear', 'C': 0.1}  \n",
       "5     {'tol': 0.0001, 'max_iter': 1684, 'gamma': 5, 'C': 1}  \n",
       "6      {'tol': 1e-10, 'max_iter': 2488, 'gamma': 5, 'C': 1}  \n",
       "7     {'tol': 1e-10, 'max_iter': 1684, 'gamma': 3, 'C': 10}  \n",
       "8    {'tol': 0.0001, 'max_iter': 2704, 'gamma': 3, 'C': 10}  \n",
       "9    {'tol': 0.0001, 'max_iter': 2488, 'gamma': 5, 'C': 10}  \n",
       "10   {'tol': 1e-10, 'max_iter': 1684, 'gamma': 7, 'C': 0.1}  \n",
       "11                 {'tol': 0.0001, 'max_iter': -1, 'C': 10}  \n",
       "12     {'tol': 1e-10, 'max_iter': 1684, 'gamma': 7, 'C': 1}  \n",
       "13   {'tol': 0.0001, 'max_iter': 2488, 'gamma': 7, 'C': 10}  \n",
       "14   {'tol': 0.0001, 'max_iter': 1684, 'gamma': 3, 'C': 10}  "
      ]
     },
     "execution_count": 72,
     "metadata": {},
     "output_type": "execute_result"
    }
   ],
   "source": [
    "cvres = svm_grid.cv_results_\n",
    "grid_svc_df = pd.DataFrame({\n",
    "    \"Train_Error\": cvres[\"mean_train_score\"],\n",
    "    \"Test_Error\": cvres[\"mean_test_score\"],\n",
    "    \"Parameter_Set\": cvres[\"params\"],\n",
    "}).sort_index()\n",
    "grid_svc_df"
   ]
  },
  {
   "cell_type": "code",
   "execution_count": 73,
   "metadata": {},
   "outputs": [],
   "source": [
    "final_model = svm_grid.best_estimator_\n",
    "svm_preds = final_model.predict(test_prep)\n",
    "svmmod_pred_score = accuracy_score(test_labels, svm_preds)\n",
    "svmmod_recall = recall_score(test_labels, svm_preds, pos_label='Yes')"
   ]
  },
  {
   "cell_type": "code",
   "execution_count": 74,
   "metadata": {},
   "outputs": [
    {
     "data": {
      "image/png": "[encoded data removed]",
      "text/plain": [
       "<Figure size 432x288 with 1 Axes>"
      ]
     },
     "metadata": {
      "needs_background": "light"
     },
     "output_type": "display_data"
    },
    {
     "name": "stdout",
     "output_type": "stream",
     "text": [
      "Total predictions = 1055\n"
     ]
    }
   ],
   "source": [
    "mat = confusion_matrix(test_labels, svm_preds)\n",
    "sns.heatmap(mat.T, square=True, annot=True, fmt='d', cbar=False, cmap='RdBu')\n",
    "plt.xlabel('Actual Churn', size=15)\n",
    "plt.ylabel('Predicted Churn', size=15)\n",
    "plt.show()\n",
    "print('Total predictions = %d' % len(test_labels))"
   ]
  },
  {
   "cell_type": "code",
   "execution_count": 75,
   "metadata": {},
   "outputs": [
    {
     "name": "stdout",
     "output_type": "stream",
     "text": [
      "Train error rate = 20.13%\n",
      "Test error rate = 21.52%\n",
      "Test Recall = 50.70%\n"
     ]
    }
   ],
   "source": [
    "print('Train error rate = %.2f%%' % ((1 - svm_grid.best_score_) * 100))\n",
    "print('Test error rate = %.2f%%' % ((1 - svmmod_pred_score) * 100))\n",
    "print('Test Recall = %.2f%%' % (svmmod_recall * 100))"
   ]
  },
  {
   "cell_type": "markdown",
   "metadata": {},
   "source": [
    "Minor concern for underfitting here, but we're not going to worry about it at this point."
   ]
  },
  {
   "cell_type": "code",
   "execution_count": 76,
   "metadata": {},
   "outputs": [
    {
     "name": "stdout",
     "output_type": "stream",
     "text": [
      "              precision    recall  f1-score   support\n",
      "\n",
      "          No       0.83      0.89      0.86       769\n",
      "         Yes       0.63      0.51      0.56       286\n",
      "\n",
      "    accuracy                           0.78      1055\n",
      "   macro avg       0.73      0.70      0.71      1055\n",
      "weighted avg       0.77      0.78      0.78      1055\n",
      "\n"
     ]
    }
   ],
   "source": [
    "print(classification_report(test_labels, svm_preds))"
   ]
  },
  {
   "cell_type": "markdown",
   "metadata": {},
   "source": [
    "In reviewing the **SVM** the overall performance of the model was worst here. The metric we are concerned, recall score, didn't improve either at 50.70%."
   ]
  },
  {
   "cell_type": "markdown",
   "metadata": {},
   "source": [
    "We look at feature importane here the same way as we did with Logistic Regression."
   ]
  },
  {
   "cell_type": "code",
   "execution_count": 77,
   "metadata": {},
   "outputs": [],
   "source": [
    "df = pd.DataFrame(svm_grid.best_estimator_.coef_, columns = new_order).transpose()"
   ]
  },
  {
   "cell_type": "code",
   "execution_count": 78,
   "metadata": {},
   "outputs": [
    {
     "data": {
      "text/html": [
       "<div>\n",
       "<style scoped>\n",
       "    .dataframe tbody tr th:only-of-type {\n",
       "        vertical-align: middle;\n",
       "    }\n",
       "\n",
       "    .dataframe tbody tr th {\n",
       "        vertical-align: top;\n",
       "    }\n",
       "\n",
       "    .dataframe thead th {\n",
       "        text-align: right;\n",
       "    }\n",
       "</style>\n",
       "<table border=\"1\" class=\"dataframe\">\n",
       "  <thead>\n",
       "    <tr style=\"text-align: right;\">\n",
       "      <th></th>\n",
       "      <th>0</th>\n",
       "      <th>square</th>\n",
       "      <th>sqrt</th>\n",
       "    </tr>\n",
       "  </thead>\n",
       "  <tbody>\n",
       "    <tr>\n",
       "      <th>TotalCharges</th>\n",
       "      <td>-0.765809</td>\n",
       "      <td>0.586464</td>\n",
       "      <td>0.765809</td>\n",
       "    </tr>\n",
       "    <tr>\n",
       "      <th>InternetService_Fiber optic</th>\n",
       "      <td>0.590489</td>\n",
       "      <td>0.348677</td>\n",
       "      <td>0.590489</td>\n",
       "    </tr>\n",
       "    <tr>\n",
       "      <th>InternetService_DSL</th>\n",
       "      <td>-0.367819</td>\n",
       "      <td>0.135290</td>\n",
       "      <td>0.367819</td>\n",
       "    </tr>\n",
       "    <tr>\n",
       "      <th>MonthlyCharges</th>\n",
       "      <td>0.333857</td>\n",
       "      <td>0.111460</td>\n",
       "      <td>0.333857</td>\n",
       "    </tr>\n",
       "    <tr>\n",
       "      <th>TechSupport</th>\n",
       "      <td>-0.332520</td>\n",
       "      <td>0.110569</td>\n",
       "      <td>0.332520</td>\n",
       "    </tr>\n",
       "    <tr>\n",
       "      <th>InternetService_No</th>\n",
       "      <td>-0.222670</td>\n",
       "      <td>0.049582</td>\n",
       "      <td>0.222670</td>\n",
       "    </tr>\n",
       "    <tr>\n",
       "      <th>OnlineBackup</th>\n",
       "      <td>-0.203544</td>\n",
       "      <td>0.041430</td>\n",
       "      <td>0.203544</td>\n",
       "    </tr>\n",
       "    <tr>\n",
       "      <th>PaymentMethod_Electronic check</th>\n",
       "      <td>0.193118</td>\n",
       "      <td>0.037294</td>\n",
       "      <td>0.193118</td>\n",
       "    </tr>\n",
       "    <tr>\n",
       "      <th>PaperlessBilling</th>\n",
       "      <td>0.158202</td>\n",
       "      <td>0.025028</td>\n",
       "      <td>0.158202</td>\n",
       "    </tr>\n",
       "    <tr>\n",
       "      <th>PaymentMethod_Credit card (automatic)</th>\n",
       "      <td>-0.149599</td>\n",
       "      <td>0.022380</td>\n",
       "      <td>0.149599</td>\n",
       "    </tr>\n",
       "  </tbody>\n",
       "</table>\n",
       "</div>"
      ],
      "text/plain": [
       "                                              0    square      sqrt\n",
       "TotalCharges                          -0.765809  0.586464  0.765809\n",
       "InternetService_Fiber optic            0.590489  0.348677  0.590489\n",
       "InternetService_DSL                   -0.367819  0.135290  0.367819\n",
       "MonthlyCharges                         0.333857  0.111460  0.333857\n",
       "TechSupport                           -0.332520  0.110569  0.332520\n",
       "InternetService_No                    -0.222670  0.049582  0.222670\n",
       "OnlineBackup                          -0.203544  0.041430  0.203544\n",
       "PaymentMethod_Electronic check         0.193118  0.037294  0.193118\n",
       "PaperlessBilling                       0.158202  0.025028  0.158202\n",
       "PaymentMethod_Credit card (automatic) -0.149599  0.022380  0.149599"
      ]
     },
     "execution_count": 78,
     "metadata": {},
     "output_type": "execute_result"
    }
   ],
   "source": [
    "df['square'] = df[0] ** 2\n",
    "df['sqrt'] = [np.sqrt(i) for i in df['square']]\n",
    "df = df.sort_values('sqrt', ascending=False)\n",
    "df[:10]"
   ]
  },
  {
   "cell_type": "code",
   "execution_count": 79,
   "metadata": {},
   "outputs": [],
   "source": [
    "top5 = df[df['sqrt'] > 0.25]"
   ]
  },
  {
   "cell_type": "code",
   "execution_count": 80,
   "metadata": {},
   "outputs": [
    {
     "name": "stderr",
     "output_type": "stream",
     "text": [
      "/Users/lawrencelove/Library/Python/3.8/lib/python/site-packages/seaborn/_decorators.py:36: FutureWarning: Pass the following variables as keyword args: x, y. From version 0.12, the only valid positional argument will be `data`, and passing other arguments without an explicit keyword will result in an error or misinterpretation.\n",
      "  warnings.warn(\n"
     ]
    },
    {
     "data": {
      "image/png": "[encoded data removed]",
      "text/plain": [
       "<Figure size 936x576 with 1 Axes>"
      ]
     },
     "metadata": {
      "needs_background": "light"
     },
     "output_type": "display_data"
    }
   ],
   "source": [
    "plt.figure(figsize=(13,8))\n",
    "ax = sns.barplot(top5.index, top5['sqrt'])\n",
    "ax.set_xticklabels(ax.get_xticklabels(), rotation=45, fontsize=12)\n",
    "plt.show()"
   ]
  },
  {
   "cell_type": "markdown",
   "metadata": {},
   "source": [
    "**SVM** with another take on feature importances, considers **TotalCharges** most important. Then, **InternetService_Fiber optic**, **InternetService_DSL**, **MonthlyCharges**, and **TechSupport**."
   ]
  },
  {
   "cell_type": "markdown",
   "metadata": {},
   "source": [
    "### IV.iv SMOTE"
   ]
  },
  {
   "cell_type": "markdown",
   "metadata": {},
   "source": [
    "Now, let's implement SMOTE and see if we get any improvements."
   ]
  },
  {
   "cell_type": "code",
   "execution_count": 81,
   "metadata": {},
   "outputs": [],
   "source": [
    "from imblearn.over_sampling import SMOTE"
   ]
  },
  {
   "cell_type": "code",
   "execution_count": 82,
   "metadata": {},
   "outputs": [],
   "source": [
    "smt = SMOTE(random_state = 2021) \n",
    "x_smt, y_smt = smt.fit_sample(train_prep, train_labels) "
   ]
  },
  {
   "cell_type": "code",
   "execution_count": 83,
   "metadata": {},
   "outputs": [],
   "source": [
    "param_grid = {\n",
    "    'n_estimators': random.randint(100,600,3),\n",
    "    'max_features' : random.randint(10,29,3),\n",
    "    'max_depth' : [3,4,5],\n",
    "    'bootstrap' : [True, False]\n",
    "}"
   ]
  },
  {
   "cell_type": "code",
   "execution_count": 84,
   "metadata": {},
   "outputs": [
    {
     "data": {
      "text/plain": [
       "RandomizedSearchCV(cv=3, estimator=RandomForestClassifier(random_state=2021),\n",
       "                   param_distributions={'bootstrap': [True, False],\n",
       "                                        'max_depth': [3, 4, 5],\n",
       "                                        'max_features': array([25, 22, 17]),\n",
       "                                        'n_estimators': array([530, 129, 459])},\n",
       "                   scoring='accuracy')"
      ]
     },
     "execution_count": 84,
     "metadata": {},
     "output_type": "execute_result"
    }
   ],
   "source": [
    "rf_clf = RandomForestClassifier(random_state=2021)\n",
    "rf_grid = RandomizedSearchCV(rf_clf, param_grid, cv=3, scoring='accuracy')\n",
    "rf_grid.fit(x_smt, y_smt)"
   ]
  },
  {
   "cell_type": "code",
   "execution_count": 85,
   "metadata": {},
   "outputs": [],
   "source": [
    "final_model = rf_grid.best_estimator_\n",
    "rf_preds = final_model.predict(test_prep)\n",
    "rfmod_pred_score = accuracy_score(test_labels, rf_preds)\n",
    "rfmod_recall = recall_score(test_labels, rf_preds, pos_label='Yes')"
   ]
  },
  {
   "cell_type": "code",
   "execution_count": 86,
   "metadata": {},
   "outputs": [
    {
     "name": "stdout",
     "output_type": "stream",
     "text": [
      "Train error rate = 20.50%\n",
      "Test error rate = 23.03%\n",
      "Test Recall = 76.92%\n"
     ]
    }
   ],
   "source": [
    "print('Train error rate = %.2f%%' % ((1 - rf_grid.best_score_) * 100))\n",
    "print('Test error rate = %.2f%%' % ((1 - rfmod_pred_score) * 100))\n",
    "print('Test Recall = %.2f%%' % (rfmod_recall * 100))"
   ]
  },
  {
   "cell_type": "code",
   "execution_count": 87,
   "metadata": {},
   "outputs": [
    {
     "name": "stdout",
     "output_type": "stream",
     "text": [
      "              precision    recall  f1-score   support\n",
      "\n",
      "          No       0.90      0.77      0.83       769\n",
      "         Yes       0.55      0.77      0.64       286\n",
      "\n",
      "    accuracy                           0.77      1055\n",
      "   macro avg       0.73      0.77      0.74      1055\n",
      "weighted avg       0.81      0.77      0.78      1055\n",
      "\n"
     ]
    }
   ],
   "source": [
    "print(classification_report(test_labels, rf_preds))"
   ]
  },
  {
   "cell_type": "markdown",
   "metadata": {},
   "source": [
    "#### Logistic Regression"
   ]
  },
  {
   "cell_type": "code",
   "execution_count": 88,
   "metadata": {},
   "outputs": [],
   "source": [
    "# Outline parameters to test\n",
    "param_grid = [\n",
    "    {'max_iter': random.randint(100,600,3), 'C': [.1,.5,1], 'penalty': ['l2'], 'solver': ['lbfgs'], 'tol': [.01, .001, .0001]},\n",
    "    {'max_iter': random.randint(100,600,3), 'penalty': ['none'], 'tol': [.01, .001, .0001]},  \n",
    "    {'max_iter': random.randint(100,600,3), 'C': [.1,.5,1], 'penalty': ['l1'], 'solver': ['liblinear'], 'tol': [.01, .001, .0001]},\n",
    "    {'max_iter': random.randint(100,600,3), 'C': [.1,.5,1], 'penalty': ['elasticnet'], 'solver': ['saga'], 'l1_ratio':[.25, .5, .75], 'tol': [.01, .001, .0001]}\n",
    "]"
   ]
  },
  {
   "cell_type": "code",
   "execution_count": 89,
   "metadata": {},
   "outputs": [
    {
     "data": {
      "text/plain": [
       "RandomizedSearchCV(cv=3, estimator=LogisticRegression(),\n",
       "                   param_distributions=[{'C': [0.1, 0.5, 1],\n",
       "                                         'max_iter': array([331, 288, 582]),\n",
       "                                         'penalty': ['l2'], 'solver': ['lbfgs'],\n",
       "                                         'tol': [0.01, 0.001, 0.0001]},\n",
       "                                        {'max_iter': array([102, 103, 591]),\n",
       "                                         'penalty': ['none'],\n",
       "                                         'tol': [0.01, 0.001, 0.0001]},\n",
       "                                        {'C': [0.1, 0.5, 1],\n",
       "                                         'max_iter': array([398, 437, 140]),\n",
       "                                         'penalty': ['l1'],\n",
       "                                         'solver': ['liblinear'],\n",
       "                                         'tol': [0.01, 0.001, 0.0001]},\n",
       "                                        {'C': [0.1, 0.5, 1],\n",
       "                                         'l1_ratio': [0.25, 0.5, 0.75],\n",
       "                                         'max_iter': array([454, 386, 468]),\n",
       "                                         'penalty': ['elasticnet'],\n",
       "                                         'solver': ['saga'],\n",
       "                                         'tol': [0.01, 0.001, 0.0001]}],\n",
       "                   scoring='accuracy')"
      ]
     },
     "execution_count": 89,
     "metadata": {},
     "output_type": "execute_result"
    }
   ],
   "source": [
    "log_clf = LogisticRegression()\n",
    "log_grid = RandomizedSearchCV(log_clf, param_grid, cv=3, scoring='accuracy')\n",
    "log_grid.fit(x_smt, y_smt)"
   ]
  },
  {
   "cell_type": "code",
   "execution_count": 90,
   "metadata": {},
   "outputs": [],
   "source": [
    "final_model = log_grid.best_estimator_\n",
    "log_preds = final_model.predict(test_prep)\n",
    "logmod_pred_score = accuracy_score(test_labels, log_preds)\n",
    "logmod_recall = recall_score(test_labels, log_preds, pos_label='Yes')"
   ]
  },
  {
   "cell_type": "code",
   "execution_count": 91,
   "metadata": {},
   "outputs": [
    {
     "name": "stdout",
     "output_type": "stream",
     "text": [
      "Train error rate = 21.96%\n",
      "Test error rate = 26.07%\n",
      "Test Recall = 75.52%\n"
     ]
    }
   ],
   "source": [
    "print('Train error rate = %.2f%%' % ((1 - log_grid.best_score_) * 100))\n",
    "print('Test error rate = %.2f%%' % ((1 - logmod_pred_score) * 100))\n",
    "print('Test Recall = %.2f%%' % (logmod_recall * 100))"
   ]
  },
  {
   "cell_type": "code",
   "execution_count": 92,
   "metadata": {},
   "outputs": [
    {
     "name": "stdout",
     "output_type": "stream",
     "text": [
      "              precision    recall  f1-score   support\n",
      "\n",
      "          No       0.89      0.73      0.80       769\n",
      "         Yes       0.51      0.76      0.61       286\n",
      "\n",
      "    accuracy                           0.74      1055\n",
      "   macro avg       0.70      0.74      0.71      1055\n",
      "weighted avg       0.79      0.74      0.75      1055\n",
      "\n"
     ]
    }
   ],
   "source": [
    "print(classification_report(test_labels, log_preds))"
   ]
  },
  {
   "cell_type": "markdown",
   "metadata": {},
   "source": [
    "#### Support Vector Machine"
   ]
  },
  {
   "cell_type": "code",
   "execution_count": 93,
   "metadata": {},
   "outputs": [],
   "source": [
    "param_grid = [    \n",
    "    {'C': [.1,1,10], 'max_iter': random.randint(1000,3000,3), 'tol': [1e-4, 1e-10], 'gamma' : [3,5,7]},\n",
    "    {'C': [.1,1,10], 'max_iter': [-1], 'tol': [1e-4, 1e-10]},\n",
    "    {'C': [.1,1,10], 'max_iter': random.randint(1000,3000,3), 'kernel': ['linear']}\n",
    "  ]"
   ]
  },
  {
   "cell_type": "code",
   "execution_count": 94,
   "metadata": {},
   "outputs": [
    {
     "name": "stderr",
     "output_type": "stream",
     "text": [
      "/Users/lawrencelove/Library/Python/3.8/lib/python/site-packages/sklearn/svm/_base.py:246: ConvergenceWarning: Solver terminated early (max_iter=1032).  Consider pre-processing your data with StandardScaler or MinMaxScaler.\n",
      "  warnings.warn('Solver terminated early (max_iter=%i).'\n",
      "/Users/lawrencelove/Library/Python/3.8/lib/python/site-packages/sklearn/svm/_base.py:246: ConvergenceWarning: Solver terminated early (max_iter=1032).  Consider pre-processing your data with StandardScaler or MinMaxScaler.\n",
      "  warnings.warn('Solver terminated early (max_iter=%i).'\n",
      "/Users/lawrencelove/Library/Python/3.8/lib/python/site-packages/sklearn/svm/_base.py:246: ConvergenceWarning: Solver terminated early (max_iter=1032).  Consider pre-processing your data with StandardScaler or MinMaxScaler.\n",
      "  warnings.warn('Solver terminated early (max_iter=%i).'\n",
      "/Users/lawrencelove/Library/Python/3.8/lib/python/site-packages/sklearn/svm/_base.py:246: ConvergenceWarning: Solver terminated early (max_iter=1988).  Consider pre-processing your data with StandardScaler or MinMaxScaler.\n",
      "  warnings.warn('Solver terminated early (max_iter=%i).'\n",
      "/Users/lawrencelove/Library/Python/3.8/lib/python/site-packages/sklearn/svm/_base.py:246: ConvergenceWarning: Solver terminated early (max_iter=1988).  Consider pre-processing your data with StandardScaler or MinMaxScaler.\n",
      "  warnings.warn('Solver terminated early (max_iter=%i).'\n",
      "/Users/lawrencelove/Library/Python/3.8/lib/python/site-packages/sklearn/svm/_base.py:246: ConvergenceWarning: Solver terminated early (max_iter=1988).  Consider pre-processing your data with StandardScaler or MinMaxScaler.\n",
      "  warnings.warn('Solver terminated early (max_iter=%i).'\n",
      "/Users/lawrencelove/Library/Python/3.8/lib/python/site-packages/sklearn/svm/_base.py:246: ConvergenceWarning: Solver terminated early (max_iter=1924).  Consider pre-processing your data with StandardScaler or MinMaxScaler.\n",
      "  warnings.warn('Solver terminated early (max_iter=%i).'\n",
      "/Users/lawrencelove/Library/Python/3.8/lib/python/site-packages/sklearn/svm/_base.py:246: ConvergenceWarning: Solver terminated early (max_iter=1924).  Consider pre-processing your data with StandardScaler or MinMaxScaler.\n",
      "  warnings.warn('Solver terminated early (max_iter=%i).'\n",
      "/Users/lawrencelove/Library/Python/3.8/lib/python/site-packages/sklearn/svm/_base.py:246: ConvergenceWarning: Solver terminated early (max_iter=1924).  Consider pre-processing your data with StandardScaler or MinMaxScaler.\n",
      "  warnings.warn('Solver terminated early (max_iter=%i).'\n",
      "/Users/lawrencelove/Library/Python/3.8/lib/python/site-packages/sklearn/svm/_base.py:246: ConvergenceWarning: Solver terminated early (max_iter=1032).  Consider pre-processing your data with StandardScaler or MinMaxScaler.\n",
      "  warnings.warn('Solver terminated early (max_iter=%i).'\n",
      "/Users/lawrencelove/Library/Python/3.8/lib/python/site-packages/sklearn/svm/_base.py:246: ConvergenceWarning: Solver terminated early (max_iter=1032).  Consider pre-processing your data with StandardScaler or MinMaxScaler.\n",
      "  warnings.warn('Solver terminated early (max_iter=%i).'\n",
      "/Users/lawrencelove/Library/Python/3.8/lib/python/site-packages/sklearn/svm/_base.py:246: ConvergenceWarning: Solver terminated early (max_iter=1032).  Consider pre-processing your data with StandardScaler or MinMaxScaler.\n",
      "  warnings.warn('Solver terminated early (max_iter=%i).'\n",
      "/Users/lawrencelove/Library/Python/3.8/lib/python/site-packages/sklearn/svm/_base.py:246: ConvergenceWarning: Solver terminated early (max_iter=1924).  Consider pre-processing your data with StandardScaler or MinMaxScaler.\n",
      "  warnings.warn('Solver terminated early (max_iter=%i).'\n",
      "/Users/lawrencelove/Library/Python/3.8/lib/python/site-packages/sklearn/svm/_base.py:246: ConvergenceWarning: Solver terminated early (max_iter=1924).  Consider pre-processing your data with StandardScaler or MinMaxScaler.\n",
      "  warnings.warn('Solver terminated early (max_iter=%i).'\n",
      "/Users/lawrencelove/Library/Python/3.8/lib/python/site-packages/sklearn/svm/_base.py:246: ConvergenceWarning: Solver terminated early (max_iter=1924).  Consider pre-processing your data with StandardScaler or MinMaxScaler.\n",
      "  warnings.warn('Solver terminated early (max_iter=%i).'\n",
      "/Users/lawrencelove/Library/Python/3.8/lib/python/site-packages/sklearn/svm/_base.py:246: ConvergenceWarning: Solver terminated early (max_iter=2296).  Consider pre-processing your data with StandardScaler or MinMaxScaler.\n",
      "  warnings.warn('Solver terminated early (max_iter=%i).'\n",
      "/Users/lawrencelove/Library/Python/3.8/lib/python/site-packages/sklearn/svm/_base.py:246: ConvergenceWarning: Solver terminated early (max_iter=2296).  Consider pre-processing your data with StandardScaler or MinMaxScaler.\n",
      "  warnings.warn('Solver terminated early (max_iter=%i).'\n",
      "/Users/lawrencelove/Library/Python/3.8/lib/python/site-packages/sklearn/svm/_base.py:246: ConvergenceWarning: Solver terminated early (max_iter=2296).  Consider pre-processing your data with StandardScaler or MinMaxScaler.\n",
      "  warnings.warn('Solver terminated early (max_iter=%i).'\n",
      "/Users/lawrencelove/Library/Python/3.8/lib/python/site-packages/sklearn/svm/_base.py:246: ConvergenceWarning: Solver terminated early (max_iter=1924).  Consider pre-processing your data with StandardScaler or MinMaxScaler.\n",
      "  warnings.warn('Solver terminated early (max_iter=%i).'\n",
      "/Users/lawrencelove/Library/Python/3.8/lib/python/site-packages/sklearn/svm/_base.py:246: ConvergenceWarning: Solver terminated early (max_iter=1924).  Consider pre-processing your data with StandardScaler or MinMaxScaler.\n",
      "  warnings.warn('Solver terminated early (max_iter=%i).'\n",
      "/Users/lawrencelove/Library/Python/3.8/lib/python/site-packages/sklearn/svm/_base.py:246: ConvergenceWarning: Solver terminated early (max_iter=1924).  Consider pre-processing your data with StandardScaler or MinMaxScaler.\n",
      "  warnings.warn('Solver terminated early (max_iter=%i).'\n",
      "/Users/lawrencelove/Library/Python/3.8/lib/python/site-packages/sklearn/svm/_base.py:246: ConvergenceWarning: Solver terminated early (max_iter=1924).  Consider pre-processing your data with StandardScaler or MinMaxScaler.\n",
      "  warnings.warn('Solver terminated early (max_iter=%i).'\n",
      "/Users/lawrencelove/Library/Python/3.8/lib/python/site-packages/sklearn/svm/_base.py:246: ConvergenceWarning: Solver terminated early (max_iter=1924).  Consider pre-processing your data with StandardScaler or MinMaxScaler.\n",
      "  warnings.warn('Solver terminated early (max_iter=%i).'\n",
      "/Users/lawrencelove/Library/Python/3.8/lib/python/site-packages/sklearn/svm/_base.py:246: ConvergenceWarning: Solver terminated early (max_iter=1924).  Consider pre-processing your data with StandardScaler or MinMaxScaler.\n",
      "  warnings.warn('Solver terminated early (max_iter=%i).'\n",
      "/Users/lawrencelove/Library/Python/3.8/lib/python/site-packages/sklearn/svm/_base.py:246: ConvergenceWarning: Solver terminated early (max_iter=2118).  Consider pre-processing your data with StandardScaler or MinMaxScaler.\n",
      "  warnings.warn('Solver terminated early (max_iter=%i).'\n",
      "/Users/lawrencelove/Library/Python/3.8/lib/python/site-packages/sklearn/svm/_base.py:246: ConvergenceWarning: Solver terminated early (max_iter=2118).  Consider pre-processing your data with StandardScaler or MinMaxScaler.\n",
      "  warnings.warn('Solver terminated early (max_iter=%i).'\n",
      "/Users/lawrencelove/Library/Python/3.8/lib/python/site-packages/sklearn/svm/_base.py:246: ConvergenceWarning: Solver terminated early (max_iter=2118).  Consider pre-processing your data with StandardScaler or MinMaxScaler.\n",
      "  warnings.warn('Solver terminated early (max_iter=%i).'\n",
      "/Users/lawrencelove/Library/Python/3.8/lib/python/site-packages/sklearn/svm/_base.py:246: ConvergenceWarning: Solver terminated early (max_iter=1032).  Consider pre-processing your data with StandardScaler or MinMaxScaler.\n",
      "  warnings.warn('Solver terminated early (max_iter=%i).'\n",
      "/Users/lawrencelove/Library/Python/3.8/lib/python/site-packages/sklearn/svm/_base.py:246: ConvergenceWarning: Solver terminated early (max_iter=1032).  Consider pre-processing your data with StandardScaler or MinMaxScaler.\n",
      "  warnings.warn('Solver terminated early (max_iter=%i).'\n",
      "/Users/lawrencelove/Library/Python/3.8/lib/python/site-packages/sklearn/svm/_base.py:246: ConvergenceWarning: Solver terminated early (max_iter=1032).  Consider pre-processing your data with StandardScaler or MinMaxScaler.\n",
      "  warnings.warn('Solver terminated early (max_iter=%i).'\n",
      "/Users/lawrencelove/Library/Python/3.8/lib/python/site-packages/sklearn/svm/_base.py:246: ConvergenceWarning: Solver terminated early (max_iter=1032).  Consider pre-processing your data with StandardScaler or MinMaxScaler.\n",
      "  warnings.warn('Solver terminated early (max_iter=%i).'\n",
      "/Users/lawrencelove/Library/Python/3.8/lib/python/site-packages/sklearn/svm/_base.py:246: ConvergenceWarning: Solver terminated early (max_iter=1032).  Consider pre-processing your data with StandardScaler or MinMaxScaler.\n",
      "  warnings.warn('Solver terminated early (max_iter=%i).'\n",
      "/Users/lawrencelove/Library/Python/3.8/lib/python/site-packages/sklearn/svm/_base.py:246: ConvergenceWarning: Solver terminated early (max_iter=1032).  Consider pre-processing your data with StandardScaler or MinMaxScaler.\n",
      "  warnings.warn('Solver terminated early (max_iter=%i).'\n",
      "/Users/lawrencelove/Library/Python/3.8/lib/python/site-packages/sklearn/svm/_base.py:246: ConvergenceWarning: Solver terminated early (max_iter=1032).  Consider pre-processing your data with StandardScaler or MinMaxScaler.\n",
      "  warnings.warn('Solver terminated early (max_iter=%i).'\n",
      "/Users/lawrencelove/Library/Python/3.8/lib/python/site-packages/sklearn/svm/_base.py:246: ConvergenceWarning: Solver terminated early (max_iter=1032).  Consider pre-processing your data with StandardScaler or MinMaxScaler.\n",
      "  warnings.warn('Solver terminated early (max_iter=%i).'\n",
      "/Users/lawrencelove/Library/Python/3.8/lib/python/site-packages/sklearn/svm/_base.py:246: ConvergenceWarning: Solver terminated early (max_iter=1032).  Consider pre-processing your data with StandardScaler or MinMaxScaler.\n",
      "  warnings.warn('Solver terminated early (max_iter=%i).'\n",
      "/Users/lawrencelove/Library/Python/3.8/lib/python/site-packages/sklearn/svm/_base.py:246: ConvergenceWarning: Solver terminated early (max_iter=1924).  Consider pre-processing your data with StandardScaler or MinMaxScaler.\n",
      "  warnings.warn('Solver terminated early (max_iter=%i).'\n",
      "/Users/lawrencelove/Library/Python/3.8/lib/python/site-packages/sklearn/svm/_base.py:246: ConvergenceWarning: Solver terminated early (max_iter=1924).  Consider pre-processing your data with StandardScaler or MinMaxScaler.\n",
      "  warnings.warn('Solver terminated early (max_iter=%i).'\n",
      "/Users/lawrencelove/Library/Python/3.8/lib/python/site-packages/sklearn/svm/_base.py:246: ConvergenceWarning: Solver terminated early (max_iter=1924).  Consider pre-processing your data with StandardScaler or MinMaxScaler.\n",
      "  warnings.warn('Solver terminated early (max_iter=%i).'\n",
      "/Users/lawrencelove/Library/Python/3.8/lib/python/site-packages/sklearn/svm/_base.py:246: ConvergenceWarning: Solver terminated early (max_iter=1924).  Consider pre-processing your data with StandardScaler or MinMaxScaler.\n",
      "  warnings.warn('Solver terminated early (max_iter=%i).'\n"
     ]
    },
    {
     "data": {
      "text/plain": [
       "RandomizedSearchCV(cv=3, estimator=SVC(random_state=2021), n_iter=15,\n",
       "                   param_distributions=[{'C': [0.1, 1, 10], 'gamma': [3, 5, 7],\n",
       "                                         'max_iter': array([1924, 2296, 1032]),\n",
       "                                         'tol': [0.0001, 1e-10]},\n",
       "                                        {'C': [0.1, 1, 10], 'max_iter': [-1],\n",
       "                                         'tol': [0.0001, 1e-10]},\n",
       "                                        {'C': [0.1, 1, 10],\n",
       "                                         'kernel': ['linear'],\n",
       "                                         'max_iter': array([1988, 1938, 2118])}],\n",
       "                   scoring='accuracy')"
      ]
     },
     "execution_count": 94,
     "metadata": {},
     "output_type": "execute_result"
    }
   ],
   "source": [
    "# Numerous convergence warnings\n",
    "svm_clf = SVC(random_state=2021)\n",
    "svm_grid = RandomizedSearchCV(svm_clf, param_grid, cv=3,\n",
    "                           scoring='accuracy',\n",
    "                           n_iter=15)\n",
    "svm_grid.fit(x_smt, y_smt)"
   ]
  },
  {
   "cell_type": "code",
   "execution_count": 95,
   "metadata": {},
   "outputs": [],
   "source": [
    "final_model = svm_grid.best_estimator_\n",
    "svm_preds = final_model.predict(test_prep)\n",
    "svmmod_pred_score = accuracy_score(test_labels, svm_preds)\n",
    "svmmod_recall = recall_score(test_labels, svm_preds, pos_label='Yes')"
   ]
  },
  {
   "cell_type": "code",
   "execution_count": 96,
   "metadata": {},
   "outputs": [
    {
     "name": "stdout",
     "output_type": "stream",
     "text": [
      "Train error rate = 11.04%\n",
      "Test error rate = 25.02%\n",
      "Test Recall = 37.76%\n"
     ]
    }
   ],
   "source": [
    "print('Train error rate = %.2f%%' % ((1 - svm_grid.best_score_) * 100))\n",
    "print('Test error rate = %.2f%%' % ((1 - svmmod_pred_score) * 100))\n",
    "print('Test Recall = %.2f%%' % (svmmod_recall * 100))"
   ]
  },
  {
   "cell_type": "code",
   "execution_count": 97,
   "metadata": {},
   "outputs": [
    {
     "name": "stdout",
     "output_type": "stream",
     "text": [
      "              precision    recall  f1-score   support\n",
      "\n",
      "          No       0.79      0.89      0.84       769\n",
      "         Yes       0.56      0.38      0.45       286\n",
      "\n",
      "    accuracy                           0.75      1055\n",
      "   macro avg       0.67      0.63      0.64      1055\n",
      "weighted avg       0.73      0.75      0.73      1055\n",
      "\n"
     ]
    }
   ],
   "source": [
    "print(classification_report(test_labels, svm_preds))"
   ]
  },
  {
   "cell_type": "markdown",
   "metadata": {},
   "source": [
    "## V. Conclusions"
   ]
  },
  {
   "cell_type": "markdown",
   "metadata": {},
   "source": [
    "Let's wrap it all up/summarize and make some conclusions. We can use all this information to raise some more questions as well."
   ]
  },
  {
   "cell_type": "code",
   "execution_count": 98,
   "metadata": {},
   "outputs": [],
   "source": [
    "all_recall = [rfmod_recall, logmod_recall, svmmod_recall]"
   ]
  },
  {
   "cell_type": "code",
   "execution_count": 99,
   "metadata": {},
   "outputs": [],
   "source": [
    "all_acc = [rfmod_pred_score, logmod_pred_score, svmmod_pred_score]"
   ]
  },
  {
   "cell_type": "code",
   "execution_count": 100,
   "metadata": {},
   "outputs": [],
   "source": [
    "df = pd.DataFrame(list(zip(all_recall, all_acc)), columns =['Recall', 'Accuracy'])"
   ]
  },
  {
   "cell_type": "code",
   "execution_count": 101,
   "metadata": {},
   "outputs": [],
   "source": [
    "df['Model'] = ['Random Forest', 'Logistic Regresssion', 'Support Vector Machine']"
   ]
  },
  {
   "cell_type": "code",
   "execution_count": 102,
   "metadata": {},
   "outputs": [],
   "source": [
    "df = df[['Model', 'Recall', 'Accuracy']].reset_index(drop=True)"
   ]
  },
  {
   "cell_type": "code",
   "execution_count": 103,
   "metadata": {},
   "outputs": [
    {
     "data": {
      "image/png": "[encoded data removed]",
      "text/plain": [
       "<Figure size 648x504 with 1 Axes>"
      ]
     },
     "metadata": {},
     "output_type": "display_data"
    },
    {
     "data": {
      "text/html": [
       "<div>\n",
       "<style scoped>\n",
       "    .dataframe tbody tr th:only-of-type {\n",
       "        vertical-align: middle;\n",
       "    }\n",
       "\n",
       "    .dataframe tbody tr th {\n",
       "        vertical-align: top;\n",
       "    }\n",
       "\n",
       "    .dataframe thead th {\n",
       "        text-align: right;\n",
       "    }\n",
       "</style>\n",
       "<table border=\"1\" class=\"dataframe\">\n",
       "  <thead>\n",
       "    <tr style=\"text-align: right;\">\n",
       "      <th></th>\n",
       "      <th>Model</th>\n",
       "      <th>Recall</th>\n",
       "      <th>Accuracy</th>\n",
       "    </tr>\n",
       "  </thead>\n",
       "  <tbody>\n",
       "    <tr>\n",
       "      <th>0</th>\n",
       "      <td>Random Forest</td>\n",
       "      <td>0.769231</td>\n",
       "      <td>0.769668</td>\n",
       "    </tr>\n",
       "    <tr>\n",
       "      <th>1</th>\n",
       "      <td>Logistic Regresssion</td>\n",
       "      <td>0.755245</td>\n",
       "      <td>0.739336</td>\n",
       "    </tr>\n",
       "    <tr>\n",
       "      <th>2</th>\n",
       "      <td>Support Vector Machine</td>\n",
       "      <td>0.377622</td>\n",
       "      <td>0.749763</td>\n",
       "    </tr>\n",
       "  </tbody>\n",
       "</table>\n",
       "</div>"
      ],
      "text/plain": [
       "                    Model    Recall  Accuracy\n",
       "0           Random Forest  0.769231  0.769668\n",
       "1    Logistic Regresssion  0.755245  0.739336\n",
       "2  Support Vector Machine  0.377622  0.749763"
      ]
     },
     "execution_count": 103,
     "metadata": {},
     "output_type": "execute_result"
    }
   ],
   "source": [
    "plt.style.use('seaborn')\n",
    "ax = df.plot(x='Model', y=['Accuracy', 'Recall'], kind=\"bar\", \n",
    "             width=.4, ylim=(0,.99), figsize=(9,7), title='Scores')\n",
    "ax.set_xticklabels(ax.get_xticklabels(), rotation=45, fontsize=12)\n",
    "plt.yticks(np.arange(0, 1, step=0.1))\n",
    "ax.set_xlabel(\"\")\n",
    "plt.legend(prop={'size': 12}, loc=1)\n",
    "plt.show()\n",
    "\n",
    "df"
   ]
  },
  {
   "cell_type": "markdown",
   "metadata": {},
   "source": [
    "If we aggregate the feature importances, we find that our most important features are: **InternetService_Fiber optic**, **MonthlyCharges**, **TotalCharges**, and **tenure**. These features were most commonly in the top 5 of our models' feature importances.\n",
    "\n",
    "When we consider the Exploratory Data Analysis we did, it is clear that this company has some issue with their **Month-to-month** customers. What kind of incentives can this company offer to customers to get them to sign **One-year** or **Two-year** contracts? What adjustments can be made to **Month-to-Month** contracts that would be more favorable to customers, without taking away the appeal of a **One-year** or **Two-year** contract?\n",
    "\n",
    "**InternetService** was another important factor in making predictions, specifically, **Fiber optic internet service**. We are not privy to the historical timing of this data, but it is a major problem that more people with **fiber optic internet service** are leaving than with **DSL internet service**. With fiber optics being the newer technology, maybe it’s possible that the company was still working out some kinks? Regardless, if the newer (and supposed to be more efficient) technology is causing people to run from your company, you have a problem. More in-depth research is needed to fully understand this **InternetService** issue, but at the least we now know that it is an area to focus on.\n",
    "\n",
    "As far as model performance, Random Forest with SMOTE performed best. Second place goes to the Logistic Regression, and Support Vector Machine last.\n",
    "\n",
    "We were able to learn a lot from the project: how long customers are staying with the company, which features are most likely to contribute to customers leaving, and we have 3 different models to test for predicting customer churning. Most importantly, we've raised concerns that allow for some questions to be answered, for further investigation to be completed, and for more information to be gathered. We now have targets to focus in on and conduct a new study in the future."
   ]
  }
 ],
 "metadata": {
  "kernelspec": {
   "display_name": "Python 3",
   "language": "python",
   "name": "python3"
  },
  "language_info": {
   "codemirror_mode": {
    "name": "ipython",
    "version": 3
   },
   "file_extension": ".py",
   "mimetype": "text/x-python",
   "name": "python",
   "nbconvert_exporter": "python",
   "pygments_lexer": "ipython3",
   "version": "3.8.2"
  }
 },
 "nbformat": 4,
 "nbformat_minor": 4
}
